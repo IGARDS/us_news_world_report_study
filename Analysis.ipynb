{
 "cells": [
  {
   "cell_type": "markdown",
   "metadata": {
    "slideshow": {
     "slide_type": "slide"
    }
   },
   "source": [
    "# US News World Report Analysis"
   ]
  },
  {
   "cell_type": "code",
   "execution_count": 1,
   "metadata": {
    "slideshow": {
     "slide_type": "skip"
    }
   },
   "outputs": [],
   "source": [
    "%matplotlib inline\n",
    "%load_ext autoreload\n",
    "%autoreload 2"
   ]
  },
  {
   "cell_type": "code",
   "execution_count": 2,
   "metadata": {
    "slideshow": {
     "slide_type": "skip"
    }
   },
   "outputs": [],
   "source": [
    "import pandas as pd\n",
    "import numpy as np"
   ]
  },
  {
   "cell_type": "code",
   "execution_count": 3,
   "metadata": {
    "slideshow": {
     "slide_type": "skip"
    }
   },
   "outputs": [],
   "source": [
    "import networkx as nx\n",
    "from networkx.drawing.nx_agraph import graphviz_layout, to_agraph\n",
    "import pygraphviz as pgv\n",
    "\n",
    "from IPython.display import Image\n",
    "def draw(A):\n",
    "    return Image(A.draw(format='png', prog='dot'))"
   ]
  },
  {
   "cell_type": "code",
   "execution_count": 4,
   "metadata": {
    "slideshow": {
     "slide_type": "skip"
    }
   },
   "outputs": [],
   "source": [
    "import sys\n",
    "from pathlib import Path\n",
    "home = str(Path.home())\n",
    "\n",
    "sys.path.insert(0,\"%s/rankability_toolbox_dev\"%home)\n",
    "sys.path.insert(0,\"%s/RPLib\"%home)"
   ]
  },
  {
   "cell_type": "code",
   "execution_count": 5,
   "metadata": {
    "slideshow": {
     "slide_type": "skip"
    }
   },
   "outputs": [],
   "source": [
    "import pyrankability"
   ]
  },
  {
   "cell_type": "code",
   "execution_count": 6,
   "metadata": {
    "slideshow": {
     "slide_type": "skip"
    }
   },
   "outputs": [],
   "source": [
    "import pyrplib"
   ]
  },
  {
   "cell_type": "code",
   "execution_count": 7,
   "metadata": {
    "slideshow": {
     "slide_type": "skip"
    }
   },
   "outputs": [],
   "source": [
    "years = list(range(2002,2002+1))"
   ]
  },
  {
   "cell_type": "code",
   "execution_count": 8,
   "metadata": {
    "slideshow": {
     "slide_type": "skip"
    }
   },
   "outputs": [
    {
     "data": {
      "text/plain": [
       "['Amherst College',\n",
       " 'Bowdoin College',\n",
       " 'Carleton College',\n",
       " 'Claremont McKenna College',\n",
       " 'Davidson College',\n",
       " 'Haverford College',\n",
       " 'Middlebury College',\n",
       " 'Pomona College',\n",
       " 'Swarthmore College',\n",
       " 'Wellesley College',\n",
       " 'Williams College']"
      ]
     },
     "execution_count": 8,
     "metadata": {},
     "output_type": "execute_result"
    }
   ],
   "source": [
    "colleges = \"\"\"\n",
    "Amherst College\n",
    "Bowdoin College\n",
    "Carleton College\n",
    "Claremont McKenna College\n",
    "Davidson College\n",
    "Haverford College\n",
    "Middlebury College\n",
    "Pomona College\n",
    "Swarthmore College\n",
    "Wellesley College\n",
    "Williams College\n",
    "\"\"\".strip().split('\\n')\n",
    "colleges"
   ]
  },
  {
   "cell_type": "code",
   "execution_count": 55,
   "metadata": {
    "slideshow": {
     "slide_type": "subslide"
    }
   },
   "outputs": [
    {
     "data": {
      "text/plain": [
       "0               Amherst College\n",
       "1               Bowdoin College\n",
       "2              Carleton College\n",
       "3     Claremont McKenna College\n",
       "4              Davidson College\n",
       "5             Haverford College\n",
       "6            Middlebury College\n",
       "7                Pomona College\n",
       "8            Swarthmore College\n",
       "9             Wellesley College\n",
       "10             Williams College\n",
       "dtype: object"
      ]
     },
     "execution_count": 55,
     "metadata": {},
     "output_type": "execute_result"
    }
   ],
   "source": [
    "pd.Series(colleges)"
   ]
  },
  {
   "cell_type": "code",
   "execution_count": 9,
   "metadata": {
    "slideshow": {
     "slide_type": "skip"
    }
   },
   "outputs": [
    {
     "name": "stderr",
     "output_type": "stream",
     "text": [
      "/opt/tljh/user/lib/python3.7/site-packages/ipykernel_launcher.py:5: FutureWarning: The default value of regex will change from True to False in a future version.\n",
      "  \"\"\"\n"
     ]
    }
   ],
   "source": [
    "data = {}\n",
    "for year in years:\n",
    "    data[year] = pd.read_excel('data/USNews liberal arts 2002-2016.xls',sheet_name=str(year))\n",
    "    data[year]['School Name'] = data[year]['School Name'].str.replace('!','')\n",
    "    data[year]['State'] = data[year]['State'].str.replace('\\(','').str.replace('\\)','')\n",
    "    df = pd.DataFrame(list(data[year]['SAT/ACT 25th-75th Percentile'].str.split('-')),columns=['SAT/ACT 25th Percentile','SAT/ACT 75th Percentile'])\n",
    "    data[year] = pd.concat([data[year],df],axis=1)\n",
    "    data[year] = data[year].infer_objects()\n",
    "    data[year]['SAT/ACT 25th-75th Percentile Mean'] = (data[year]['SAT/ACT 25th Percentile'].astype(int)+data[year]['SAT/ACT 75th Percentile'].astype(int))/2\n"
   ]
  },
  {
   "cell_type": "code",
   "execution_count": 10,
   "metadata": {
    "slideshow": {
     "slide_type": "skip"
    }
   },
   "outputs": [],
   "source": [
    "student_columns = {}\n",
    "parent_columns = {}"
   ]
  },
  {
   "cell_type": "code",
   "execution_count": 11,
   "metadata": {
    "slideshow": {
     "slide_type": "subslide"
    }
   },
   "outputs": [
    {
     "data": {
      "text/plain": [
       "['Selectivity Rank',\n",
       " 'Acceptance Rate',\n",
       " 'SAT/ACT 25th-75th Percentile Mean',\n",
       " 'Percent of Classes with Less Than 20 Students',\n",
       " 'Student/Faculty Ratio']"
      ]
     },
     "execution_count": 11,
     "metadata": {},
     "output_type": "execute_result"
    }
   ],
   "source": [
    "columns = list(data[2002].columns)\n",
    "student_columns[2002] = [columns[13],columns[16],columns[22],columns[9],columns[11]]\n",
    "student_columns[2002]"
   ]
  },
  {
   "cell_type": "code",
   "execution_count": 12,
   "metadata": {
    "slideshow": {
     "slide_type": "subslide"
    }
   },
   "outputs": [
    {
     "data": {
      "text/plain": [
       "['Actual 6-year Graduation Rate',\n",
       " 'Percent of Classes with Less Than 20 Students',\n",
       " 'Student/Faculty Ratio',\n",
       " 'Selectivity Rank',\n",
       " 'Acceptance Rate']"
      ]
     },
     "execution_count": 12,
     "metadata": {},
     "output_type": "execute_result"
    }
   ],
   "source": [
    "parent_columns[2002] = [columns[6],columns[9],columns[11],columns[13],columns[16]]\n",
    "parent_columns[2002]"
   ]
  },
  {
   "cell_type": "markdown",
   "metadata": {
    "slideshow": {
     "slide_type": "skip"
    }
   },
   "source": [
    "Do we have all the colleges? "
   ]
  },
  {
   "cell_type": "code",
   "execution_count": 13,
   "metadata": {
    "slideshow": {
     "slide_type": "skip"
    }
   },
   "outputs": [
    {
     "data": {
      "text/plain": [
       "True"
      ]
     },
     "execution_count": 13,
     "metadata": {},
     "output_type": "execute_result"
    }
   ],
   "source": [
    "sum(data[2002]['School Name'].isin(colleges)) == len(colleges)"
   ]
  },
  {
   "cell_type": "markdown",
   "metadata": {
    "slideshow": {
     "slide_type": "subslide"
    }
   },
   "source": [
    "## Transform all the columns so they are the same direction as Final Rank column"
   ]
  },
  {
   "cell_type": "code",
   "execution_count": 14,
   "metadata": {
    "slideshow": {
     "slide_type": "skip"
    }
   },
   "outputs": [],
   "source": [
    "data2 = {}\n",
    "for year in years:\n",
    "    data2[year] = data[year].set_index('School Name')\n",
    "    data2[year] = data2[year].loc[colleges]"
   ]
  },
  {
   "cell_type": "code",
   "execution_count": 15,
   "metadata": {
    "slideshow": {
     "slide_type": "skip"
    }
   },
   "outputs": [],
   "source": [
    "from sklearn.pipeline import Pipeline\n",
    "Ds = pd.DataFrame(columns=['Year','Group','D']).set_index(['Year','Group'])\n",
    "for year in years:\n",
    "    parent_pipe = Pipeline([('fix_sign', pyrplib.transformers.ColumnDirectionTransformer('Final Rank')),\n",
    "                            ('count_transformer', pyrplib.transformers.ColumnCountTransformer(parent_columns[year]))\n",
    "                    ])\n",
    "\n",
    "    student_pipe = Pipeline([('fix_sign', pyrplib.transformers.ColumnDirectionTransformer('Final Rank')),\n",
    "                            ('count_transformer', pyrplib.transformers.ColumnCountTransformer(student_columns[year]))\n",
    "                    ])\n",
    "\n",
    "    both_pipe = Pipeline([('fix_sign', pyrplib.transformers.ColumnDirectionTransformer('Final Rank')),\n",
    "                            ('count_transformer', pyrplib.transformers.ColumnCountTransformer(parent_columns[year]+student_columns[year]))\n",
    "                    ])\n",
    "\n",
    "    parent_pipe.fit(data2[year])\n",
    "    D = parent_pipe.transform(data2[year])\n",
    "    Ds = Ds.append(pd.Series([D],index=['D'],name=(year,'Parent')))\n",
    "    \n",
    "    student_pipe.fit(data2[year])\n",
    "    D = student_pipe.transform(data2[year])\n",
    "    Ds = Ds.append(pd.Series([D],index=['D'],name=(year,'Student')))\n",
    "    \n",
    "    both_pipe.fit(data2[year])\n",
    "    D = both_pipe.transform(data2[year])\n",
    "    Ds = Ds.append(pd.Series([D],index=['D'],name=(year,'Both')))"
   ]
  },
  {
   "cell_type": "code",
   "execution_count": 16,
   "metadata": {
    "slideshow": {
     "slide_type": "subslide"
    }
   },
   "outputs": [
    {
     "data": {
      "text/html": [
       "<div>\n",
       "<style scoped>\n",
       "    .dataframe tbody tr th:only-of-type {\n",
       "        vertical-align: middle;\n",
       "    }\n",
       "\n",
       "    .dataframe tbody tr th {\n",
       "        vertical-align: top;\n",
       "    }\n",
       "\n",
       "    .dataframe thead th {\n",
       "        text-align: right;\n",
       "    }\n",
       "</style>\n",
       "<table border=\"1\" class=\"dataframe\">\n",
       "  <thead>\n",
       "    <tr style=\"text-align: right;\">\n",
       "      <th></th>\n",
       "      <th>Amherst College</th>\n",
       "      <th>Bowdoin College</th>\n",
       "      <th>Carleton College</th>\n",
       "      <th>Claremont McKenna College</th>\n",
       "      <th>Davidson College</th>\n",
       "      <th>Haverford College</th>\n",
       "      <th>Middlebury College</th>\n",
       "      <th>Pomona College</th>\n",
       "      <th>Swarthmore College</th>\n",
       "      <th>Wellesley College</th>\n",
       "      <th>Williams College</th>\n",
       "    </tr>\n",
       "    <tr>\n",
       "      <th>School Name1</th>\n",
       "      <th></th>\n",
       "      <th></th>\n",
       "      <th></th>\n",
       "      <th></th>\n",
       "      <th></th>\n",
       "      <th></th>\n",
       "      <th></th>\n",
       "      <th></th>\n",
       "      <th></th>\n",
       "      <th></th>\n",
       "      <th></th>\n",
       "    </tr>\n",
       "  </thead>\n",
       "  <tbody>\n",
       "    <tr>\n",
       "      <th>Amherst College</th>\n",
       "      <td>0.0</td>\n",
       "      <td>8.0</td>\n",
       "      <td>6.0</td>\n",
       "      <td>10.0</td>\n",
       "      <td>8.0</td>\n",
       "      <td>8.0</td>\n",
       "      <td>5.0</td>\n",
       "      <td>7.0</td>\n",
       "      <td>5.0</td>\n",
       "      <td>10.0</td>\n",
       "      <td>7.0</td>\n",
       "    </tr>\n",
       "    <tr>\n",
       "      <th>Bowdoin College</th>\n",
       "      <td>2.0</td>\n",
       "      <td>0.0</td>\n",
       "      <td>7.0</td>\n",
       "      <td>7.0</td>\n",
       "      <td>9.0</td>\n",
       "      <td>5.0</td>\n",
       "      <td>3.0</td>\n",
       "      <td>5.0</td>\n",
       "      <td>2.0</td>\n",
       "      <td>8.0</td>\n",
       "      <td>2.0</td>\n",
       "    </tr>\n",
       "    <tr>\n",
       "      <th>Carleton College</th>\n",
       "      <td>4.0</td>\n",
       "      <td>3.0</td>\n",
       "      <td>0.0</td>\n",
       "      <td>5.0</td>\n",
       "      <td>5.0</td>\n",
       "      <td>3.0</td>\n",
       "      <td>3.0</td>\n",
       "      <td>3.0</td>\n",
       "      <td>2.0</td>\n",
       "      <td>5.0</td>\n",
       "      <td>4.0</td>\n",
       "    </tr>\n",
       "    <tr>\n",
       "      <th>Claremont McKenna College</th>\n",
       "      <td>0.0</td>\n",
       "      <td>3.0</td>\n",
       "      <td>5.0</td>\n",
       "      <td>0.0</td>\n",
       "      <td>7.0</td>\n",
       "      <td>7.0</td>\n",
       "      <td>2.0</td>\n",
       "      <td>5.0</td>\n",
       "      <td>0.0</td>\n",
       "      <td>7.0</td>\n",
       "      <td>2.0</td>\n",
       "    </tr>\n",
       "    <tr>\n",
       "      <th>Davidson College</th>\n",
       "      <td>2.0</td>\n",
       "      <td>1.0</td>\n",
       "      <td>5.0</td>\n",
       "      <td>3.0</td>\n",
       "      <td>0.0</td>\n",
       "      <td>2.0</td>\n",
       "      <td>3.0</td>\n",
       "      <td>3.0</td>\n",
       "      <td>2.0</td>\n",
       "      <td>7.0</td>\n",
       "      <td>2.0</td>\n",
       "    </tr>\n",
       "    <tr>\n",
       "      <th>Haverford College</th>\n",
       "      <td>2.0</td>\n",
       "      <td>5.0</td>\n",
       "      <td>7.0</td>\n",
       "      <td>3.0</td>\n",
       "      <td>8.0</td>\n",
       "      <td>0.0</td>\n",
       "      <td>5.0</td>\n",
       "      <td>3.0</td>\n",
       "      <td>3.0</td>\n",
       "      <td>10.0</td>\n",
       "      <td>4.0</td>\n",
       "    </tr>\n",
       "    <tr>\n",
       "      <th>Middlebury College</th>\n",
       "      <td>5.0</td>\n",
       "      <td>7.0</td>\n",
       "      <td>7.0</td>\n",
       "      <td>8.0</td>\n",
       "      <td>7.0</td>\n",
       "      <td>5.0</td>\n",
       "      <td>0.0</td>\n",
       "      <td>5.0</td>\n",
       "      <td>4.0</td>\n",
       "      <td>9.0</td>\n",
       "      <td>5.0</td>\n",
       "    </tr>\n",
       "    <tr>\n",
       "      <th>Pomona College</th>\n",
       "      <td>3.0</td>\n",
       "      <td>5.0</td>\n",
       "      <td>7.0</td>\n",
       "      <td>5.0</td>\n",
       "      <td>7.0</td>\n",
       "      <td>7.0</td>\n",
       "      <td>5.0</td>\n",
       "      <td>0.0</td>\n",
       "      <td>3.0</td>\n",
       "      <td>9.0</td>\n",
       "      <td>5.0</td>\n",
       "    </tr>\n",
       "    <tr>\n",
       "      <th>Swarthmore College</th>\n",
       "      <td>5.0</td>\n",
       "      <td>8.0</td>\n",
       "      <td>8.0</td>\n",
       "      <td>10.0</td>\n",
       "      <td>8.0</td>\n",
       "      <td>7.0</td>\n",
       "      <td>6.0</td>\n",
       "      <td>7.0</td>\n",
       "      <td>0.0</td>\n",
       "      <td>10.0</td>\n",
       "      <td>7.0</td>\n",
       "    </tr>\n",
       "    <tr>\n",
       "      <th>Wellesley College</th>\n",
       "      <td>0.0</td>\n",
       "      <td>2.0</td>\n",
       "      <td>5.0</td>\n",
       "      <td>3.0</td>\n",
       "      <td>3.0</td>\n",
       "      <td>0.0</td>\n",
       "      <td>1.0</td>\n",
       "      <td>1.0</td>\n",
       "      <td>0.0</td>\n",
       "      <td>0.0</td>\n",
       "      <td>4.0</td>\n",
       "    </tr>\n",
       "    <tr>\n",
       "      <th>Williams College</th>\n",
       "      <td>3.0</td>\n",
       "      <td>8.0</td>\n",
       "      <td>6.0</td>\n",
       "      <td>8.0</td>\n",
       "      <td>8.0</td>\n",
       "      <td>6.0</td>\n",
       "      <td>5.0</td>\n",
       "      <td>5.0</td>\n",
       "      <td>3.0</td>\n",
       "      <td>6.0</td>\n",
       "      <td>0.0</td>\n",
       "    </tr>\n",
       "  </tbody>\n",
       "</table>\n",
       "</div>"
      ],
      "text/plain": [
       "                           Amherst College  Bowdoin College  Carleton College  \\\n",
       "School Name1                                                                    \n",
       "Amherst College                        0.0              8.0               6.0   \n",
       "Bowdoin College                        2.0              0.0               7.0   \n",
       "Carleton College                       4.0              3.0               0.0   \n",
       "Claremont McKenna College              0.0              3.0               5.0   \n",
       "Davidson College                       2.0              1.0               5.0   \n",
       "Haverford College                      2.0              5.0               7.0   \n",
       "Middlebury College                     5.0              7.0               7.0   \n",
       "Pomona College                         3.0              5.0               7.0   \n",
       "Swarthmore College                     5.0              8.0               8.0   \n",
       "Wellesley College                      0.0              2.0               5.0   \n",
       "Williams College                       3.0              8.0               6.0   \n",
       "\n",
       "                           Claremont McKenna College  Davidson College  \\\n",
       "School Name1                                                             \n",
       "Amherst College                                 10.0               8.0   \n",
       "Bowdoin College                                  7.0               9.0   \n",
       "Carleton College                                 5.0               5.0   \n",
       "Claremont McKenna College                        0.0               7.0   \n",
       "Davidson College                                 3.0               0.0   \n",
       "Haverford College                                3.0               8.0   \n",
       "Middlebury College                               8.0               7.0   \n",
       "Pomona College                                   5.0               7.0   \n",
       "Swarthmore College                              10.0               8.0   \n",
       "Wellesley College                                3.0               3.0   \n",
       "Williams College                                 8.0               8.0   \n",
       "\n",
       "                           Haverford College  Middlebury College  \\\n",
       "School Name1                                                       \n",
       "Amherst College                          8.0                 5.0   \n",
       "Bowdoin College                          5.0                 3.0   \n",
       "Carleton College                         3.0                 3.0   \n",
       "Claremont McKenna College                7.0                 2.0   \n",
       "Davidson College                         2.0                 3.0   \n",
       "Haverford College                        0.0                 5.0   \n",
       "Middlebury College                       5.0                 0.0   \n",
       "Pomona College                           7.0                 5.0   \n",
       "Swarthmore College                       7.0                 6.0   \n",
       "Wellesley College                        0.0                 1.0   \n",
       "Williams College                         6.0                 5.0   \n",
       "\n",
       "                           Pomona College  Swarthmore College  \\\n",
       "School Name1                                                    \n",
       "Amherst College                       7.0                 5.0   \n",
       "Bowdoin College                       5.0                 2.0   \n",
       "Carleton College                      3.0                 2.0   \n",
       "Claremont McKenna College             5.0                 0.0   \n",
       "Davidson College                      3.0                 2.0   \n",
       "Haverford College                     3.0                 3.0   \n",
       "Middlebury College                    5.0                 4.0   \n",
       "Pomona College                        0.0                 3.0   \n",
       "Swarthmore College                    7.0                 0.0   \n",
       "Wellesley College                     1.0                 0.0   \n",
       "Williams College                      5.0                 3.0   \n",
       "\n",
       "                           Wellesley College  Williams College  \n",
       "School Name1                                                    \n",
       "Amherst College                         10.0               7.0  \n",
       "Bowdoin College                          8.0               2.0  \n",
       "Carleton College                         5.0               4.0  \n",
       "Claremont McKenna College                7.0               2.0  \n",
       "Davidson College                         7.0               2.0  \n",
       "Haverford College                       10.0               4.0  \n",
       "Middlebury College                       9.0               5.0  \n",
       "Pomona College                           9.0               5.0  \n",
       "Swarthmore College                      10.0               7.0  \n",
       "Wellesley College                        0.0               4.0  \n",
       "Williams College                         6.0               0.0  "
      ]
     },
     "execution_count": 16,
     "metadata": {},
     "output_type": "execute_result"
    }
   ],
   "source": [
    "Ds.loc[(2002,'Both'),'D']"
   ]
  },
  {
   "cell_type": "code",
   "execution_count": 17,
   "metadata": {
    "slideshow": {
     "slide_type": "subslide"
    }
   },
   "outputs": [
    {
     "data": {
      "text/html": [
       "<div>\n",
       "<style scoped>\n",
       "    .dataframe tbody tr th:only-of-type {\n",
       "        vertical-align: middle;\n",
       "    }\n",
       "\n",
       "    .dataframe tbody tr th {\n",
       "        vertical-align: top;\n",
       "    }\n",
       "\n",
       "    .dataframe thead th {\n",
       "        text-align: right;\n",
       "    }\n",
       "</style>\n",
       "<table border=\"1\" class=\"dataframe\">\n",
       "  <thead>\n",
       "    <tr style=\"text-align: right;\">\n",
       "      <th></th>\n",
       "      <th>Amherst College</th>\n",
       "      <th>Bowdoin College</th>\n",
       "      <th>Carleton College</th>\n",
       "      <th>Claremont McKenna College</th>\n",
       "      <th>Davidson College</th>\n",
       "      <th>Haverford College</th>\n",
       "      <th>Middlebury College</th>\n",
       "      <th>Pomona College</th>\n",
       "      <th>Swarthmore College</th>\n",
       "      <th>Wellesley College</th>\n",
       "      <th>Williams College</th>\n",
       "    </tr>\n",
       "    <tr>\n",
       "      <th>School Name1</th>\n",
       "      <th></th>\n",
       "      <th></th>\n",
       "      <th></th>\n",
       "      <th></th>\n",
       "      <th></th>\n",
       "      <th></th>\n",
       "      <th></th>\n",
       "      <th></th>\n",
       "      <th></th>\n",
       "      <th></th>\n",
       "      <th></th>\n",
       "    </tr>\n",
       "  </thead>\n",
       "  <tbody>\n",
       "    <tr>\n",
       "      <th>Amherst College</th>\n",
       "      <td>0.0</td>\n",
       "      <td>4.0</td>\n",
       "      <td>3.0</td>\n",
       "      <td>5.0</td>\n",
       "      <td>4.0</td>\n",
       "      <td>4.0</td>\n",
       "      <td>2.0</td>\n",
       "      <td>3.0</td>\n",
       "      <td>2.0</td>\n",
       "      <td>5.0</td>\n",
       "      <td>3.0</td>\n",
       "    </tr>\n",
       "    <tr>\n",
       "      <th>Bowdoin College</th>\n",
       "      <td>1.0</td>\n",
       "      <td>0.0</td>\n",
       "      <td>3.0</td>\n",
       "      <td>3.0</td>\n",
       "      <td>5.0</td>\n",
       "      <td>3.0</td>\n",
       "      <td>1.0</td>\n",
       "      <td>2.0</td>\n",
       "      <td>1.0</td>\n",
       "      <td>4.0</td>\n",
       "      <td>1.0</td>\n",
       "    </tr>\n",
       "    <tr>\n",
       "      <th>Carleton College</th>\n",
       "      <td>2.0</td>\n",
       "      <td>2.0</td>\n",
       "      <td>0.0</td>\n",
       "      <td>2.0</td>\n",
       "      <td>3.0</td>\n",
       "      <td>2.0</td>\n",
       "      <td>1.0</td>\n",
       "      <td>1.0</td>\n",
       "      <td>1.0</td>\n",
       "      <td>3.0</td>\n",
       "      <td>2.0</td>\n",
       "    </tr>\n",
       "    <tr>\n",
       "      <th>Claremont McKenna College</th>\n",
       "      <td>0.0</td>\n",
       "      <td>2.0</td>\n",
       "      <td>3.0</td>\n",
       "      <td>0.0</td>\n",
       "      <td>4.0</td>\n",
       "      <td>4.0</td>\n",
       "      <td>1.0</td>\n",
       "      <td>2.0</td>\n",
       "      <td>0.0</td>\n",
       "      <td>4.0</td>\n",
       "      <td>1.0</td>\n",
       "    </tr>\n",
       "    <tr>\n",
       "      <th>Davidson College</th>\n",
       "      <td>1.0</td>\n",
       "      <td>0.0</td>\n",
       "      <td>2.0</td>\n",
       "      <td>1.0</td>\n",
       "      <td>0.0</td>\n",
       "      <td>1.0</td>\n",
       "      <td>1.0</td>\n",
       "      <td>1.0</td>\n",
       "      <td>1.0</td>\n",
       "      <td>3.0</td>\n",
       "      <td>1.0</td>\n",
       "    </tr>\n",
       "    <tr>\n",
       "      <th>Haverford College</th>\n",
       "      <td>1.0</td>\n",
       "      <td>2.0</td>\n",
       "      <td>3.0</td>\n",
       "      <td>1.0</td>\n",
       "      <td>4.0</td>\n",
       "      <td>0.0</td>\n",
       "      <td>2.0</td>\n",
       "      <td>1.0</td>\n",
       "      <td>1.0</td>\n",
       "      <td>5.0</td>\n",
       "      <td>2.0</td>\n",
       "    </tr>\n",
       "    <tr>\n",
       "      <th>Middlebury College</th>\n",
       "      <td>3.0</td>\n",
       "      <td>4.0</td>\n",
       "      <td>4.0</td>\n",
       "      <td>4.0</td>\n",
       "      <td>4.0</td>\n",
       "      <td>3.0</td>\n",
       "      <td>0.0</td>\n",
       "      <td>2.0</td>\n",
       "      <td>2.0</td>\n",
       "      <td>5.0</td>\n",
       "      <td>3.0</td>\n",
       "    </tr>\n",
       "    <tr>\n",
       "      <th>Pomona College</th>\n",
       "      <td>2.0</td>\n",
       "      <td>3.0</td>\n",
       "      <td>4.0</td>\n",
       "      <td>3.0</td>\n",
       "      <td>4.0</td>\n",
       "      <td>4.0</td>\n",
       "      <td>3.0</td>\n",
       "      <td>0.0</td>\n",
       "      <td>2.0</td>\n",
       "      <td>5.0</td>\n",
       "      <td>3.0</td>\n",
       "    </tr>\n",
       "    <tr>\n",
       "      <th>Swarthmore College</th>\n",
       "      <td>3.0</td>\n",
       "      <td>4.0</td>\n",
       "      <td>4.0</td>\n",
       "      <td>5.0</td>\n",
       "      <td>4.0</td>\n",
       "      <td>4.0</td>\n",
       "      <td>3.0</td>\n",
       "      <td>3.0</td>\n",
       "      <td>0.0</td>\n",
       "      <td>5.0</td>\n",
       "      <td>4.0</td>\n",
       "    </tr>\n",
       "    <tr>\n",
       "      <th>Wellesley College</th>\n",
       "      <td>0.0</td>\n",
       "      <td>1.0</td>\n",
       "      <td>2.0</td>\n",
       "      <td>1.0</td>\n",
       "      <td>2.0</td>\n",
       "      <td>0.0</td>\n",
       "      <td>0.0</td>\n",
       "      <td>0.0</td>\n",
       "      <td>0.0</td>\n",
       "      <td>0.0</td>\n",
       "      <td>2.0</td>\n",
       "    </tr>\n",
       "    <tr>\n",
       "      <th>Williams College</th>\n",
       "      <td>2.0</td>\n",
       "      <td>4.0</td>\n",
       "      <td>3.0</td>\n",
       "      <td>4.0</td>\n",
       "      <td>4.0</td>\n",
       "      <td>3.0</td>\n",
       "      <td>2.0</td>\n",
       "      <td>2.0</td>\n",
       "      <td>1.0</td>\n",
       "      <td>3.0</td>\n",
       "      <td>0.0</td>\n",
       "    </tr>\n",
       "  </tbody>\n",
       "</table>\n",
       "</div>"
      ],
      "text/plain": [
       "                           Amherst College  Bowdoin College  Carleton College  \\\n",
       "School Name1                                                                    \n",
       "Amherst College                        0.0              4.0               3.0   \n",
       "Bowdoin College                        1.0              0.0               3.0   \n",
       "Carleton College                       2.0              2.0               0.0   \n",
       "Claremont McKenna College              0.0              2.0               3.0   \n",
       "Davidson College                       1.0              0.0               2.0   \n",
       "Haverford College                      1.0              2.0               3.0   \n",
       "Middlebury College                     3.0              4.0               4.0   \n",
       "Pomona College                         2.0              3.0               4.0   \n",
       "Swarthmore College                     3.0              4.0               4.0   \n",
       "Wellesley College                      0.0              1.0               2.0   \n",
       "Williams College                       2.0              4.0               3.0   \n",
       "\n",
       "                           Claremont McKenna College  Davidson College  \\\n",
       "School Name1                                                             \n",
       "Amherst College                                  5.0               4.0   \n",
       "Bowdoin College                                  3.0               5.0   \n",
       "Carleton College                                 2.0               3.0   \n",
       "Claremont McKenna College                        0.0               4.0   \n",
       "Davidson College                                 1.0               0.0   \n",
       "Haverford College                                1.0               4.0   \n",
       "Middlebury College                               4.0               4.0   \n",
       "Pomona College                                   3.0               4.0   \n",
       "Swarthmore College                               5.0               4.0   \n",
       "Wellesley College                                1.0               2.0   \n",
       "Williams College                                 4.0               4.0   \n",
       "\n",
       "                           Haverford College  Middlebury College  \\\n",
       "School Name1                                                       \n",
       "Amherst College                          4.0                 2.0   \n",
       "Bowdoin College                          3.0                 1.0   \n",
       "Carleton College                         2.0                 1.0   \n",
       "Claremont McKenna College                4.0                 1.0   \n",
       "Davidson College                         1.0                 1.0   \n",
       "Haverford College                        0.0                 2.0   \n",
       "Middlebury College                       3.0                 0.0   \n",
       "Pomona College                           4.0                 3.0   \n",
       "Swarthmore College                       4.0                 3.0   \n",
       "Wellesley College                        0.0                 0.0   \n",
       "Williams College                         3.0                 2.0   \n",
       "\n",
       "                           Pomona College  Swarthmore College  \\\n",
       "School Name1                                                    \n",
       "Amherst College                       3.0                 2.0   \n",
       "Bowdoin College                       2.0                 1.0   \n",
       "Carleton College                      1.0                 1.0   \n",
       "Claremont McKenna College             2.0                 0.0   \n",
       "Davidson College                      1.0                 1.0   \n",
       "Haverford College                     1.0                 1.0   \n",
       "Middlebury College                    2.0                 2.0   \n",
       "Pomona College                        0.0                 2.0   \n",
       "Swarthmore College                    3.0                 0.0   \n",
       "Wellesley College                     0.0                 0.0   \n",
       "Williams College                      2.0                 1.0   \n",
       "\n",
       "                           Wellesley College  Williams College  \n",
       "School Name1                                                    \n",
       "Amherst College                          5.0               3.0  \n",
       "Bowdoin College                          4.0               1.0  \n",
       "Carleton College                         3.0               2.0  \n",
       "Claremont McKenna College                4.0               1.0  \n",
       "Davidson College                         3.0               1.0  \n",
       "Haverford College                        5.0               2.0  \n",
       "Middlebury College                       5.0               3.0  \n",
       "Pomona College                           5.0               3.0  \n",
       "Swarthmore College                       5.0               4.0  \n",
       "Wellesley College                        0.0               2.0  \n",
       "Williams College                         3.0               0.0  "
      ]
     },
     "execution_count": 17,
     "metadata": {},
     "output_type": "execute_result"
    }
   ],
   "source": [
    "Ds.loc[(2002,'Student'),'D']"
   ]
  },
  {
   "cell_type": "code",
   "execution_count": 18,
   "metadata": {
    "slideshow": {
     "slide_type": "subslide"
    }
   },
   "outputs": [
    {
     "data": {
      "text/html": [
       "<div>\n",
       "<style scoped>\n",
       "    .dataframe tbody tr th:only-of-type {\n",
       "        vertical-align: middle;\n",
       "    }\n",
       "\n",
       "    .dataframe tbody tr th {\n",
       "        vertical-align: top;\n",
       "    }\n",
       "\n",
       "    .dataframe thead th {\n",
       "        text-align: right;\n",
       "    }\n",
       "</style>\n",
       "<table border=\"1\" class=\"dataframe\">\n",
       "  <thead>\n",
       "    <tr style=\"text-align: right;\">\n",
       "      <th></th>\n",
       "      <th>Amherst College</th>\n",
       "      <th>Bowdoin College</th>\n",
       "      <th>Carleton College</th>\n",
       "      <th>Claremont McKenna College</th>\n",
       "      <th>Davidson College</th>\n",
       "      <th>Haverford College</th>\n",
       "      <th>Middlebury College</th>\n",
       "      <th>Pomona College</th>\n",
       "      <th>Swarthmore College</th>\n",
       "      <th>Wellesley College</th>\n",
       "      <th>Williams College</th>\n",
       "    </tr>\n",
       "    <tr>\n",
       "      <th>School Name1</th>\n",
       "      <th></th>\n",
       "      <th></th>\n",
       "      <th></th>\n",
       "      <th></th>\n",
       "      <th></th>\n",
       "      <th></th>\n",
       "      <th></th>\n",
       "      <th></th>\n",
       "      <th></th>\n",
       "      <th></th>\n",
       "      <th></th>\n",
       "    </tr>\n",
       "  </thead>\n",
       "  <tbody>\n",
       "    <tr>\n",
       "      <th>Amherst College</th>\n",
       "      <td>0.0</td>\n",
       "      <td>4.0</td>\n",
       "      <td>3.0</td>\n",
       "      <td>5.0</td>\n",
       "      <td>4.0</td>\n",
       "      <td>4.0</td>\n",
       "      <td>3.0</td>\n",
       "      <td>4.0</td>\n",
       "      <td>3.0</td>\n",
       "      <td>5.0</td>\n",
       "      <td>4.0</td>\n",
       "    </tr>\n",
       "    <tr>\n",
       "      <th>Bowdoin College</th>\n",
       "      <td>1.0</td>\n",
       "      <td>0.0</td>\n",
       "      <td>4.0</td>\n",
       "      <td>4.0</td>\n",
       "      <td>4.0</td>\n",
       "      <td>2.0</td>\n",
       "      <td>2.0</td>\n",
       "      <td>3.0</td>\n",
       "      <td>1.0</td>\n",
       "      <td>4.0</td>\n",
       "      <td>1.0</td>\n",
       "    </tr>\n",
       "    <tr>\n",
       "      <th>Carleton College</th>\n",
       "      <td>2.0</td>\n",
       "      <td>1.0</td>\n",
       "      <td>0.0</td>\n",
       "      <td>3.0</td>\n",
       "      <td>2.0</td>\n",
       "      <td>1.0</td>\n",
       "      <td>2.0</td>\n",
       "      <td>2.0</td>\n",
       "      <td>1.0</td>\n",
       "      <td>2.0</td>\n",
       "      <td>2.0</td>\n",
       "    </tr>\n",
       "    <tr>\n",
       "      <th>Claremont McKenna College</th>\n",
       "      <td>0.0</td>\n",
       "      <td>1.0</td>\n",
       "      <td>2.0</td>\n",
       "      <td>0.0</td>\n",
       "      <td>3.0</td>\n",
       "      <td>3.0</td>\n",
       "      <td>1.0</td>\n",
       "      <td>3.0</td>\n",
       "      <td>0.0</td>\n",
       "      <td>3.0</td>\n",
       "      <td>1.0</td>\n",
       "    </tr>\n",
       "    <tr>\n",
       "      <th>Davidson College</th>\n",
       "      <td>1.0</td>\n",
       "      <td>1.0</td>\n",
       "      <td>3.0</td>\n",
       "      <td>2.0</td>\n",
       "      <td>0.0</td>\n",
       "      <td>1.0</td>\n",
       "      <td>2.0</td>\n",
       "      <td>2.0</td>\n",
       "      <td>1.0</td>\n",
       "      <td>4.0</td>\n",
       "      <td>1.0</td>\n",
       "    </tr>\n",
       "    <tr>\n",
       "      <th>Haverford College</th>\n",
       "      <td>1.0</td>\n",
       "      <td>3.0</td>\n",
       "      <td>4.0</td>\n",
       "      <td>2.0</td>\n",
       "      <td>4.0</td>\n",
       "      <td>0.0</td>\n",
       "      <td>3.0</td>\n",
       "      <td>2.0</td>\n",
       "      <td>2.0</td>\n",
       "      <td>5.0</td>\n",
       "      <td>2.0</td>\n",
       "    </tr>\n",
       "    <tr>\n",
       "      <th>Middlebury College</th>\n",
       "      <td>2.0</td>\n",
       "      <td>3.0</td>\n",
       "      <td>3.0</td>\n",
       "      <td>4.0</td>\n",
       "      <td>3.0</td>\n",
       "      <td>2.0</td>\n",
       "      <td>0.0</td>\n",
       "      <td>3.0</td>\n",
       "      <td>2.0</td>\n",
       "      <td>4.0</td>\n",
       "      <td>2.0</td>\n",
       "    </tr>\n",
       "    <tr>\n",
       "      <th>Pomona College</th>\n",
       "      <td>1.0</td>\n",
       "      <td>2.0</td>\n",
       "      <td>3.0</td>\n",
       "      <td>2.0</td>\n",
       "      <td>3.0</td>\n",
       "      <td>3.0</td>\n",
       "      <td>2.0</td>\n",
       "      <td>0.0</td>\n",
       "      <td>1.0</td>\n",
       "      <td>4.0</td>\n",
       "      <td>2.0</td>\n",
       "    </tr>\n",
       "    <tr>\n",
       "      <th>Swarthmore College</th>\n",
       "      <td>2.0</td>\n",
       "      <td>4.0</td>\n",
       "      <td>4.0</td>\n",
       "      <td>5.0</td>\n",
       "      <td>4.0</td>\n",
       "      <td>3.0</td>\n",
       "      <td>3.0</td>\n",
       "      <td>4.0</td>\n",
       "      <td>0.0</td>\n",
       "      <td>5.0</td>\n",
       "      <td>3.0</td>\n",
       "    </tr>\n",
       "    <tr>\n",
       "      <th>Wellesley College</th>\n",
       "      <td>0.0</td>\n",
       "      <td>1.0</td>\n",
       "      <td>3.0</td>\n",
       "      <td>2.0</td>\n",
       "      <td>1.0</td>\n",
       "      <td>0.0</td>\n",
       "      <td>1.0</td>\n",
       "      <td>1.0</td>\n",
       "      <td>0.0</td>\n",
       "      <td>0.0</td>\n",
       "      <td>2.0</td>\n",
       "    </tr>\n",
       "    <tr>\n",
       "      <th>Williams College</th>\n",
       "      <td>1.0</td>\n",
       "      <td>4.0</td>\n",
       "      <td>3.0</td>\n",
       "      <td>4.0</td>\n",
       "      <td>4.0</td>\n",
       "      <td>3.0</td>\n",
       "      <td>3.0</td>\n",
       "      <td>3.0</td>\n",
       "      <td>2.0</td>\n",
       "      <td>3.0</td>\n",
       "      <td>0.0</td>\n",
       "    </tr>\n",
       "  </tbody>\n",
       "</table>\n",
       "</div>"
      ],
      "text/plain": [
       "                           Amherst College  Bowdoin College  Carleton College  \\\n",
       "School Name1                                                                    \n",
       "Amherst College                        0.0              4.0               3.0   \n",
       "Bowdoin College                        1.0              0.0               4.0   \n",
       "Carleton College                       2.0              1.0               0.0   \n",
       "Claremont McKenna College              0.0              1.0               2.0   \n",
       "Davidson College                       1.0              1.0               3.0   \n",
       "Haverford College                      1.0              3.0               4.0   \n",
       "Middlebury College                     2.0              3.0               3.0   \n",
       "Pomona College                         1.0              2.0               3.0   \n",
       "Swarthmore College                     2.0              4.0               4.0   \n",
       "Wellesley College                      0.0              1.0               3.0   \n",
       "Williams College                       1.0              4.0               3.0   \n",
       "\n",
       "                           Claremont McKenna College  Davidson College  \\\n",
       "School Name1                                                             \n",
       "Amherst College                                  5.0               4.0   \n",
       "Bowdoin College                                  4.0               4.0   \n",
       "Carleton College                                 3.0               2.0   \n",
       "Claremont McKenna College                        0.0               3.0   \n",
       "Davidson College                                 2.0               0.0   \n",
       "Haverford College                                2.0               4.0   \n",
       "Middlebury College                               4.0               3.0   \n",
       "Pomona College                                   2.0               3.0   \n",
       "Swarthmore College                               5.0               4.0   \n",
       "Wellesley College                                2.0               1.0   \n",
       "Williams College                                 4.0               4.0   \n",
       "\n",
       "                           Haverford College  Middlebury College  \\\n",
       "School Name1                                                       \n",
       "Amherst College                          4.0                 3.0   \n",
       "Bowdoin College                          2.0                 2.0   \n",
       "Carleton College                         1.0                 2.0   \n",
       "Claremont McKenna College                3.0                 1.0   \n",
       "Davidson College                         1.0                 2.0   \n",
       "Haverford College                        0.0                 3.0   \n",
       "Middlebury College                       2.0                 0.0   \n",
       "Pomona College                           3.0                 2.0   \n",
       "Swarthmore College                       3.0                 3.0   \n",
       "Wellesley College                        0.0                 1.0   \n",
       "Williams College                         3.0                 3.0   \n",
       "\n",
       "                           Pomona College  Swarthmore College  \\\n",
       "School Name1                                                    \n",
       "Amherst College                       4.0                 3.0   \n",
       "Bowdoin College                       3.0                 1.0   \n",
       "Carleton College                      2.0                 1.0   \n",
       "Claremont McKenna College             3.0                 0.0   \n",
       "Davidson College                      2.0                 1.0   \n",
       "Haverford College                     2.0                 2.0   \n",
       "Middlebury College                    3.0                 2.0   \n",
       "Pomona College                        0.0                 1.0   \n",
       "Swarthmore College                    4.0                 0.0   \n",
       "Wellesley College                     1.0                 0.0   \n",
       "Williams College                      3.0                 2.0   \n",
       "\n",
       "                           Wellesley College  Williams College  \n",
       "School Name1                                                    \n",
       "Amherst College                          5.0               4.0  \n",
       "Bowdoin College                          4.0               1.0  \n",
       "Carleton College                         2.0               2.0  \n",
       "Claremont McKenna College                3.0               1.0  \n",
       "Davidson College                         4.0               1.0  \n",
       "Haverford College                        5.0               2.0  \n",
       "Middlebury College                       4.0               2.0  \n",
       "Pomona College                           4.0               2.0  \n",
       "Swarthmore College                       5.0               3.0  \n",
       "Wellesley College                        0.0               2.0  \n",
       "Williams College                         3.0               0.0  "
      ]
     },
     "execution_count": 18,
     "metadata": {},
     "output_type": "execute_result"
    }
   ],
   "source": [
    "Ds.loc[(2002,'Parent'),'D']"
   ]
  },
  {
   "cell_type": "markdown",
   "metadata": {
    "slideshow": {
     "slide_type": "subslide"
    }
   },
   "source": [
    "## Nearest and farthest from Centroid for combined columns, parent, and student"
   ]
  },
  {
   "cell_type": "code",
   "execution_count": 19,
   "metadata": {
    "slideshow": {
     "slide_type": "skip"
    }
   },
   "outputs": [
    {
     "name": "stdout",
     "output_type": "stream",
     "text": [
      "Using license file /home/jupyter-pander14/gurobi.lic\n",
      "Academic license - for non-commercial use only - expires 2021-04-12\n"
     ]
    }
   ],
   "source": [
    "class Details:\n",
    "    def __init__(self, **entries):\n",
    "        self.__dict__.update(entries)\n",
    "        \n",
    "for index in Ds.index:\n",
    "    D = Ds.loc[index,'D']\n",
    "    delta_cont, details_cont = pyrankability.rank.solve(D,method='lop',cont=True)\n",
    "    delta_bin, details_bin = pyrankability.rank.solve(D,method='lop',cont=False)\n",
    "    Ds.loc[index,'delta_cont'] = delta_cont\n",
    "    Ds.loc[index,'delta_bin'] = delta_bin\n",
    "    Ds.loc[index,'details_cont'] = Details(**details_cont)\n",
    "    Ds.loc[index,'details_bin'] = Details(**details_bin)\n",
    "    _, details_fixed_cont_x_maximize = pyrankability.search.solve_fixed_cont_x(D,details_bin['obj'],details_cont['x'],method='lop',minimize=False)\n",
    "    _, details_fixed_cont_x_minimize = pyrankability.search.solve_fixed_cont_x(D,details_bin['obj'],details_cont['x'],method='lop',minimize=True)    \n",
    "    Ds.loc[index,'details_fixed_cont_x_maximize'] = Details(**details_fixed_cont_x_maximize)\n",
    "    Ds.loc[index,'details_fixed_cont_x_minimize'] = Details(**details_fixed_cont_x_minimize)\n",
    "    "
   ]
  },
  {
   "cell_type": "markdown",
   "metadata": {
    "slideshow": {
     "slide_type": "subslide"
    }
   },
   "source": [
    "## Look at the continuous results"
   ]
  },
  {
   "cell_type": "code",
   "execution_count": 22,
   "metadata": {
    "slideshow": {
     "slide_type": "skip"
    }
   },
   "outputs": [],
   "source": [
    "def plot_xstars(Ds,show_score_xstar2_func=lambda xstars: pyrankability.plot.show_score_xstar2(xstars,\n",
    "                                                                     group_label=\"Group\",width=300,height=300,\n",
    "                                                                     columns=2,resolve_scale=True)):\n",
    "    label = \"A\"\n",
    "    xstars = {}\n",
    "    for index in Ds.index:\n",
    "        D = Ds.loc[index,'D']\n",
    "        xstar = pd.DataFrame(Ds.loc[index,'details_cont'].x,index=D.index,columns=D.columns)\n",
    "        xstars[\"%s. %s\"%(label,index)] = xstar\n",
    "        label = chr(ord(label)+1)\n",
    "    g,score_df,ordered_xstars = show_score_xstar2_func(xstars)\n",
    "    return g,score_df,ordered_xstars"
   ]
  },
  {
   "cell_type": "code",
   "execution_count": 23,
   "metadata": {
    "slideshow": {
     "slide_type": "subslide"
    }
   },
   "outputs": [
    {
     "data": {
      "text/html": [
       "\n",
       "<div id=\"altair-viz-e80d344c309946a4be7c0fe665b96d4e\"></div>\n",
       "<script type=\"text/javascript\">\n",
       "  (function(spec, embedOpt){\n",
       "    let outputDiv = document.currentScript.previousElementSibling;\n",
       "    if (outputDiv.id !== \"altair-viz-e80d344c309946a4be7c0fe665b96d4e\") {\n",
       "      outputDiv = document.getElementById(\"altair-viz-e80d344c309946a4be7c0fe665b96d4e\");\n",
       "    }\n",
       "    const paths = {\n",
       "      \"vega\": \"https://cdn.jsdelivr.net/npm//vega@5?noext\",\n",
       "      \"vega-lib\": \"https://cdn.jsdelivr.net/npm//vega-lib?noext\",\n",
       "      \"vega-lite\": \"https://cdn.jsdelivr.net/npm//vega-lite@4.8.1?noext\",\n",
       "      \"vega-embed\": \"https://cdn.jsdelivr.net/npm//vega-embed@6?noext\",\n",
       "    };\n",
       "\n",
       "    function loadScript(lib) {\n",
       "      return new Promise(function(resolve, reject) {\n",
       "        var s = document.createElement('script');\n",
       "        s.src = paths[lib];\n",
       "        s.async = true;\n",
       "        s.onload = () => resolve(paths[lib]);\n",
       "        s.onerror = () => reject(`Error loading script: ${paths[lib]}`);\n",
       "        document.getElementsByTagName(\"head\")[0].appendChild(s);\n",
       "      });\n",
       "    }\n",
       "\n",
       "    function showError(err) {\n",
       "      outputDiv.innerHTML = `<div class=\"error\" style=\"color:red;\">${err}</div>`;\n",
       "      throw err;\n",
       "    }\n",
       "\n",
       "    function displayChart(vegaEmbed) {\n",
       "      vegaEmbed(outputDiv, spec, embedOpt)\n",
       "        .catch(err => showError(`Javascript Error: ${err.message}<br>This usually means there's a typo in your chart specification. See the javascript console for the full traceback.`));\n",
       "    }\n",
       "\n",
       "    if(typeof define === \"function\" && define.amd) {\n",
       "      requirejs.config({paths});\n",
       "      require([\"vega-embed\"], displayChart, err => showError(`Error loading script: ${err.message}`));\n",
       "    } else if (typeof vegaEmbed === \"function\") {\n",
       "      displayChart(vegaEmbed);\n",
       "    } else {\n",
       "      loadScript(\"vega\")\n",
       "        .then(() => loadScript(\"vega-lite\"))\n",
       "        .then(() => loadScript(\"vega-embed\"))\n",
       "        .catch(showError)\n",
       "        .then(() => displayChart(vegaEmbed));\n",
       "    }\n",
       "  })({\"config\": {\"view\": {\"continuousWidth\": 400, \"continuousHeight\": 300}, \"axis\": {\"labelFontSize\": 10, \"titleFontSize\": 10}}, \"data\": {\"name\": \"data-6e4086d62101eaf0e43f9b01ea9d5cad\"}, \"facet\": {\"type\": \"nominal\", \"field\": \"Group\", \"header\": {\"labelFontSize\": 12, \"labelOrient\": \"bottom\"}, \"title\": null}, \"spec\": {\"mark\": \"square\", \"encoding\": {\"color\": {\"type\": \"nominal\", \"field\": \"c\", \"scale\": null}, \"x\": {\"type\": \"nominal\", \"axis\": {\"labelFontSize\": 8, \"labelOverlap\": false}, \"field\": \"i\", \"sort\": {\"field\": \"ri\", \"order\": \"ascending\"}, \"title\": \"r\"}, \"y\": {\"type\": \"nominal\", \"axis\": {\"labelFontSize\": 8, \"labelOverlap\": false}, \"field\": \"j\", \"sort\": {\"field\": \"rj\", \"order\": \"ascending\"}, \"title\": \"r\"}}, \"height\": 300, \"width\": 300}, \"columns\": 2, \"resolve\": {\"scale\": {\"x\": \"independent\", \"y\": \"independent\"}}, \"$schema\": \"https://vega.github.io/schema/vega-lite/v4.8.1.json\", \"datasets\": {\"data-6e4086d62101eaf0e43f9b01ea9d5cad\": [{\"i\": \"Amherst College\", \"j\": \"Amherst College\", \"x\": 0.0, \"Group\": \"A. (2002, 'Parent')\", \"ri\": 1.5876189252139739e-12, \"rj\": 1.5876189252139739e-12, \"c\": \"black\"}, {\"i\": \"Amherst College\", \"j\": \"Bowdoin College\", \"x\": 1.0, \"Group\": \"A. (2002, 'Parent')\", \"ri\": 1.5876189252139739e-12, \"rj\": 4.482651886418098, \"c\": \"white\"}, {\"i\": \"Amherst College\", \"j\": \"Carleton College\", \"x\": 1.0, \"Group\": \"A. (2002, 'Parent')\", \"ri\": 1.5876189252139739e-12, \"rj\": 9.999999999947692, \"c\": \"white\"}, {\"i\": \"Amherst College\", \"j\": \"Claremont McKenna College\", \"x\": 1.0, \"Group\": \"A. (2002, 'Parent')\", \"ri\": 1.5876189252139739e-12, \"rj\": 5.482651886464377, \"c\": \"white\"}, {\"i\": \"Amherst College\", \"j\": \"Davidson College\", \"x\": 1.0, \"Group\": \"A. (2002, 'Parent')\", \"ri\": 1.5876189252139739e-12, \"rj\": 8.000000000002762, \"c\": \"white\"}, {\"i\": \"Amherst College\", \"j\": \"Haverford College\", \"x\": 1.0, \"Group\": \"A. (2002, 'Parent')\", \"ri\": 1.5876189252139739e-12, \"rj\": 5.069392454324266, \"c\": \"white\"}, {\"i\": \"Amherst College\", \"j\": \"Middlebury College\", \"x\": 1.0, \"Group\": \"A. (2002, 'Parent')\", \"ri\": 1.5876189252139739e-12, \"rj\": 3.4826518864179086, \"c\": \"white\"}, {\"i\": \"Amherst College\", \"j\": \"Pomona College\", \"x\": 1.0, \"Group\": \"A. (2002, 'Parent')\", \"ri\": 1.5876189252139739e-12, \"rj\": 6.4826518864101565, \"c\": \"white\"}, {\"i\": \"Amherst College\", \"j\": \"Swarthmore College\", \"x\": 1.0, \"Group\": \"A. (2002, 'Parent')\", \"ri\": 1.5876189252139739e-12, \"rj\": 1.0000000000007307, \"c\": \"white\"}, {\"i\": \"Amherst College\", \"j\": \"Wellesley College\", \"x\": 1.0, \"Group\": \"A. (2002, 'Parent')\", \"ri\": 1.5876189252139739e-12, \"rj\": 9.000000000011827, \"c\": \"white\"}, {\"i\": \"Amherst College\", \"j\": \"Williams College\", \"x\": 1.0, \"Group\": \"A. (2002, 'Parent')\", \"ri\": 1.5876189252139739e-12, \"rj\": 2.0000000000005973, \"c\": \"white\"}, {\"i\": \"Bowdoin College\", \"j\": \"Amherst College\", \"x\": 0.0, \"Group\": \"A. (2002, 'Parent')\", \"ri\": 4.482651886418098, \"rj\": 1.5876189252139739e-12, \"c\": \"white\"}, {\"i\": \"Bowdoin College\", \"j\": \"Bowdoin College\", \"x\": 0.0, \"Group\": \"A. (2002, 'Parent')\", \"ri\": 4.482651886418098, \"rj\": 4.482651886418098, \"c\": \"black\"}, {\"i\": \"Bowdoin College\", \"j\": \"Carleton College\", \"x\": 1.0, \"Group\": \"A. (2002, 'Parent')\", \"ri\": 4.482651886418098, \"rj\": 9.999999999947692, \"c\": \"white\"}, {\"i\": \"Bowdoin College\", \"j\": \"Claremont McKenna College\", \"x\": 1.0, \"Group\": \"A. (2002, 'Parent')\", \"ri\": 4.482651886418098, \"rj\": 5.482651886464377, \"c\": \"white\"}, {\"i\": \"Bowdoin College\", \"j\": \"Davidson College\", \"x\": 1.0, \"Group\": \"A. (2002, 'Parent')\", \"ri\": 4.482651886418098, \"rj\": 8.000000000002762, \"c\": \"white\"}, {\"i\": \"Bowdoin College\", \"j\": \"Haverford College\", \"x\": 0.5173481135812121, \"Group\": \"A. (2002, 'Parent')\", \"ri\": 4.482651886418098, \"rj\": 5.069392454324266, \"c\": \"green\"}, {\"i\": \"Bowdoin College\", \"j\": \"Middlebury College\", \"x\": 0.0, \"Group\": \"A. (2002, 'Parent')\", \"ri\": 4.482651886418098, \"rj\": 3.4826518864179086, \"c\": \"white\"}, {\"i\": \"Bowdoin College\", \"j\": \"Pomona College\", \"x\": 1.0, \"Group\": \"A. (2002, 'Parent')\", \"ri\": 4.482651886418098, \"rj\": 6.4826518864101565, \"c\": \"white\"}, {\"i\": \"Bowdoin College\", \"j\": \"Swarthmore College\", \"x\": 0.0, \"Group\": \"A. (2002, 'Parent')\", \"ri\": 4.482651886418098, \"rj\": 1.0000000000007307, \"c\": \"white\"}, {\"i\": \"Bowdoin College\", \"j\": \"Wellesley College\", \"x\": 1.0, \"Group\": \"A. (2002, 'Parent')\", \"ri\": 4.482651886418098, \"rj\": 9.000000000011827, \"c\": \"white\"}, {\"i\": \"Bowdoin College\", \"j\": \"Williams College\", \"x\": 0.0, \"Group\": \"A. (2002, 'Parent')\", \"ri\": 4.482651886418098, \"rj\": 2.0000000000005973, \"c\": \"white\"}, {\"i\": \"Carleton College\", \"j\": \"Amherst College\", \"x\": 0.0, \"Group\": \"A. (2002, 'Parent')\", \"ri\": 9.999999999947692, \"rj\": 1.5876189252139739e-12, \"c\": \"white\"}, {\"i\": \"Carleton College\", \"j\": \"Bowdoin College\", \"x\": 0.0, \"Group\": \"A. (2002, 'Parent')\", \"ri\": 9.999999999947692, \"rj\": 4.482651886418098, \"c\": \"white\"}, {\"i\": \"Carleton College\", \"j\": \"Carleton College\", \"x\": 0.0, \"Group\": \"A. (2002, 'Parent')\", \"ri\": 9.999999999947692, \"rj\": 9.999999999947692, \"c\": \"black\"}, {\"i\": \"Carleton College\", \"j\": \"Claremont McKenna College\", \"x\": 0.0, \"Group\": \"A. (2002, 'Parent')\", \"ri\": 9.999999999947692, \"rj\": 5.482651886464377, \"c\": \"white\"}, {\"i\": \"Carleton College\", \"j\": \"Davidson College\", \"x\": 0.0, \"Group\": \"A. (2002, 'Parent')\", \"ri\": 9.999999999947692, \"rj\": 8.000000000002762, \"c\": \"white\"}, {\"i\": \"Carleton College\", \"j\": \"Haverford College\", \"x\": 0.0, \"Group\": \"A. (2002, 'Parent')\", \"ri\": 9.999999999947692, \"rj\": 5.069392454324266, \"c\": \"white\"}, {\"i\": \"Carleton College\", \"j\": \"Middlebury College\", \"x\": 0.0, \"Group\": \"A. (2002, 'Parent')\", \"ri\": 9.999999999947692, \"rj\": 3.4826518864179086, \"c\": \"white\"}, {\"i\": \"Carleton College\", \"j\": \"Pomona College\", \"x\": 0.0, \"Group\": \"A. (2002, 'Parent')\", \"ri\": 9.999999999947692, \"rj\": 6.4826518864101565, \"c\": \"white\"}, {\"i\": \"Carleton College\", \"j\": \"Swarthmore College\", \"x\": 0.0, \"Group\": \"A. (2002, 'Parent')\", \"ri\": 9.999999999947692, \"rj\": 1.0000000000007307, \"c\": \"white\"}, {\"i\": \"Carleton College\", \"j\": \"Wellesley College\", \"x\": 0.0, \"Group\": \"A. (2002, 'Parent')\", \"ri\": 9.999999999947692, \"rj\": 9.000000000011827, \"c\": \"white\"}, {\"i\": \"Carleton College\", \"j\": \"Williams College\", \"x\": 0.0, \"Group\": \"A. (2002, 'Parent')\", \"ri\": 9.999999999947692, \"rj\": 2.0000000000005973, \"c\": \"white\"}, {\"i\": \"Claremont McKenna College\", \"j\": \"Amherst College\", \"x\": 0.0, \"Group\": \"A. (2002, 'Parent')\", \"ri\": 5.482651886464377, \"rj\": 1.5876189252139739e-12, \"c\": \"white\"}, {\"i\": \"Claremont McKenna College\", \"j\": \"Bowdoin College\", \"x\": 0.0, \"Group\": \"A. (2002, 'Parent')\", \"ri\": 5.482651886464377, \"rj\": 4.482651886418098, \"c\": \"white\"}, {\"i\": \"Claremont McKenna College\", \"j\": \"Carleton College\", \"x\": 1.0, \"Group\": \"A. (2002, 'Parent')\", \"ri\": 5.482651886464377, \"rj\": 9.999999999947692, \"c\": \"white\"}, {\"i\": \"Claremont McKenna College\", \"j\": \"Claremont McKenna College\", \"x\": 0.0, \"Group\": \"A. (2002, 'Parent')\", \"ri\": 5.482651886464377, \"rj\": 5.482651886464377, \"c\": \"black\"}, {\"i\": \"Claremont McKenna College\", \"j\": \"Davidson College\", \"x\": 1.0, \"Group\": \"A. (2002, 'Parent')\", \"ri\": 5.482651886464377, \"rj\": 8.000000000002762, \"c\": \"white\"}, {\"i\": \"Claremont McKenna College\", \"j\": \"Haverford College\", \"x\": 0.5173481135810607, \"Group\": \"A. (2002, 'Parent')\", \"ri\": 5.482651886464377, \"rj\": 5.069392454324266, \"c\": \"red\"}, {\"i\": \"Claremont McKenna College\", \"j\": \"Middlebury College\", \"x\": 0.0, \"Group\": \"A. (2002, 'Parent')\", \"ri\": 5.482651886464377, \"rj\": 3.4826518864179086, \"c\": \"white\"}, {\"i\": \"Claremont McKenna College\", \"j\": \"Pomona College\", \"x\": 1.0, \"Group\": \"A. (2002, 'Parent')\", \"ri\": 5.482651886464377, \"rj\": 6.4826518864101565, \"c\": \"white\"}, {\"i\": \"Claremont McKenna College\", \"j\": \"Swarthmore College\", \"x\": 0.0, \"Group\": \"A. (2002, 'Parent')\", \"ri\": 5.482651886464377, \"rj\": 1.0000000000007307, \"c\": \"white\"}, {\"i\": \"Claremont McKenna College\", \"j\": \"Wellesley College\", \"x\": 1.0, \"Group\": \"A. (2002, 'Parent')\", \"ri\": 5.482651886464377, \"rj\": 9.000000000011827, \"c\": \"white\"}, {\"i\": \"Claremont McKenna College\", \"j\": \"Williams College\", \"x\": 0.0, \"Group\": \"A. (2002, 'Parent')\", \"ri\": 5.482651886464377, \"rj\": 2.0000000000005973, \"c\": \"white\"}, {\"i\": \"Davidson College\", \"j\": \"Amherst College\", \"x\": 0.0, \"Group\": \"A. (2002, 'Parent')\", \"ri\": 8.000000000002762, \"rj\": 1.5876189252139739e-12, \"c\": \"white\"}, {\"i\": \"Davidson College\", \"j\": \"Bowdoin College\", \"x\": 0.0, \"Group\": \"A. (2002, 'Parent')\", \"ri\": 8.000000000002762, \"rj\": 4.482651886418098, \"c\": \"white\"}, {\"i\": \"Davidson College\", \"j\": \"Carleton College\", \"x\": 1.0, \"Group\": \"A. (2002, 'Parent')\", \"ri\": 8.000000000002762, \"rj\": 9.999999999947692, \"c\": \"white\"}, {\"i\": \"Davidson College\", \"j\": \"Claremont McKenna College\", \"x\": 0.0, \"Group\": \"A. (2002, 'Parent')\", \"ri\": 8.000000000002762, \"rj\": 5.482651886464377, \"c\": \"white\"}, {\"i\": \"Davidson College\", \"j\": \"Davidson College\", \"x\": 0.0, \"Group\": \"A. (2002, 'Parent')\", \"ri\": 8.000000000002762, \"rj\": 8.000000000002762, \"c\": \"black\"}, {\"i\": \"Davidson College\", \"j\": \"Haverford College\", \"x\": 0.0, \"Group\": \"A. (2002, 'Parent')\", \"ri\": 8.000000000002762, \"rj\": 5.069392454324266, \"c\": \"white\"}, {\"i\": \"Davidson College\", \"j\": \"Middlebury College\", \"x\": 0.0, \"Group\": \"A. (2002, 'Parent')\", \"ri\": 8.000000000002762, \"rj\": 3.4826518864179086, \"c\": \"white\"}, {\"i\": \"Davidson College\", \"j\": \"Pomona College\", \"x\": 0.0, \"Group\": \"A. (2002, 'Parent')\", \"ri\": 8.000000000002762, \"rj\": 6.4826518864101565, \"c\": \"white\"}, {\"i\": \"Davidson College\", \"j\": \"Swarthmore College\", \"x\": 0.0, \"Group\": \"A. (2002, 'Parent')\", \"ri\": 8.000000000002762, \"rj\": 1.0000000000007307, \"c\": \"white\"}, {\"i\": \"Davidson College\", \"j\": \"Wellesley College\", \"x\": 1.0, \"Group\": \"A. (2002, 'Parent')\", \"ri\": 8.000000000002762, \"rj\": 9.000000000011827, \"c\": \"white\"}, {\"i\": \"Davidson College\", \"j\": \"Williams College\", \"x\": 0.0, \"Group\": \"A. (2002, 'Parent')\", \"ri\": 8.000000000002762, \"rj\": 2.0000000000005973, \"c\": \"white\"}, {\"i\": \"Haverford College\", \"j\": \"Amherst College\", \"x\": 0.0, \"Group\": \"A. (2002, 'Parent')\", \"ri\": 5.069392454324266, \"rj\": 1.5876189252139739e-12, \"c\": \"white\"}, {\"i\": \"Haverford College\", \"j\": \"Bowdoin College\", \"x\": 0.48265188641878787, \"Group\": \"A. (2002, 'Parent')\", \"ri\": 5.069392454324266, \"rj\": 4.482651886418098, \"c\": \"red\"}, {\"i\": \"Haverford College\", \"j\": \"Carleton College\", \"x\": 1.0, \"Group\": \"A. (2002, 'Parent')\", \"ri\": 5.069392454324266, \"rj\": 9.999999999947692, \"c\": \"white\"}, {\"i\": \"Haverford College\", \"j\": \"Claremont McKenna College\", \"x\": 0.4826518864189393, \"Group\": \"A. (2002, 'Parent')\", \"ri\": 5.069392454324266, \"rj\": 5.482651886464377, \"c\": \"green\"}, {\"i\": \"Haverford College\", \"j\": \"Davidson College\", \"x\": 1.0, \"Group\": \"A. (2002, 'Parent')\", \"ri\": 5.069392454324266, \"rj\": 8.000000000002762, \"c\": \"white\"}, {\"i\": \"Haverford College\", \"j\": \"Haverford College\", \"x\": 0.0, \"Group\": \"A. (2002, 'Parent')\", \"ri\": 5.069392454324266, \"rj\": 5.069392454324266, \"c\": \"black\"}, {\"i\": \"Haverford College\", \"j\": \"Middlebury College\", \"x\": 0.48265188641857976, \"Group\": \"A. (2002, 'Parent')\", \"ri\": 5.069392454324266, \"rj\": 3.4826518864179086, \"c\": \"red\"}, {\"i\": \"Haverford College\", \"j\": \"Pomona College\", \"x\": 0.48265188641886936, \"Group\": \"A. (2002, 'Parent')\", \"ri\": 5.069392454324266, \"rj\": 6.4826518864101565, \"c\": \"green\"}, {\"i\": \"Haverford College\", \"j\": \"Swarthmore College\", \"x\": 0.0, \"Group\": \"A. (2002, 'Parent')\", \"ri\": 5.069392454324266, \"rj\": 1.0000000000007307, \"c\": \"white\"}, {\"i\": \"Haverford College\", \"j\": \"Wellesley College\", \"x\": 1.0, \"Group\": \"A. (2002, 'Parent')\", \"ri\": 5.069392454324266, \"rj\": 9.000000000011827, \"c\": \"white\"}, {\"i\": \"Haverford College\", \"j\": \"Williams College\", \"x\": 0.0, \"Group\": \"A. (2002, 'Parent')\", \"ri\": 5.069392454324266, \"rj\": 2.0000000000005973, \"c\": \"white\"}, {\"i\": \"Middlebury College\", \"j\": \"Amherst College\", \"x\": 0.0, \"Group\": \"A. (2002, 'Parent')\", \"ri\": 3.4826518864179086, \"rj\": 1.5876189252139739e-12, \"c\": \"white\"}, {\"i\": \"Middlebury College\", \"j\": \"Bowdoin College\", \"x\": 1.0, \"Group\": \"A. (2002, 'Parent')\", \"ri\": 3.4826518864179086, \"rj\": 4.482651886418098, \"c\": \"white\"}, {\"i\": \"Middlebury College\", \"j\": \"Carleton College\", \"x\": 1.0, \"Group\": \"A. (2002, 'Parent')\", \"ri\": 3.4826518864179086, \"rj\": 9.999999999947692, \"c\": \"white\"}, {\"i\": \"Middlebury College\", \"j\": \"Claremont McKenna College\", \"x\": 1.0, \"Group\": \"A. (2002, 'Parent')\", \"ri\": 3.4826518864179086, \"rj\": 5.482651886464377, \"c\": \"white\"}, {\"i\": \"Middlebury College\", \"j\": \"Davidson College\", \"x\": 1.0, \"Group\": \"A. (2002, 'Parent')\", \"ri\": 3.4826518864179086, \"rj\": 8.000000000002762, \"c\": \"white\"}, {\"i\": \"Middlebury College\", \"j\": \"Haverford College\", \"x\": 0.5173481135814202, \"Group\": \"A. (2002, 'Parent')\", \"ri\": 3.4826518864179086, \"rj\": 5.069392454324266, \"c\": \"green\"}, {\"i\": \"Middlebury College\", \"j\": \"Middlebury College\", \"x\": 0.0, \"Group\": \"A. (2002, 'Parent')\", \"ri\": 3.4826518864179086, \"rj\": 3.4826518864179086, \"c\": \"black\"}, {\"i\": \"Middlebury College\", \"j\": \"Pomona College\", \"x\": 1.0, \"Group\": \"A. (2002, 'Parent')\", \"ri\": 3.4826518864179086, \"rj\": 6.4826518864101565, \"c\": \"white\"}, {\"i\": \"Middlebury College\", \"j\": \"Swarthmore College\", \"x\": 0.0, \"Group\": \"A. (2002, 'Parent')\", \"ri\": 3.4826518864179086, \"rj\": 1.0000000000007307, \"c\": \"white\"}, {\"i\": \"Middlebury College\", \"j\": \"Wellesley College\", \"x\": 1.0, \"Group\": \"A. (2002, 'Parent')\", \"ri\": 3.4826518864179086, \"rj\": 9.000000000011827, \"c\": \"white\"}, {\"i\": \"Middlebury College\", \"j\": \"Williams College\", \"x\": 0.0, \"Group\": \"A. (2002, 'Parent')\", \"ri\": 3.4826518864179086, \"rj\": 2.0000000000005973, \"c\": \"white\"}, {\"i\": \"Pomona College\", \"j\": \"Amherst College\", \"x\": 0.0, \"Group\": \"A. (2002, 'Parent')\", \"ri\": 6.4826518864101565, \"rj\": 1.5876189252139739e-12, \"c\": \"white\"}, {\"i\": \"Pomona College\", \"j\": \"Bowdoin College\", \"x\": 0.0, \"Group\": \"A. (2002, 'Parent')\", \"ri\": 6.4826518864101565, \"rj\": 4.482651886418098, \"c\": \"white\"}, {\"i\": \"Pomona College\", \"j\": \"Carleton College\", \"x\": 1.0, \"Group\": \"A. (2002, 'Parent')\", \"ri\": 6.4826518864101565, \"rj\": 9.999999999947692, \"c\": \"white\"}, {\"i\": \"Pomona College\", \"j\": \"Claremont McKenna College\", \"x\": 0.0, \"Group\": \"A. (2002, 'Parent')\", \"ri\": 6.4826518864101565, \"rj\": 5.482651886464377, \"c\": \"white\"}, {\"i\": \"Pomona College\", \"j\": \"Davidson College\", \"x\": 1.0, \"Group\": \"A. (2002, 'Parent')\", \"ri\": 6.4826518864101565, \"rj\": 8.000000000002762, \"c\": \"white\"}, {\"i\": \"Pomona College\", \"j\": \"Haverford College\", \"x\": 0.5173481135811306, \"Group\": \"A. (2002, 'Parent')\", \"ri\": 6.4826518864101565, \"rj\": 5.069392454324266, \"c\": \"red\"}, {\"i\": \"Pomona College\", \"j\": \"Middlebury College\", \"x\": 0.0, \"Group\": \"A. (2002, 'Parent')\", \"ri\": 6.4826518864101565, \"rj\": 3.4826518864179086, \"c\": \"white\"}, {\"i\": \"Pomona College\", \"j\": \"Pomona College\", \"x\": 0.0, \"Group\": \"A. (2002, 'Parent')\", \"ri\": 6.4826518864101565, \"rj\": 6.4826518864101565, \"c\": \"black\"}, {\"i\": \"Pomona College\", \"j\": \"Swarthmore College\", \"x\": 0.0, \"Group\": \"A. (2002, 'Parent')\", \"ri\": 6.4826518864101565, \"rj\": 1.0000000000007307, \"c\": \"white\"}, {\"i\": \"Pomona College\", \"j\": \"Wellesley College\", \"x\": 1.0, \"Group\": \"A. (2002, 'Parent')\", \"ri\": 6.4826518864101565, \"rj\": 9.000000000011827, \"c\": \"white\"}, {\"i\": \"Pomona College\", \"j\": \"Williams College\", \"x\": 0.0, \"Group\": \"A. (2002, 'Parent')\", \"ri\": 6.4826518864101565, \"rj\": 2.0000000000005973, \"c\": \"white\"}, {\"i\": \"Swarthmore College\", \"j\": \"Amherst College\", \"x\": 0.0, \"Group\": \"A. (2002, 'Parent')\", \"ri\": 1.0000000000007307, \"rj\": 1.5876189252139739e-12, \"c\": \"white\"}, {\"i\": \"Swarthmore College\", \"j\": \"Bowdoin College\", \"x\": 1.0, \"Group\": \"A. (2002, 'Parent')\", \"ri\": 1.0000000000007307, \"rj\": 4.482651886418098, \"c\": \"white\"}, {\"i\": \"Swarthmore College\", \"j\": \"Carleton College\", \"x\": 1.0, \"Group\": \"A. (2002, 'Parent')\", \"ri\": 1.0000000000007307, \"rj\": 9.999999999947692, \"c\": \"white\"}, {\"i\": \"Swarthmore College\", \"j\": \"Claremont McKenna College\", \"x\": 1.0, \"Group\": \"A. (2002, 'Parent')\", \"ri\": 1.0000000000007307, \"rj\": 5.482651886464377, \"c\": \"white\"}, {\"i\": \"Swarthmore College\", \"j\": \"Davidson College\", \"x\": 1.0, \"Group\": \"A. (2002, 'Parent')\", \"ri\": 1.0000000000007307, \"rj\": 8.000000000002762, \"c\": \"white\"}, {\"i\": \"Swarthmore College\", \"j\": \"Haverford College\", \"x\": 1.0, \"Group\": \"A. (2002, 'Parent')\", \"ri\": 1.0000000000007307, \"rj\": 5.069392454324266, \"c\": \"white\"}, {\"i\": \"Swarthmore College\", \"j\": \"Middlebury College\", \"x\": 1.0, \"Group\": \"A. (2002, 'Parent')\", \"ri\": 1.0000000000007307, \"rj\": 3.4826518864179086, \"c\": \"white\"}, {\"i\": \"Swarthmore College\", \"j\": \"Pomona College\", \"x\": 1.0, \"Group\": \"A. (2002, 'Parent')\", \"ri\": 1.0000000000007307, \"rj\": 6.4826518864101565, \"c\": \"white\"}, {\"i\": \"Swarthmore College\", \"j\": \"Swarthmore College\", \"x\": 0.0, \"Group\": \"A. (2002, 'Parent')\", \"ri\": 1.0000000000007307, \"rj\": 1.0000000000007307, \"c\": \"black\"}, {\"i\": \"Swarthmore College\", \"j\": \"Wellesley College\", \"x\": 1.0, \"Group\": \"A. (2002, 'Parent')\", \"ri\": 1.0000000000007307, \"rj\": 9.000000000011827, \"c\": \"white\"}, {\"i\": \"Swarthmore College\", \"j\": \"Williams College\", \"x\": 1.0, \"Group\": \"A. (2002, 'Parent')\", \"ri\": 1.0000000000007307, \"rj\": 2.0000000000005973, \"c\": \"white\"}, {\"i\": \"Wellesley College\", \"j\": \"Amherst College\", \"x\": 0.0, \"Group\": \"A. (2002, 'Parent')\", \"ri\": 9.000000000011827, \"rj\": 1.5876189252139739e-12, \"c\": \"white\"}, {\"i\": \"Wellesley College\", \"j\": \"Bowdoin College\", \"x\": 0.0, \"Group\": \"A. (2002, 'Parent')\", \"ri\": 9.000000000011827, \"rj\": 4.482651886418098, \"c\": \"white\"}, {\"i\": \"Wellesley College\", \"j\": \"Carleton College\", \"x\": 1.0, \"Group\": \"A. (2002, 'Parent')\", \"ri\": 9.000000000011827, \"rj\": 9.999999999947692, \"c\": \"white\"}, {\"i\": \"Wellesley College\", \"j\": \"Claremont McKenna College\", \"x\": 0.0, \"Group\": \"A. (2002, 'Parent')\", \"ri\": 9.000000000011827, \"rj\": 5.482651886464377, \"c\": \"white\"}, {\"i\": \"Wellesley College\", \"j\": \"Davidson College\", \"x\": 0.0, \"Group\": \"A. (2002, 'Parent')\", \"ri\": 9.000000000011827, \"rj\": 8.000000000002762, \"c\": \"white\"}, {\"i\": \"Wellesley College\", \"j\": \"Haverford College\", \"x\": 0.0, \"Group\": \"A. (2002, 'Parent')\", \"ri\": 9.000000000011827, \"rj\": 5.069392454324266, \"c\": \"white\"}, {\"i\": \"Wellesley College\", \"j\": \"Middlebury College\", \"x\": 0.0, \"Group\": \"A. (2002, 'Parent')\", \"ri\": 9.000000000011827, \"rj\": 3.4826518864179086, \"c\": \"white\"}, {\"i\": \"Wellesley College\", \"j\": \"Pomona College\", \"x\": 0.0, \"Group\": \"A. (2002, 'Parent')\", \"ri\": 9.000000000011827, \"rj\": 6.4826518864101565, \"c\": \"white\"}, {\"i\": \"Wellesley College\", \"j\": \"Swarthmore College\", \"x\": 0.0, \"Group\": \"A. (2002, 'Parent')\", \"ri\": 9.000000000011827, \"rj\": 1.0000000000007307, \"c\": \"white\"}, {\"i\": \"Wellesley College\", \"j\": \"Wellesley College\", \"x\": 0.0, \"Group\": \"A. (2002, 'Parent')\", \"ri\": 9.000000000011827, \"rj\": 9.000000000011827, \"c\": \"black\"}, {\"i\": \"Wellesley College\", \"j\": \"Williams College\", \"x\": 0.0, \"Group\": \"A. (2002, 'Parent')\", \"ri\": 9.000000000011827, \"rj\": 2.0000000000005973, \"c\": \"white\"}, {\"i\": \"Williams College\", \"j\": \"Amherst College\", \"x\": 0.0, \"Group\": \"A. (2002, 'Parent')\", \"ri\": 2.0000000000005973, \"rj\": 1.5876189252139739e-12, \"c\": \"white\"}, {\"i\": \"Williams College\", \"j\": \"Bowdoin College\", \"x\": 1.0, \"Group\": \"A. (2002, 'Parent')\", \"ri\": 2.0000000000005973, \"rj\": 4.482651886418098, \"c\": \"white\"}, {\"i\": \"Williams College\", \"j\": \"Carleton College\", \"x\": 1.0, \"Group\": \"A. (2002, 'Parent')\", \"ri\": 2.0000000000005973, \"rj\": 9.999999999947692, \"c\": \"white\"}, {\"i\": \"Williams College\", \"j\": \"Claremont McKenna College\", \"x\": 1.0, \"Group\": \"A. (2002, 'Parent')\", \"ri\": 2.0000000000005973, \"rj\": 5.482651886464377, \"c\": \"white\"}, {\"i\": \"Williams College\", \"j\": \"Davidson College\", \"x\": 1.0, \"Group\": \"A. (2002, 'Parent')\", \"ri\": 2.0000000000005973, \"rj\": 8.000000000002762, \"c\": \"white\"}, {\"i\": \"Williams College\", \"j\": \"Haverford College\", \"x\": 1.0, \"Group\": \"A. (2002, 'Parent')\", \"ri\": 2.0000000000005973, \"rj\": 5.069392454324266, \"c\": \"white\"}, {\"i\": \"Williams College\", \"j\": \"Middlebury College\", \"x\": 1.0, \"Group\": \"A. (2002, 'Parent')\", \"ri\": 2.0000000000005973, \"rj\": 3.4826518864179086, \"c\": \"white\"}, {\"i\": \"Williams College\", \"j\": \"Pomona College\", \"x\": 1.0, \"Group\": \"A. (2002, 'Parent')\", \"ri\": 2.0000000000005973, \"rj\": 6.4826518864101565, \"c\": \"white\"}, {\"i\": \"Williams College\", \"j\": \"Swarthmore College\", \"x\": 0.0, \"Group\": \"A. (2002, 'Parent')\", \"ri\": 2.0000000000005973, \"rj\": 1.0000000000007307, \"c\": \"white\"}, {\"i\": \"Williams College\", \"j\": \"Wellesley College\", \"x\": 1.0, \"Group\": \"A. (2002, 'Parent')\", \"ri\": 2.0000000000005973, \"rj\": 9.000000000011827, \"c\": \"white\"}, {\"i\": \"Williams College\", \"j\": \"Williams College\", \"x\": 0.0, \"Group\": \"A. (2002, 'Parent')\", \"ri\": 2.0000000000005973, \"rj\": 2.0000000000005973, \"c\": \"black\"}, {\"i\": \"Amherst College\", \"j\": \"Amherst College\", \"x\": 0.0, \"Group\": \"B. (2002, 'Student')\", \"ri\": 2.0074902737520652, \"rj\": 2.0074902737520652, \"c\": \"black\"}, {\"i\": \"Amherst College\", \"j\": \"Bowdoin College\", \"x\": 1.0, \"Group\": \"B. (2002, 'Student')\", \"ri\": 2.0074902737520652, \"rj\": 5.000000000000977, \"c\": \"white\"}, {\"i\": \"Amherst College\", \"j\": \"Carleton College\", \"x\": 1.0, \"Group\": \"B. (2002, 'Student')\", \"ri\": 2.0074902737520652, \"rj\": 7.999999999999893, \"c\": \"white\"}, {\"i\": \"Amherst College\", \"j\": \"Claremont McKenna College\", \"x\": 1.0, \"Group\": \"B. (2002, 'Student')\", \"ri\": 2.0074902737520652, \"rj\": 5.999999999999728, \"c\": \"white\"}, {\"i\": \"Amherst College\", \"j\": \"Davidson College\", \"x\": 1.0, \"Group\": \"B. (2002, 'Student')\", \"ri\": 2.0074902737520652, \"rj\": 8.99999999999988, \"c\": \"white\"}, {\"i\": \"Amherst College\", \"j\": \"Haverford College\", \"x\": 1.0, \"Group\": \"B. (2002, 'Student')\", \"ri\": 2.0074902737520652, \"rj\": 7.000000000000146, \"c\": \"white\"}, {\"i\": \"Amherst College\", \"j\": \"Middlebury College\", \"x\": 0.3313274289789998, \"Group\": \"B. (2002, 'Student')\", \"ri\": 2.0074902737520652, \"rj\": 2.0014725606890535, \"c\": \"red\"}, {\"i\": \"Amherst College\", \"j\": \"Pomona College\", \"x\": 0.661182297268905, \"Group\": \"B. (2002, 'Student')\", \"ri\": 2.0074902737520652, \"rj\": 1.9910371655588377, \"c\": \"red\"}, {\"i\": \"Amherst College\", \"j\": \"Swarthmore College\", \"x\": 0.0, \"Group\": \"B. (2002, 'Student')\", \"ri\": 2.0074902737520652, \"rj\": 7.818583143400026e-13, \"c\": \"white\"}, {\"i\": \"Amherst College\", \"j\": \"Wellesley College\", \"x\": 1.0, \"Group\": \"B. (2002, 'Student')\", \"ri\": 2.0074902737520652, \"rj\": 9.999999999999105, \"c\": \"white\"}, {\"i\": \"Amherst College\", \"j\": \"Williams College\", \"x\": 1.0, \"Group\": \"B. (2002, 'Student')\", \"ri\": 2.0074902737520652, \"rj\": 3.99999999999953, \"c\": \"white\"}, {\"i\": \"Bowdoin College\", \"j\": \"Amherst College\", \"x\": 0.0, \"Group\": \"B. (2002, 'Student')\", \"ri\": 5.000000000000977, \"rj\": 2.0074902737520652, \"c\": \"white\"}, {\"i\": \"Bowdoin College\", \"j\": \"Bowdoin College\", \"x\": 0.0, \"Group\": \"B. (2002, 'Student')\", \"ri\": 5.000000000000977, \"rj\": 5.000000000000977, \"c\": \"black\"}, {\"i\": \"Bowdoin College\", \"j\": \"Carleton College\", \"x\": 1.0, \"Group\": \"B. (2002, 'Student')\", \"ri\": 5.000000000000977, \"rj\": 7.999999999999893, \"c\": \"white\"}, {\"i\": \"Bowdoin College\", \"j\": \"Claremont McKenna College\", \"x\": 1.0, \"Group\": \"B. (2002, 'Student')\", \"ri\": 5.000000000000977, \"rj\": 5.999999999999728, \"c\": \"white\"}, {\"i\": \"Bowdoin College\", \"j\": \"Davidson College\", \"x\": 1.0, \"Group\": \"B. (2002, 'Student')\", \"ri\": 5.000000000000977, \"rj\": 8.99999999999988, \"c\": \"white\"}, {\"i\": \"Bowdoin College\", \"j\": \"Haverford College\", \"x\": 1.0, \"Group\": \"B. (2002, 'Student')\", \"ri\": 5.000000000000977, \"rj\": 7.000000000000146, \"c\": \"white\"}, {\"i\": \"Bowdoin College\", \"j\": \"Middlebury College\", \"x\": 0.0, \"Group\": \"B. (2002, 'Student')\", \"ri\": 5.000000000000977, \"rj\": 2.0014725606890535, \"c\": \"white\"}, {\"i\": \"Bowdoin College\", \"j\": \"Pomona College\", \"x\": 0.0, \"Group\": \"B. (2002, 'Student')\", \"ri\": 5.000000000000977, \"rj\": 1.9910371655588377, \"c\": \"white\"}, {\"i\": \"Bowdoin College\", \"j\": \"Swarthmore College\", \"x\": 0.0, \"Group\": \"B. (2002, 'Student')\", \"ri\": 5.000000000000977, \"rj\": 7.818583143400026e-13, \"c\": \"white\"}, {\"i\": \"Bowdoin College\", \"j\": \"Wellesley College\", \"x\": 1.0, \"Group\": \"B. (2002, 'Student')\", \"ri\": 5.000000000000977, \"rj\": 9.999999999999105, \"c\": \"white\"}, {\"i\": \"Bowdoin College\", \"j\": \"Williams College\", \"x\": 0.0, \"Group\": \"B. (2002, 'Student')\", \"ri\": 5.000000000000977, \"rj\": 3.99999999999953, \"c\": \"white\"}, {\"i\": \"Carleton College\", \"j\": \"Amherst College\", \"x\": 0.0, \"Group\": \"B. (2002, 'Student')\", \"ri\": 7.999999999999893, \"rj\": 2.0074902737520652, \"c\": \"white\"}, {\"i\": \"Carleton College\", \"j\": \"Bowdoin College\", \"x\": 0.0, \"Group\": \"B. (2002, 'Student')\", \"ri\": 7.999999999999893, \"rj\": 5.000000000000977, \"c\": \"white\"}, {\"i\": \"Carleton College\", \"j\": \"Carleton College\", \"x\": 0.0, \"Group\": \"B. (2002, 'Student')\", \"ri\": 7.999999999999893, \"rj\": 7.999999999999893, \"c\": \"black\"}, {\"i\": \"Carleton College\", \"j\": \"Claremont McKenna College\", \"x\": 0.0, \"Group\": \"B. (2002, 'Student')\", \"ri\": 7.999999999999893, \"rj\": 5.999999999999728, \"c\": \"white\"}, {\"i\": \"Carleton College\", \"j\": \"Davidson College\", \"x\": 1.0, \"Group\": \"B. (2002, 'Student')\", \"ri\": 7.999999999999893, \"rj\": 8.99999999999988, \"c\": \"white\"}, {\"i\": \"Carleton College\", \"j\": \"Haverford College\", \"x\": 0.0, \"Group\": \"B. (2002, 'Student')\", \"ri\": 7.999999999999893, \"rj\": 7.000000000000146, \"c\": \"white\"}, {\"i\": \"Carleton College\", \"j\": \"Middlebury College\", \"x\": 0.0, \"Group\": \"B. (2002, 'Student')\", \"ri\": 7.999999999999893, \"rj\": 2.0014725606890535, \"c\": \"white\"}, {\"i\": \"Carleton College\", \"j\": \"Pomona College\", \"x\": 0.0, \"Group\": \"B. (2002, 'Student')\", \"ri\": 7.999999999999893, \"rj\": 1.9910371655588377, \"c\": \"white\"}, {\"i\": \"Carleton College\", \"j\": \"Swarthmore College\", \"x\": 0.0, \"Group\": \"B. (2002, 'Student')\", \"ri\": 7.999999999999893, \"rj\": 7.818583143400026e-13, \"c\": \"white\"}, {\"i\": \"Carleton College\", \"j\": \"Wellesley College\", \"x\": 1.0, \"Group\": \"B. (2002, 'Student')\", \"ri\": 7.999999999999893, \"rj\": 9.999999999999105, \"c\": \"white\"}, {\"i\": \"Carleton College\", \"j\": \"Williams College\", \"x\": 0.0, \"Group\": \"B. (2002, 'Student')\", \"ri\": 7.999999999999893, \"rj\": 3.99999999999953, \"c\": \"white\"}, {\"i\": \"Claremont McKenna College\", \"j\": \"Amherst College\", \"x\": 0.0, \"Group\": \"B. (2002, 'Student')\", \"ri\": 5.999999999999728, \"rj\": 2.0074902737520652, \"c\": \"white\"}, {\"i\": \"Claremont McKenna College\", \"j\": \"Bowdoin College\", \"x\": 0.0, \"Group\": \"B. (2002, 'Student')\", \"ri\": 5.999999999999728, \"rj\": 5.000000000000977, \"c\": \"white\"}, {\"i\": \"Claremont McKenna College\", \"j\": \"Carleton College\", \"x\": 1.0, \"Group\": \"B. (2002, 'Student')\", \"ri\": 5.999999999999728, \"rj\": 7.999999999999893, \"c\": \"white\"}, {\"i\": \"Claremont McKenna College\", \"j\": \"Claremont McKenna College\", \"x\": 0.0, \"Group\": \"B. (2002, 'Student')\", \"ri\": 5.999999999999728, \"rj\": 5.999999999999728, \"c\": \"black\"}, {\"i\": \"Claremont McKenna College\", \"j\": \"Davidson College\", \"x\": 1.0, \"Group\": \"B. (2002, 'Student')\", \"ri\": 5.999999999999728, \"rj\": 8.99999999999988, \"c\": \"white\"}, {\"i\": \"Claremont McKenna College\", \"j\": \"Haverford College\", \"x\": 1.0, \"Group\": \"B. (2002, 'Student')\", \"ri\": 5.999999999999728, \"rj\": 7.000000000000146, \"c\": \"white\"}, {\"i\": \"Claremont McKenna College\", \"j\": \"Middlebury College\", \"x\": 0.0, \"Group\": \"B. (2002, 'Student')\", \"ri\": 5.999999999999728, \"rj\": 2.0014725606890535, \"c\": \"white\"}, {\"i\": \"Claremont McKenna College\", \"j\": \"Pomona College\", \"x\": 0.0, \"Group\": \"B. (2002, 'Student')\", \"ri\": 5.999999999999728, \"rj\": 1.9910371655588377, \"c\": \"white\"}, {\"i\": \"Claremont McKenna College\", \"j\": \"Swarthmore College\", \"x\": 0.0, \"Group\": \"B. (2002, 'Student')\", \"ri\": 5.999999999999728, \"rj\": 7.818583143400026e-13, \"c\": \"white\"}, {\"i\": \"Claremont McKenna College\", \"j\": \"Wellesley College\", \"x\": 1.0, \"Group\": \"B. (2002, 'Student')\", \"ri\": 5.999999999999728, \"rj\": 9.999999999999105, \"c\": \"white\"}, {\"i\": \"Claremont McKenna College\", \"j\": \"Williams College\", \"x\": 0.0, \"Group\": \"B. (2002, 'Student')\", \"ri\": 5.999999999999728, \"rj\": 3.99999999999953, \"c\": \"white\"}, {\"i\": \"Davidson College\", \"j\": \"Amherst College\", \"x\": 0.0, \"Group\": \"B. (2002, 'Student')\", \"ri\": 8.99999999999988, \"rj\": 2.0074902737520652, \"c\": \"white\"}, {\"i\": \"Davidson College\", \"j\": \"Bowdoin College\", \"x\": 0.0, \"Group\": \"B. (2002, 'Student')\", \"ri\": 8.99999999999988, \"rj\": 5.000000000000977, \"c\": \"white\"}, {\"i\": \"Davidson College\", \"j\": \"Carleton College\", \"x\": 0.0, \"Group\": \"B. (2002, 'Student')\", \"ri\": 8.99999999999988, \"rj\": 7.999999999999893, \"c\": \"white\"}, {\"i\": \"Davidson College\", \"j\": \"Claremont McKenna College\", \"x\": 0.0, \"Group\": \"B. (2002, 'Student')\", \"ri\": 8.99999999999988, \"rj\": 5.999999999999728, \"c\": \"white\"}, {\"i\": \"Davidson College\", \"j\": \"Davidson College\", \"x\": 0.0, \"Group\": \"B. (2002, 'Student')\", \"ri\": 8.99999999999988, \"rj\": 8.99999999999988, \"c\": \"black\"}, {\"i\": \"Davidson College\", \"j\": \"Haverford College\", \"x\": 0.0, \"Group\": \"B. (2002, 'Student')\", \"ri\": 8.99999999999988, \"rj\": 7.000000000000146, \"c\": \"white\"}, {\"i\": \"Davidson College\", \"j\": \"Middlebury College\", \"x\": 0.0, \"Group\": \"B. (2002, 'Student')\", \"ri\": 8.99999999999988, \"rj\": 2.0014725606890535, \"c\": \"white\"}, {\"i\": \"Davidson College\", \"j\": \"Pomona College\", \"x\": 0.0, \"Group\": \"B. (2002, 'Student')\", \"ri\": 8.99999999999988, \"rj\": 1.9910371655588377, \"c\": \"white\"}, {\"i\": \"Davidson College\", \"j\": \"Swarthmore College\", \"x\": 0.0, \"Group\": \"B. (2002, 'Student')\", \"ri\": 8.99999999999988, \"rj\": 7.818583143400026e-13, \"c\": \"white\"}, {\"i\": \"Davidson College\", \"j\": \"Wellesley College\", \"x\": 1.0, \"Group\": \"B. (2002, 'Student')\", \"ri\": 8.99999999999988, \"rj\": 9.999999999999105, \"c\": \"white\"}, {\"i\": \"Davidson College\", \"j\": \"Williams College\", \"x\": 0.0, \"Group\": \"B. (2002, 'Student')\", \"ri\": 8.99999999999988, \"rj\": 3.99999999999953, \"c\": \"white\"}, {\"i\": \"Haverford College\", \"j\": \"Amherst College\", \"x\": 0.0, \"Group\": \"B. (2002, 'Student')\", \"ri\": 7.000000000000146, \"rj\": 2.0074902737520652, \"c\": \"white\"}, {\"i\": \"Haverford College\", \"j\": \"Bowdoin College\", \"x\": 0.0, \"Group\": \"B. (2002, 'Student')\", \"ri\": 7.000000000000146, \"rj\": 5.000000000000977, \"c\": \"white\"}, {\"i\": \"Haverford College\", \"j\": \"Carleton College\", \"x\": 1.0, \"Group\": \"B. (2002, 'Student')\", \"ri\": 7.000000000000146, \"rj\": 7.999999999999893, \"c\": \"white\"}, {\"i\": \"Haverford College\", \"j\": \"Claremont McKenna College\", \"x\": 0.0, \"Group\": \"B. (2002, 'Student')\", \"ri\": 7.000000000000146, \"rj\": 5.999999999999728, \"c\": \"white\"}, {\"i\": \"Haverford College\", \"j\": \"Davidson College\", \"x\": 1.0, \"Group\": \"B. (2002, 'Student')\", \"ri\": 7.000000000000146, \"rj\": 8.99999999999988, \"c\": \"white\"}, {\"i\": \"Haverford College\", \"j\": \"Haverford College\", \"x\": 0.0, \"Group\": \"B. (2002, 'Student')\", \"ri\": 7.000000000000146, \"rj\": 7.000000000000146, \"c\": \"black\"}, {\"i\": \"Haverford College\", \"j\": \"Middlebury College\", \"x\": 0.0, \"Group\": \"B. (2002, 'Student')\", \"ri\": 7.000000000000146, \"rj\": 2.0014725606890535, \"c\": \"white\"}, {\"i\": \"Haverford College\", \"j\": \"Pomona College\", \"x\": 0.0, \"Group\": \"B. (2002, 'Student')\", \"ri\": 7.000000000000146, \"rj\": 1.9910371655588377, \"c\": \"white\"}, {\"i\": \"Haverford College\", \"j\": \"Swarthmore College\", \"x\": 0.0, \"Group\": \"B. (2002, 'Student')\", \"ri\": 7.000000000000146, \"rj\": 7.818583143400026e-13, \"c\": \"white\"}, {\"i\": \"Haverford College\", \"j\": \"Wellesley College\", \"x\": 1.0, \"Group\": \"B. (2002, 'Student')\", \"ri\": 7.000000000000146, \"rj\": 9.999999999999105, \"c\": \"white\"}, {\"i\": \"Haverford College\", \"j\": \"Williams College\", \"x\": 0.0, \"Group\": \"B. (2002, 'Student')\", \"ri\": 7.000000000000146, \"rj\": 3.99999999999953, \"c\": \"white\"}, {\"i\": \"Middlebury College\", \"j\": \"Amherst College\", \"x\": 0.6686725710210002, \"Group\": \"B. (2002, 'Student')\", \"ri\": 2.0014725606890535, \"rj\": 2.0074902737520652, \"c\": \"green\"}, {\"i\": \"Middlebury College\", \"j\": \"Bowdoin College\", \"x\": 1.0, \"Group\": \"B. (2002, 'Student')\", \"ri\": 2.0014725606890535, \"rj\": 5.000000000000977, \"c\": \"white\"}, {\"i\": \"Middlebury College\", \"j\": \"Carleton College\", \"x\": 1.0, \"Group\": \"B. (2002, 'Student')\", \"ri\": 2.0014725606890535, \"rj\": 7.999999999999893, \"c\": \"white\"}, {\"i\": \"Middlebury College\", \"j\": \"Claremont McKenna College\", \"x\": 1.0, \"Group\": \"B. (2002, 'Student')\", \"ri\": 2.0014725606890535, \"rj\": 5.999999999999728, \"c\": \"white\"}, {\"i\": \"Middlebury College\", \"j\": \"Davidson College\", \"x\": 1.0, \"Group\": \"B. (2002, 'Student')\", \"ri\": 2.0014725606890535, \"rj\": 8.99999999999988, \"c\": \"white\"}, {\"i\": \"Middlebury College\", \"j\": \"Haverford College\", \"x\": 1.0, \"Group\": \"B. (2002, 'Student')\", \"ri\": 2.0014725606890535, \"rj\": 7.000000000000146, \"c\": \"white\"}, {\"i\": \"Middlebury College\", \"j\": \"Middlebury College\", \"x\": 0.0, \"Group\": \"B. (2002, 'Student')\", \"ri\": 2.0014725606890535, \"rj\": 2.0014725606890535, \"c\": \"black\"}, {\"i\": \"Middlebury College\", \"j\": \"Pomona College\", \"x\": 0.32985486828992955, \"Group\": \"B. (2002, 'Student')\", \"ri\": 2.0014725606890535, \"rj\": 1.9910371655588377, \"c\": \"red\"}, {\"i\": \"Middlebury College\", \"j\": \"Swarthmore College\", \"x\": 0.0, \"Group\": \"B. (2002, 'Student')\", \"ri\": 2.0014725606890535, \"rj\": 7.818583143400026e-13, \"c\": \"white\"}, {\"i\": \"Middlebury College\", \"j\": \"Wellesley College\", \"x\": 1.0, \"Group\": \"B. (2002, 'Student')\", \"ri\": 2.0014725606890535, \"rj\": 9.999999999999105, \"c\": \"white\"}, {\"i\": \"Middlebury College\", \"j\": \"Williams College\", \"x\": 1.0, \"Group\": \"B. (2002, 'Student')\", \"ri\": 2.0014725606890535, \"rj\": 3.99999999999953, \"c\": \"white\"}, {\"i\": \"Pomona College\", \"j\": \"Amherst College\", \"x\": 0.338817702731095, \"Group\": \"B. (2002, 'Student')\", \"ri\": 1.9910371655588377, \"rj\": 2.0074902737520652, \"c\": \"green\"}, {\"i\": \"Pomona College\", \"j\": \"Bowdoin College\", \"x\": 1.0, \"Group\": \"B. (2002, 'Student')\", \"ri\": 1.9910371655588377, \"rj\": 5.000000000000977, \"c\": \"white\"}, {\"i\": \"Pomona College\", \"j\": \"Carleton College\", \"x\": 1.0, \"Group\": \"B. (2002, 'Student')\", \"ri\": 1.9910371655588377, \"rj\": 7.999999999999893, \"c\": \"white\"}, {\"i\": \"Pomona College\", \"j\": \"Claremont McKenna College\", \"x\": 1.0, \"Group\": \"B. (2002, 'Student')\", \"ri\": 1.9910371655588377, \"rj\": 5.999999999999728, \"c\": \"white\"}, {\"i\": \"Pomona College\", \"j\": \"Davidson College\", \"x\": 1.0, \"Group\": \"B. (2002, 'Student')\", \"ri\": 1.9910371655588377, \"rj\": 8.99999999999988, \"c\": \"white\"}, {\"i\": \"Pomona College\", \"j\": \"Haverford College\", \"x\": 1.0, \"Group\": \"B. (2002, 'Student')\", \"ri\": 1.9910371655588377, \"rj\": 7.000000000000146, \"c\": \"white\"}, {\"i\": \"Pomona College\", \"j\": \"Middlebury College\", \"x\": 0.6701451317100704, \"Group\": \"B. (2002, 'Student')\", \"ri\": 1.9910371655588377, \"rj\": 2.0014725606890535, \"c\": \"green\"}, {\"i\": \"Pomona College\", \"j\": \"Pomona College\", \"x\": 0.0, \"Group\": \"B. (2002, 'Student')\", \"ri\": 1.9910371655588377, \"rj\": 1.9910371655588377, \"c\": \"black\"}, {\"i\": \"Pomona College\", \"j\": \"Swarthmore College\", \"x\": 0.0, \"Group\": \"B. (2002, 'Student')\", \"ri\": 1.9910371655588377, \"rj\": 7.818583143400026e-13, \"c\": \"white\"}, {\"i\": \"Pomona College\", \"j\": \"Wellesley College\", \"x\": 1.0, \"Group\": \"B. (2002, 'Student')\", \"ri\": 1.9910371655588377, \"rj\": 9.999999999999105, \"c\": \"white\"}, {\"i\": \"Pomona College\", \"j\": \"Williams College\", \"x\": 1.0, \"Group\": \"B. (2002, 'Student')\", \"ri\": 1.9910371655588377, \"rj\": 3.99999999999953, \"c\": \"white\"}, {\"i\": \"Swarthmore College\", \"j\": \"Amherst College\", \"x\": 1.0, \"Group\": \"B. (2002, 'Student')\", \"ri\": 7.818583143400026e-13, \"rj\": 2.0074902737520652, \"c\": \"white\"}, {\"i\": \"Swarthmore College\", \"j\": \"Bowdoin College\", \"x\": 1.0, \"Group\": \"B. (2002, 'Student')\", \"ri\": 7.818583143400026e-13, \"rj\": 5.000000000000977, \"c\": \"white\"}, {\"i\": \"Swarthmore College\", \"j\": \"Carleton College\", \"x\": 1.0, \"Group\": \"B. (2002, 'Student')\", \"ri\": 7.818583143400026e-13, \"rj\": 7.999999999999893, \"c\": \"white\"}, {\"i\": \"Swarthmore College\", \"j\": \"Claremont McKenna College\", \"x\": 1.0, \"Group\": \"B. (2002, 'Student')\", \"ri\": 7.818583143400026e-13, \"rj\": 5.999999999999728, \"c\": \"white\"}, {\"i\": \"Swarthmore College\", \"j\": \"Davidson College\", \"x\": 1.0, \"Group\": \"B. (2002, 'Student')\", \"ri\": 7.818583143400026e-13, \"rj\": 8.99999999999988, \"c\": \"white\"}, {\"i\": \"Swarthmore College\", \"j\": \"Haverford College\", \"x\": 1.0, \"Group\": \"B. (2002, 'Student')\", \"ri\": 7.818583143400026e-13, \"rj\": 7.000000000000146, \"c\": \"white\"}, {\"i\": \"Swarthmore College\", \"j\": \"Middlebury College\", \"x\": 1.0, \"Group\": \"B. (2002, 'Student')\", \"ri\": 7.818583143400026e-13, \"rj\": 2.0014725606890535, \"c\": \"white\"}, {\"i\": \"Swarthmore College\", \"j\": \"Pomona College\", \"x\": 1.0, \"Group\": \"B. (2002, 'Student')\", \"ri\": 7.818583143400026e-13, \"rj\": 1.9910371655588377, \"c\": \"white\"}, {\"i\": \"Swarthmore College\", \"j\": \"Swarthmore College\", \"x\": 0.0, \"Group\": \"B. (2002, 'Student')\", \"ri\": 7.818583143400026e-13, \"rj\": 7.818583143400026e-13, \"c\": \"black\"}, {\"i\": \"Swarthmore College\", \"j\": \"Wellesley College\", \"x\": 1.0, \"Group\": \"B. (2002, 'Student')\", \"ri\": 7.818583143400026e-13, \"rj\": 9.999999999999105, \"c\": \"white\"}, {\"i\": \"Swarthmore College\", \"j\": \"Williams College\", \"x\": 1.0, \"Group\": \"B. (2002, 'Student')\", \"ri\": 7.818583143400026e-13, \"rj\": 3.99999999999953, \"c\": \"white\"}, {\"i\": \"Wellesley College\", \"j\": \"Amherst College\", \"x\": 0.0, \"Group\": \"B. (2002, 'Student')\", \"ri\": 9.999999999999105, \"rj\": 2.0074902737520652, \"c\": \"white\"}, {\"i\": \"Wellesley College\", \"j\": \"Bowdoin College\", \"x\": 0.0, \"Group\": \"B. (2002, 'Student')\", \"ri\": 9.999999999999105, \"rj\": 5.000000000000977, \"c\": \"white\"}, {\"i\": \"Wellesley College\", \"j\": \"Carleton College\", \"x\": 0.0, \"Group\": \"B. (2002, 'Student')\", \"ri\": 9.999999999999105, \"rj\": 7.999999999999893, \"c\": \"white\"}, {\"i\": \"Wellesley College\", \"j\": \"Claremont McKenna College\", \"x\": 0.0, \"Group\": \"B. (2002, 'Student')\", \"ri\": 9.999999999999105, \"rj\": 5.999999999999728, \"c\": \"white\"}, {\"i\": \"Wellesley College\", \"j\": \"Davidson College\", \"x\": 0.0, \"Group\": \"B. (2002, 'Student')\", \"ri\": 9.999999999999105, \"rj\": 8.99999999999988, \"c\": \"white\"}, {\"i\": \"Wellesley College\", \"j\": \"Haverford College\", \"x\": 0.0, \"Group\": \"B. (2002, 'Student')\", \"ri\": 9.999999999999105, \"rj\": 7.000000000000146, \"c\": \"white\"}, {\"i\": \"Wellesley College\", \"j\": \"Middlebury College\", \"x\": 0.0, \"Group\": \"B. (2002, 'Student')\", \"ri\": 9.999999999999105, \"rj\": 2.0014725606890535, \"c\": \"white\"}, {\"i\": \"Wellesley College\", \"j\": \"Pomona College\", \"x\": 0.0, \"Group\": \"B. (2002, 'Student')\", \"ri\": 9.999999999999105, \"rj\": 1.9910371655588377, \"c\": \"white\"}, {\"i\": \"Wellesley College\", \"j\": \"Swarthmore College\", \"x\": 0.0, \"Group\": \"B. (2002, 'Student')\", \"ri\": 9.999999999999105, \"rj\": 7.818583143400026e-13, \"c\": \"white\"}, {\"i\": \"Wellesley College\", \"j\": \"Wellesley College\", \"x\": 0.0, \"Group\": \"B. (2002, 'Student')\", \"ri\": 9.999999999999105, \"rj\": 9.999999999999105, \"c\": \"black\"}, {\"i\": \"Wellesley College\", \"j\": \"Williams College\", \"x\": 0.0, \"Group\": \"B. (2002, 'Student')\", \"ri\": 9.999999999999105, \"rj\": 3.99999999999953, \"c\": \"white\"}, {\"i\": \"Williams College\", \"j\": \"Amherst College\", \"x\": 0.0, \"Group\": \"B. (2002, 'Student')\", \"ri\": 3.99999999999953, \"rj\": 2.0074902737520652, \"c\": \"white\"}, {\"i\": \"Williams College\", \"j\": \"Bowdoin College\", \"x\": 1.0, \"Group\": \"B. (2002, 'Student')\", \"ri\": 3.99999999999953, \"rj\": 5.000000000000977, \"c\": \"white\"}, {\"i\": \"Williams College\", \"j\": \"Carleton College\", \"x\": 1.0, \"Group\": \"B. (2002, 'Student')\", \"ri\": 3.99999999999953, \"rj\": 7.999999999999893, \"c\": \"white\"}, {\"i\": \"Williams College\", \"j\": \"Claremont McKenna College\", \"x\": 1.0, \"Group\": \"B. (2002, 'Student')\", \"ri\": 3.99999999999953, \"rj\": 5.999999999999728, \"c\": \"white\"}, {\"i\": \"Williams College\", \"j\": \"Davidson College\", \"x\": 1.0, \"Group\": \"B. (2002, 'Student')\", \"ri\": 3.99999999999953, \"rj\": 8.99999999999988, \"c\": \"white\"}, {\"i\": \"Williams College\", \"j\": \"Haverford College\", \"x\": 1.0, \"Group\": \"B. (2002, 'Student')\", \"ri\": 3.99999999999953, \"rj\": 7.000000000000146, \"c\": \"white\"}, {\"i\": \"Williams College\", \"j\": \"Middlebury College\", \"x\": 0.0, \"Group\": \"B. (2002, 'Student')\", \"ri\": 3.99999999999953, \"rj\": 2.0014725606890535, \"c\": \"white\"}, {\"i\": \"Williams College\", \"j\": \"Pomona College\", \"x\": 0.0, \"Group\": \"B. (2002, 'Student')\", \"ri\": 3.99999999999953, \"rj\": 1.9910371655588377, \"c\": \"white\"}, {\"i\": \"Williams College\", \"j\": \"Swarthmore College\", \"x\": 0.0, \"Group\": \"B. (2002, 'Student')\", \"ri\": 3.99999999999953, \"rj\": 7.818583143400026e-13, \"c\": \"white\"}, {\"i\": \"Williams College\", \"j\": \"Wellesley College\", \"x\": 1.0, \"Group\": \"B. (2002, 'Student')\", \"ri\": 3.99999999999953, \"rj\": 9.999999999999105, \"c\": \"white\"}, {\"i\": \"Williams College\", \"j\": \"Williams College\", \"x\": 0.0, \"Group\": \"B. (2002, 'Student')\", \"ri\": 3.99999999999953, \"rj\": 3.99999999999953, \"c\": \"black\"}, {\"i\": \"Amherst College\", \"j\": \"Amherst College\", \"x\": 0.0, \"Group\": \"C. (2002, 'Both')\", \"ri\": 0.9125854549616726, \"rj\": 0.9125854549616726, \"c\": \"black\"}, {\"i\": \"Amherst College\", \"j\": \"Bowdoin College\", \"x\": 1.0, \"Group\": \"C. (2002, 'Both')\", \"ri\": 0.9125854549616726, \"rj\": 4.55527003955981, \"c\": \"white\"}, {\"i\": \"Amherst College\", \"j\": \"Carleton College\", \"x\": 1.0, \"Group\": \"C. (2002, 'Both')\", \"ri\": 0.9125854549616726, \"rj\": 9.006227330869777, \"c\": \"white\"}, {\"i\": \"Amherst College\", \"j\": \"Claremont McKenna College\", \"x\": 1.0, \"Group\": \"C. (2002, 'Both')\", \"ri\": 0.9125854549616726, \"rj\": 5.701618513922657, \"c\": \"white\"}, {\"i\": \"Amherst College\", \"j\": \"Davidson College\", \"x\": 1.0, \"Group\": \"C. (2002, 'Both')\", \"ri\": 0.9125854549616726, \"rj\": 8.416497523374328, \"c\": \"white\"}, {\"i\": \"Amherst College\", \"j\": \"Haverford College\", \"x\": 1.0, \"Group\": \"C. (2002, 'Both')\", \"ri\": 0.9125854549616726, \"rj\": 6.999999992930457, \"c\": \"white\"}, {\"i\": \"Amherst College\", \"j\": \"Middlebury College\", \"x\": 0.6488633819828926, \"Group\": \"C. (2002, 'Both')\", \"ri\": 0.9125854549616726, \"rj\": 2.433896364475884, \"c\": \"green\"}, {\"i\": \"Amherst College\", \"j\": \"Pomona College\", \"x\": 1.0, \"Group\": \"C. (2002, 'Both')\", \"ri\": 0.9125854549616726, \"rj\": 4.0201957730739855, \"c\": \"white\"}, {\"i\": \"Amherst College\", \"j\": \"Swarthmore College\", \"x\": 0.4385511641326063, \"Group\": \"C. (2002, 'Both')\", \"ri\": 0.9125854549616726, \"rj\": 0.43855116736128635, \"c\": \"red\"}, {\"i\": \"Amherst College\", \"j\": \"Wellesley College\", \"x\": 1.0, \"Group\": \"C. (2002, 'Both')\", \"ri\": 0.9125854549616726, \"rj\": 9.577275141061664, \"c\": \"white\"}, {\"i\": \"Amherst College\", \"j\": \"Williams College\", \"x\": 1.0, \"Group\": \"C. (2002, 'Both')\", \"ri\": 0.9125854549616726, \"rj\": 2.937882698408476, \"c\": \"white\"}, {\"i\": \"Bowdoin College\", \"j\": \"Amherst College\", \"x\": 0.0, \"Group\": \"C. (2002, 'Both')\", \"ri\": 4.55527003955981, \"rj\": 0.9125854549616726, \"c\": \"white\"}, {\"i\": \"Bowdoin College\", \"j\": \"Bowdoin College\", \"x\": 0.0, \"Group\": \"C. (2002, 'Both')\", \"ri\": 4.55527003955981, \"rj\": 4.55527003955981, \"c\": \"black\"}, {\"i\": \"Bowdoin College\", \"j\": \"Carleton College\", \"x\": 1.0, \"Group\": \"C. (2002, 'Both')\", \"ri\": 4.55527003955981, \"rj\": 9.006227330869777, \"c\": \"white\"}, {\"i\": \"Bowdoin College\", \"j\": \"Claremont McKenna College\", \"x\": 1.0, \"Group\": \"C. (2002, 'Both')\", \"ri\": 4.55527003955981, \"rj\": 5.701618513922657, \"c\": \"white\"}, {\"i\": \"Bowdoin College\", \"j\": \"Davidson College\", \"x\": 1.0, \"Group\": \"C. (2002, 'Both')\", \"ri\": 4.55527003955981, \"rj\": 8.416497523374328, \"c\": \"white\"}, {\"i\": \"Bowdoin College\", \"j\": \"Haverford College\", \"x\": 1.0, \"Group\": \"C. (2002, 'Both')\", \"ri\": 4.55527003955981, \"rj\": 6.999999992930457, \"c\": \"white\"}, {\"i\": \"Bowdoin College\", \"j\": \"Middlebury College\", \"x\": 0.0, \"Group\": \"C. (2002, 'Both')\", \"ri\": 4.55527003955981, \"rj\": 2.433896364475884, \"c\": \"white\"}, {\"i\": \"Bowdoin College\", \"j\": \"Pomona College\", \"x\": 0.4447299622882434, \"Group\": \"C. (2002, 'Both')\", \"ri\": 4.55527003955981, \"rj\": 4.0201957730739855, \"c\": \"red\"}, {\"i\": \"Bowdoin College\", \"j\": \"Swarthmore College\", \"x\": 0.0, \"Group\": \"C. (2002, 'Both')\", \"ri\": 4.55527003955981, \"rj\": 0.43855116736128635, \"c\": \"white\"}, {\"i\": \"Bowdoin College\", \"j\": \"Wellesley College\", \"x\": 1.0, \"Group\": \"C. (2002, 'Both')\", \"ri\": 4.55527003955981, \"rj\": 9.577275141061664, \"c\": \"white\"}, {\"i\": \"Bowdoin College\", \"j\": \"Williams College\", \"x\": 0.0, \"Group\": \"C. (2002, 'Both')\", \"ri\": 4.55527003955981, \"rj\": 2.937882698408476, \"c\": \"white\"}, {\"i\": \"Carleton College\", \"j\": \"Amherst College\", \"x\": 0.0, \"Group\": \"C. (2002, 'Both')\", \"ri\": 9.006227330869777, \"rj\": 0.9125854549616726, \"c\": \"white\"}, {\"i\": \"Carleton College\", \"j\": \"Bowdoin College\", \"x\": 0.0, \"Group\": \"C. (2002, 'Both')\", \"ri\": 9.006227330869777, \"rj\": 4.55527003955981, \"c\": \"white\"}, {\"i\": \"Carleton College\", \"j\": \"Carleton College\", \"x\": 0.0, \"Group\": \"C. (2002, 'Both')\", \"ri\": 9.006227330869777, \"rj\": 9.006227330869777, \"c\": \"black\"}, {\"i\": \"Carleton College\", \"j\": \"Claremont McKenna College\", \"x\": 0.0, \"Group\": \"C. (2002, 'Both')\", \"ri\": 9.006227330869777, \"rj\": 5.701618513922657, \"c\": \"white\"}, {\"i\": \"Carleton College\", \"j\": \"Davidson College\", \"x\": 0.4164975242510762, \"Group\": \"C. (2002, 'Both')\", \"ri\": 9.006227330869777, \"rj\": 8.416497523374328, \"c\": \"red\"}, {\"i\": \"Carleton College\", \"j\": \"Haverford College\", \"x\": 0.0, \"Group\": \"C. (2002, 'Both')\", \"ri\": 9.006227330869777, \"rj\": 6.999999992930457, \"c\": \"white\"}, {\"i\": \"Carleton College\", \"j\": \"Middlebury College\", \"x\": 0.0, \"Group\": \"C. (2002, 'Both')\", \"ri\": 9.006227330869777, \"rj\": 2.433896364475884, \"c\": \"white\"}, {\"i\": \"Carleton College\", \"j\": \"Pomona College\", \"x\": 0.0, \"Group\": \"C. (2002, 'Both')\", \"ri\": 9.006227330869777, \"rj\": 4.0201957730739855, \"c\": \"white\"}, {\"i\": \"Carleton College\", \"j\": \"Swarthmore College\", \"x\": 0.0, \"Group\": \"C. (2002, 'Both')\", \"ri\": 9.006227330869777, \"rj\": 0.43855116736128635, \"c\": \"white\"}, {\"i\": \"Carleton College\", \"j\": \"Wellesley College\", \"x\": 0.5772751422649759, \"Group\": \"C. (2002, 'Both')\", \"ri\": 9.006227330869777, \"rj\": 9.577275141061664, \"c\": \"green\"}, {\"i\": \"Carleton College\", \"j\": \"Williams College\", \"x\": 0.0, \"Group\": \"C. (2002, 'Both')\", \"ri\": 9.006227330869777, \"rj\": 2.937882698408476, \"c\": \"white\"}, {\"i\": \"Claremont McKenna College\", \"j\": \"Amherst College\", \"x\": 0.0, \"Group\": \"C. (2002, 'Both')\", \"ri\": 5.701618513922657, \"rj\": 0.9125854549616726, \"c\": \"white\"}, {\"i\": \"Claremont McKenna College\", \"j\": \"Bowdoin College\", \"x\": 0.0, \"Group\": \"C. (2002, 'Both')\", \"ri\": 5.701618513922657, \"rj\": 4.55527003955981, \"c\": \"white\"}, {\"i\": \"Claremont McKenna College\", \"j\": \"Carleton College\", \"x\": 1.0, \"Group\": \"C. (2002, 'Both')\", \"ri\": 5.701618513922657, \"rj\": 9.006227330869777, \"c\": \"white\"}, {\"i\": \"Claremont McKenna College\", \"j\": \"Claremont McKenna College\", \"x\": 0.0, \"Group\": \"C. (2002, 'Both')\", \"ri\": 5.701618513922657, \"rj\": 5.701618513922657, \"c\": \"black\"}, {\"i\": \"Claremont McKenna College\", \"j\": \"Davidson College\", \"x\": 1.0, \"Group\": \"C. (2002, 'Both')\", \"ri\": 5.701618513922657, \"rj\": 8.416497523374328, \"c\": \"white\"}, {\"i\": \"Claremont McKenna College\", \"j\": \"Haverford College\", \"x\": 1.0, \"Group\": \"C. (2002, 'Both')\", \"ri\": 5.701618513922657, \"rj\": 6.999999992930457, \"c\": \"white\"}, {\"i\": \"Claremont McKenna College\", \"j\": \"Middlebury College\", \"x\": 0.0, \"Group\": \"C. (2002, 'Both')\", \"ri\": 5.701618513922657, \"rj\": 2.433896364475884, \"c\": \"white\"}, {\"i\": \"Claremont McKenna College\", \"j\": \"Pomona College\", \"x\": 0.2983814897706964, \"Group\": \"C. (2002, 'Both')\", \"ri\": 5.701618513922657, \"rj\": 4.0201957730739855, \"c\": \"red\"}, {\"i\": \"Claremont McKenna College\", \"j\": \"Swarthmore College\", \"x\": 0.0, \"Group\": \"C. (2002, 'Both')\", \"ri\": 5.701618513922657, \"rj\": 0.43855116736128635, \"c\": \"white\"}, {\"i\": \"Claremont McKenna College\", \"j\": \"Wellesley College\", \"x\": 1.0, \"Group\": \"C. (2002, 'Both')\", \"ri\": 5.701618513922657, \"rj\": 9.577275141061664, \"c\": \"white\"}, {\"i\": \"Claremont McKenna College\", \"j\": \"Williams College\", \"x\": 0.0, \"Group\": \"C. (2002, 'Both')\", \"ri\": 5.701618513922657, \"rj\": 2.937882698408476, \"c\": \"white\"}, {\"i\": \"Davidson College\", \"j\": \"Amherst College\", \"x\": 0.0, \"Group\": \"C. (2002, 'Both')\", \"ri\": 8.416497523374328, \"rj\": 0.9125854549616726, \"c\": \"white\"}, {\"i\": \"Davidson College\", \"j\": \"Bowdoin College\", \"x\": 0.0, \"Group\": \"C. (2002, 'Both')\", \"ri\": 8.416497523374328, \"rj\": 4.55527003955981, \"c\": \"white\"}, {\"i\": \"Davidson College\", \"j\": \"Carleton College\", \"x\": 0.5835024757489238, \"Group\": \"C. (2002, 'Both')\", \"ri\": 8.416497523374328, \"rj\": 9.006227330869777, \"c\": \"green\"}, {\"i\": \"Davidson College\", \"j\": \"Claremont McKenna College\", \"x\": 0.0, \"Group\": \"C. (2002, 'Both')\", \"ri\": 8.416497523374328, \"rj\": 5.701618513922657, \"c\": \"white\"}, {\"i\": \"Davidson College\", \"j\": \"Davidson College\", \"x\": 0.0, \"Group\": \"C. (2002, 'Both')\", \"ri\": 8.416497523374328, \"rj\": 8.416497523374328, \"c\": \"black\"}, {\"i\": \"Davidson College\", \"j\": \"Haverford College\", \"x\": 0.0, \"Group\": \"C. (2002, 'Both')\", \"ri\": 8.416497523374328, \"rj\": 6.999999992930457, \"c\": \"white\"}, {\"i\": \"Davidson College\", \"j\": \"Middlebury College\", \"x\": 0.0, \"Group\": \"C. (2002, 'Both')\", \"ri\": 8.416497523374328, \"rj\": 2.433896364475884, \"c\": \"white\"}, {\"i\": \"Davidson College\", \"j\": \"Pomona College\", \"x\": 0.0, \"Group\": \"C. (2002, 'Both')\", \"ri\": 8.416497523374328, \"rj\": 4.0201957730739855, \"c\": \"white\"}, {\"i\": \"Davidson College\", \"j\": \"Swarthmore College\", \"x\": 0.0, \"Group\": \"C. (2002, 'Both')\", \"ri\": 8.416497523374328, \"rj\": 0.43855116736128635, \"c\": \"white\"}, {\"i\": \"Davidson College\", \"j\": \"Wellesley College\", \"x\": 1.0, \"Group\": \"C. (2002, 'Both')\", \"ri\": 8.416497523374328, \"rj\": 9.577275141061664, \"c\": \"white\"}, {\"i\": \"Davidson College\", \"j\": \"Williams College\", \"x\": 0.0, \"Group\": \"C. (2002, 'Both')\", \"ri\": 8.416497523374328, \"rj\": 2.937882698408476, \"c\": \"white\"}, {\"i\": \"Haverford College\", \"j\": \"Amherst College\", \"x\": 0.0, \"Group\": \"C. (2002, 'Both')\", \"ri\": 6.999999992930457, \"rj\": 0.9125854549616726, \"c\": \"white\"}, {\"i\": \"Haverford College\", \"j\": \"Bowdoin College\", \"x\": 0.0, \"Group\": \"C. (2002, 'Both')\", \"ri\": 6.999999992930457, \"rj\": 4.55527003955981, \"c\": \"white\"}, {\"i\": \"Haverford College\", \"j\": \"Carleton College\", \"x\": 1.0, \"Group\": \"C. (2002, 'Both')\", \"ri\": 6.999999992930457, \"rj\": 9.006227330869777, \"c\": \"white\"}, {\"i\": \"Haverford College\", \"j\": \"Claremont McKenna College\", \"x\": 0.0, \"Group\": \"C. (2002, 'Both')\", \"ri\": 6.999999992930457, \"rj\": 5.701618513922657, \"c\": \"white\"}, {\"i\": \"Haverford College\", \"j\": \"Davidson College\", \"x\": 1.0, \"Group\": \"C. (2002, 'Both')\", \"ri\": 6.999999992930457, \"rj\": 8.416497523374328, \"c\": \"white\"}, {\"i\": \"Haverford College\", \"j\": \"Haverford College\", \"x\": 0.0, \"Group\": \"C. (2002, 'Both')\", \"ri\": 6.999999992930457, \"rj\": 6.999999992930457, \"c\": \"black\"}, {\"i\": \"Haverford College\", \"j\": \"Middlebury College\", \"x\": 0.0, \"Group\": \"C. (2002, 'Both')\", \"ri\": 6.999999992930457, \"rj\": 2.433896364475884, \"c\": \"white\"}, {\"i\": \"Haverford College\", \"j\": \"Pomona College\", \"x\": 0.0, \"Group\": \"C. (2002, 'Both')\", \"ri\": 6.999999992930457, \"rj\": 4.0201957730739855, \"c\": \"white\"}, {\"i\": \"Haverford College\", \"j\": \"Swarthmore College\", \"x\": 0.0, \"Group\": \"C. (2002, 'Both')\", \"ri\": 6.999999992930457, \"rj\": 0.43855116736128635, \"c\": \"white\"}, {\"i\": \"Haverford College\", \"j\": \"Wellesley College\", \"x\": 1.0, \"Group\": \"C. (2002, 'Both')\", \"ri\": 6.999999992930457, \"rj\": 9.577275141061664, \"c\": \"white\"}, {\"i\": \"Haverford College\", \"j\": \"Williams College\", \"x\": 0.0, \"Group\": \"C. (2002, 'Both')\", \"ri\": 6.999999992930457, \"rj\": 2.937882698408476, \"c\": \"white\"}, {\"i\": \"Middlebury College\", \"j\": \"Amherst College\", \"x\": 0.3511366180171074, \"Group\": \"C. (2002, 'Both')\", \"ri\": 2.433896364475884, \"rj\": 0.9125854549616726, \"c\": \"red\"}, {\"i\": \"Middlebury College\", \"j\": \"Bowdoin College\", \"x\": 1.0, \"Group\": \"C. (2002, 'Both')\", \"ri\": 2.433896364475884, \"rj\": 4.55527003955981, \"c\": \"white\"}, {\"i\": \"Middlebury College\", \"j\": \"Carleton College\", \"x\": 1.0, \"Group\": \"C. (2002, 'Both')\", \"ri\": 2.433896364475884, \"rj\": 9.006227330869777, \"c\": \"white\"}, {\"i\": \"Middlebury College\", \"j\": \"Claremont McKenna College\", \"x\": 1.0, \"Group\": \"C. (2002, 'Both')\", \"ri\": 2.433896364475884, \"rj\": 5.701618513922657, \"c\": \"white\"}, {\"i\": \"Middlebury College\", \"j\": \"Davidson College\", \"x\": 1.0, \"Group\": \"C. (2002, 'Both')\", \"ri\": 2.433896364475884, \"rj\": 8.416497523374328, \"c\": \"white\"}, {\"i\": \"Middlebury College\", \"j\": \"Haverford College\", \"x\": 1.0, \"Group\": \"C. (2002, 'Both')\", \"ri\": 2.433896364475884, \"rj\": 6.999999992930457, \"c\": \"white\"}, {\"i\": \"Middlebury College\", \"j\": \"Middlebury College\", \"x\": 0.0, \"Group\": \"C. (2002, 'Both')\", \"ri\": 2.433896364475884, \"rj\": 2.433896364475884, \"c\": \"black\"}, {\"i\": \"Middlebury College\", \"j\": \"Pomona College\", \"x\": 0.654221145864595, \"Group\": \"C. (2002, 'Both')\", \"ri\": 2.433896364475884, \"rj\": 4.0201957730739855, \"c\": \"green\"}, {\"i\": \"Middlebury College\", \"j\": \"Swarthmore College\", \"x\": 0.0, \"Group\": \"C. (2002, 'Both')\", \"ri\": 2.433896364475884, \"rj\": 0.43855116736128635, \"c\": \"white\"}, {\"i\": \"Middlebury College\", \"j\": \"Wellesley College\", \"x\": 1.0, \"Group\": \"C. (2002, 'Both')\", \"ri\": 2.433896364475884, \"rj\": 9.577275141061664, \"c\": \"white\"}, {\"i\": \"Middlebury College\", \"j\": \"Williams College\", \"x\": 0.5607458730251133, \"Group\": \"C. (2002, 'Both')\", \"ri\": 2.433896364475884, \"rj\": 2.937882698408476, \"c\": \"green\"}, {\"i\": \"Pomona College\", \"j\": \"Amherst College\", \"x\": 0.0, \"Group\": \"C. (2002, 'Both')\", \"ri\": 4.0201957730739855, \"rj\": 0.9125854549616726, \"c\": \"white\"}, {\"i\": \"Pomona College\", \"j\": \"Bowdoin College\", \"x\": 0.5552700377117565, \"Group\": \"C. (2002, 'Both')\", \"ri\": 4.0201957730739855, \"rj\": 4.55527003955981, \"c\": \"green\"}, {\"i\": \"Pomona College\", \"j\": \"Carleton College\", \"x\": 1.0, \"Group\": \"C. (2002, 'Both')\", \"ri\": 4.0201957730739855, \"rj\": 9.006227330869777, \"c\": \"white\"}, {\"i\": \"Pomona College\", \"j\": \"Claremont McKenna College\", \"x\": 0.7016185102293035, \"Group\": \"C. (2002, 'Both')\", \"ri\": 4.0201957730739855, \"rj\": 5.701618513922657, \"c\": \"green\"}, {\"i\": \"Pomona College\", \"j\": \"Davidson College\", \"x\": 1.0, \"Group\": \"C. (2002, 'Both')\", \"ri\": 4.0201957730739855, \"rj\": 8.416497523374328, \"c\": \"white\"}, {\"i\": \"Pomona College\", \"j\": \"Haverford College\", \"x\": 1.0, \"Group\": \"C. (2002, 'Both')\", \"ri\": 4.0201957730739855, \"rj\": 6.999999992930457, \"c\": \"white\"}, {\"i\": \"Pomona College\", \"j\": \"Middlebury College\", \"x\": 0.345778854135405, \"Group\": \"C. (2002, 'Both')\", \"ri\": 4.0201957730739855, \"rj\": 2.433896364475884, \"c\": \"red\"}, {\"i\": \"Pomona College\", \"j\": \"Pomona College\", \"x\": 0.0, \"Group\": \"C. (2002, 'Both')\", \"ri\": 4.0201957730739855, \"rj\": 4.0201957730739855, \"c\": \"black\"}, {\"i\": \"Pomona College\", \"j\": \"Swarthmore College\", \"x\": 0.0, \"Group\": \"C. (2002, 'Both')\", \"ri\": 4.0201957730739855, \"rj\": 0.43855116736128635, \"c\": \"white\"}, {\"i\": \"Pomona College\", \"j\": \"Wellesley College\", \"x\": 1.0, \"Group\": \"C. (2002, 'Both')\", \"ri\": 4.0201957730739855, \"rj\": 9.577275141061664, \"c\": \"white\"}, {\"i\": \"Pomona College\", \"j\": \"Williams College\", \"x\": 0.37713682531169584, \"Group\": \"C. (2002, 'Both')\", \"ri\": 4.0201957730739855, \"rj\": 2.937882698408476, \"c\": \"red\"}, {\"i\": \"Swarthmore College\", \"j\": \"Amherst College\", \"x\": 0.5614488358673937, \"Group\": \"C. (2002, 'Both')\", \"ri\": 0.43855116736128635, \"rj\": 0.9125854549616726, \"c\": \"green\"}, {\"i\": \"Swarthmore College\", \"j\": \"Bowdoin College\", \"x\": 1.0, \"Group\": \"C. (2002, 'Both')\", \"ri\": 0.43855116736128635, \"rj\": 4.55527003955981, \"c\": \"white\"}, {\"i\": \"Swarthmore College\", \"j\": \"Carleton College\", \"x\": 1.0, \"Group\": \"C. (2002, 'Both')\", \"ri\": 0.43855116736128635, \"rj\": 9.006227330869777, \"c\": \"white\"}, {\"i\": \"Swarthmore College\", \"j\": \"Claremont McKenna College\", \"x\": 1.0, \"Group\": \"C. (2002, 'Both')\", \"ri\": 0.43855116736128635, \"rj\": 5.701618513922657, \"c\": \"white\"}, {\"i\": \"Swarthmore College\", \"j\": \"Davidson College\", \"x\": 1.0, \"Group\": \"C. (2002, 'Both')\", \"ri\": 0.43855116736128635, \"rj\": 8.416497523374328, \"c\": \"white\"}, {\"i\": \"Swarthmore College\", \"j\": \"Haverford College\", \"x\": 1.0, \"Group\": \"C. (2002, 'Both')\", \"ri\": 0.43855116736128635, \"rj\": 6.999999992930457, \"c\": \"white\"}, {\"i\": \"Swarthmore College\", \"j\": \"Middlebury College\", \"x\": 1.0, \"Group\": \"C. (2002, 'Both')\", \"ri\": 0.43855116736128635, \"rj\": 2.433896364475884, \"c\": \"white\"}, {\"i\": \"Swarthmore College\", \"j\": \"Pomona College\", \"x\": 1.0, \"Group\": \"C. (2002, 'Both')\", \"ri\": 0.43855116736128635, \"rj\": 4.0201957730739855, \"c\": \"white\"}, {\"i\": \"Swarthmore College\", \"j\": \"Swarthmore College\", \"x\": 0.0, \"Group\": \"C. (2002, 'Both')\", \"ri\": 0.43855116736128635, \"rj\": 0.43855116736128635, \"c\": \"black\"}, {\"i\": \"Swarthmore College\", \"j\": \"Wellesley College\", \"x\": 1.0, \"Group\": \"C. (2002, 'Both')\", \"ri\": 0.43855116736128635, \"rj\": 9.577275141061664, \"c\": \"white\"}, {\"i\": \"Swarthmore College\", \"j\": \"Williams College\", \"x\": 1.0, \"Group\": \"C. (2002, 'Both')\", \"ri\": 0.43855116736128635, \"rj\": 2.937882698408476, \"c\": \"white\"}, {\"i\": \"Wellesley College\", \"j\": \"Amherst College\", \"x\": 0.0, \"Group\": \"C. (2002, 'Both')\", \"ri\": 9.577275141061664, \"rj\": 0.9125854549616726, \"c\": \"white\"}, {\"i\": \"Wellesley College\", \"j\": \"Bowdoin College\", \"x\": 0.0, \"Group\": \"C. (2002, 'Both')\", \"ri\": 9.577275141061664, \"rj\": 4.55527003955981, \"c\": \"white\"}, {\"i\": \"Wellesley College\", \"j\": \"Carleton College\", \"x\": 0.4227248577350241, \"Group\": \"C. (2002, 'Both')\", \"ri\": 9.577275141061664, \"rj\": 9.006227330869777, \"c\": \"red\"}, {\"i\": \"Wellesley College\", \"j\": \"Claremont McKenna College\", \"x\": 0.0, \"Group\": \"C. (2002, 'Both')\", \"ri\": 9.577275141061664, \"rj\": 5.701618513922657, \"c\": \"white\"}, {\"i\": \"Wellesley College\", \"j\": \"Davidson College\", \"x\": 0.0, \"Group\": \"C. (2002, 'Both')\", \"ri\": 9.577275141061664, \"rj\": 8.416497523374328, \"c\": \"white\"}, {\"i\": \"Wellesley College\", \"j\": \"Haverford College\", \"x\": 0.0, \"Group\": \"C. (2002, 'Both')\", \"ri\": 9.577275141061664, \"rj\": 6.999999992930457, \"c\": \"white\"}, {\"i\": \"Wellesley College\", \"j\": \"Middlebury College\", \"x\": 0.0, \"Group\": \"C. (2002, 'Both')\", \"ri\": 9.577275141061664, \"rj\": 2.433896364475884, \"c\": \"white\"}, {\"i\": \"Wellesley College\", \"j\": \"Pomona College\", \"x\": 0.0, \"Group\": \"C. (2002, 'Both')\", \"ri\": 9.577275141061664, \"rj\": 4.0201957730739855, \"c\": \"white\"}, {\"i\": \"Wellesley College\", \"j\": \"Swarthmore College\", \"x\": 0.0, \"Group\": \"C. (2002, 'Both')\", \"ri\": 9.577275141061664, \"rj\": 0.43855116736128635, \"c\": \"white\"}, {\"i\": \"Wellesley College\", \"j\": \"Wellesley College\", \"x\": 0.0, \"Group\": \"C. (2002, 'Both')\", \"ri\": 9.577275141061664, \"rj\": 9.577275141061664, \"c\": \"black\"}, {\"i\": \"Wellesley College\", \"j\": \"Williams College\", \"x\": 0.0, \"Group\": \"C. (2002, 'Both')\", \"ri\": 9.577275141061664, \"rj\": 2.937882698408476, \"c\": \"white\"}, {\"i\": \"Williams College\", \"j\": \"Amherst College\", \"x\": 0.0, \"Group\": \"C. (2002, 'Both')\", \"ri\": 2.937882698408476, \"rj\": 0.9125854549616726, \"c\": \"white\"}, {\"i\": \"Williams College\", \"j\": \"Bowdoin College\", \"x\": 1.0, \"Group\": \"C. (2002, 'Both')\", \"ri\": 2.937882698408476, \"rj\": 4.55527003955981, \"c\": \"white\"}, {\"i\": \"Williams College\", \"j\": \"Carleton College\", \"x\": 1.0, \"Group\": \"C. (2002, 'Both')\", \"ri\": 2.937882698408476, \"rj\": 9.006227330869777, \"c\": \"white\"}, {\"i\": \"Williams College\", \"j\": \"Claremont McKenna College\", \"x\": 1.0, \"Group\": \"C. (2002, 'Both')\", \"ri\": 2.937882698408476, \"rj\": 5.701618513922657, \"c\": \"white\"}, {\"i\": \"Williams College\", \"j\": \"Davidson College\", \"x\": 1.0, \"Group\": \"C. (2002, 'Both')\", \"ri\": 2.937882698408476, \"rj\": 8.416497523374328, \"c\": \"white\"}, {\"i\": \"Williams College\", \"j\": \"Haverford College\", \"x\": 1.0, \"Group\": \"C. (2002, 'Both')\", \"ri\": 2.937882698408476, \"rj\": 6.999999992930457, \"c\": \"white\"}, {\"i\": \"Williams College\", \"j\": \"Middlebury College\", \"x\": 0.43925412697488675, \"Group\": \"C. (2002, 'Both')\", \"ri\": 2.937882698408476, \"rj\": 2.433896364475884, \"c\": \"red\"}, {\"i\": \"Williams College\", \"j\": \"Pomona College\", \"x\": 0.6228631746883042, \"Group\": \"C. (2002, 'Both')\", \"ri\": 2.937882698408476, \"rj\": 4.0201957730739855, \"c\": \"green\"}, {\"i\": \"Williams College\", \"j\": \"Swarthmore College\", \"x\": 0.0, \"Group\": \"C. (2002, 'Both')\", \"ri\": 2.937882698408476, \"rj\": 0.43855116736128635, \"c\": \"white\"}, {\"i\": \"Williams College\", \"j\": \"Wellesley College\", \"x\": 1.0, \"Group\": \"C. (2002, 'Both')\", \"ri\": 2.937882698408476, \"rj\": 9.577275141061664, \"c\": \"white\"}, {\"i\": \"Williams College\", \"j\": \"Williams College\", \"x\": 0.0, \"Group\": \"C. (2002, 'Both')\", \"ri\": 2.937882698408476, \"rj\": 2.937882698408476, \"c\": \"black\"}]}}, {\"mode\": \"vega-lite\"});\n",
       "</script>"
      ],
      "text/plain": [
       "alt.FacetChart(...)"
      ]
     },
     "execution_count": 23,
     "metadata": {},
     "output_type": "execute_result"
    }
   ],
   "source": [
    "g,_,_ = plot_xstars(Ds)\n",
    "g"
   ]
  },
  {
   "cell_type": "markdown",
   "metadata": {
    "slideshow": {
     "slide_type": "subslide"
    }
   },
   "source": [
    "## Compare centroids for max and min for each group"
   ]
  },
  {
   "cell_type": "code",
   "execution_count": 56,
   "metadata": {
    "slideshow": {
     "slide_type": "fragment"
    }
   },
   "outputs": [
    {
     "data": {
      "text/plain": [
       "0               Amherst College\n",
       "1               Bowdoin College\n",
       "2              Carleton College\n",
       "3     Claremont McKenna College\n",
       "4              Davidson College\n",
       "5             Haverford College\n",
       "6            Middlebury College\n",
       "7                Pomona College\n",
       "8            Swarthmore College\n",
       "9             Wellesley College\n",
       "10             Williams College\n",
       "Name: School Name1, dtype: object"
      ]
     },
     "execution_count": 56,
     "metadata": {},
     "output_type": "execute_result"
    }
   ],
   "source": [
    "pd.Series(Ds.loc[(2002,'Both'),'D'].index)"
   ]
  },
  {
   "cell_type": "code",
   "execution_count": null,
   "metadata": {
    "slideshow": {
     "slide_type": "skip"
    }
   },
   "outputs": [],
   "source": [
    "A = Ds.loc[(2002,'Parent'),'details_fixed_cont_x_minimize'].perm\n",
    "B = Ds.loc[(2002,'Parent'),'details_fixed_cont_x_maximize'].perm\n",
    "g = pyrankability.plot.spider(pyrankability.plot.AB_to_P2(A,B))"
   ]
  },
  {
   "cell_type": "markdown",
   "metadata": {
    "slideshow": {
     "slide_type": "subslide"
    }
   },
   "source": [
    "### Parent"
   ]
  },
  {
   "cell_type": "code",
   "execution_count": 24,
   "metadata": {
    "slideshow": {
     "slide_type": "fragment"
    }
   },
   "outputs": [
    {
     "data": {
      "image/png": "[encoded data removed]",
      "text/plain": [
       "<Figure size 360x720 with 1 Axes>"
      ]
     },
     "metadata": {},
     "output_type": "display_data"
    }
   ],
   "source": [
    "g"
   ]
  },
  {
   "cell_type": "code",
   "execution_count": null,
   "metadata": {
    "slideshow": {
     "slide_type": "skip"
    }
   },
   "outputs": [],
   "source": [
    "A = Ds.loc[(2002,'Student'),'details_fixed_cont_x_minimize'].perm\n",
    "B = Ds.loc[(2002,'Student'),'details_fixed_cont_x_maximize'].perm\n",
    "g = pyrankability.plot.spider(pyrankability.plot.AB_to_P2(A,B))"
   ]
  },
  {
   "cell_type": "markdown",
   "metadata": {
    "slideshow": {
     "slide_type": "subslide"
    }
   },
   "source": [
    "### Student"
   ]
  },
  {
   "cell_type": "code",
   "execution_count": 25,
   "metadata": {
    "slideshow": {
     "slide_type": "fragment"
    }
   },
   "outputs": [
    {
     "data": {
      "image/png": "[encoded data removed]",
      "text/plain": [
       "<Figure size 360x720 with 1 Axes>"
      ]
     },
     "metadata": {},
     "output_type": "display_data"
    }
   ],
   "source": [
    "g"
   ]
  },
  {
   "cell_type": "markdown",
   "metadata": {
    "slideshow": {
     "slide_type": "subslide"
    }
   },
   "source": [
    "### Both"
   ]
  },
  {
   "cell_type": "code",
   "execution_count": null,
   "metadata": {
    "slideshow": {
     "slide_type": "skip"
    }
   },
   "outputs": [],
   "source": [
    "A = Ds.loc[(2002,'Both'),'details_fixed_cont_x_minimize'].perm\n",
    "B = Ds.loc[(2002,'Both'),'details_fixed_cont_x_maximize'].perm\n",
    "g = pyrankability.plot.spider(pyrankability.plot.AB_to_P2(A,B),file=\"results/2002_both_spider.png\")\n"
   ]
  },
  {
   "cell_type": "code",
   "execution_count": 26,
   "metadata": {
    "slideshow": {
     "slide_type": "fragment"
    }
   },
   "outputs": [
    {
     "data": {
      "image/png": "[encoded data removed]",
      "text/plain": [
       "<Figure size 360x720 with 1 Axes>"
      ]
     },
     "metadata": {},
     "output_type": "display_data"
    }
   ],
   "source": [
    "g"
   ]
  },
  {
   "cell_type": "markdown",
   "metadata": {
    "slideshow": {
     "slide_type": "subslide"
    }
   },
   "source": [
    "### Now let's consider the centroid to a ranking of interest (Final rank)"
   ]
  },
  {
   "cell_type": "code",
   "execution_count": 30,
   "metadata": {
    "slideshow": {
     "slide_type": "skip"
    }
   },
   "outputs": [
    {
     "data": {
      "text/plain": [
       "School Name\n",
       "Amherst College               0\n",
       "Bowdoin College               8\n",
       "Carleton College             10\n",
       "Claremont McKenna College     9\n",
       "Davidson College              1\n",
       "Haverford College             2\n",
       "Middlebury College            5\n",
       "Pomona College                7\n",
       "Swarthmore College            6\n",
       "Wellesley College             4\n",
       "Williams College              3\n",
       "Name: Final Rank, dtype: int64"
      ]
     },
     "execution_count": 30,
     "metadata": {},
     "output_type": "execute_result"
    }
   ],
   "source": [
    "data2[2002]['Final Rank'].argsort()"
   ]
  },
  {
   "cell_type": "code",
   "execution_count": 31,
   "metadata": {
    "slideshow": {
     "slide_type": "skip"
    }
   },
   "outputs": [
    {
     "data": {
      "text/plain": [
       "School Name\n",
       "Amherst College               1\n",
       "Bowdoin College               5\n",
       "Carleton College              5\n",
       "Claremont McKenna College    17\n",
       "Davidson College             10\n",
       "Haverford College             5\n",
       "Middlebury College            9\n",
       "Pomona College                5\n",
       "Swarthmore College            1\n",
       "Wellesley College             4\n",
       "Williams College              3\n",
       "Name: Final Rank, dtype: int64"
      ]
     },
     "execution_count": 31,
     "metadata": {},
     "output_type": "execute_result"
    }
   ],
   "source": [
    "data2[2002]['Final Rank']"
   ]
  },
  {
   "cell_type": "code",
   "execution_count": 32,
   "metadata": {
    "slideshow": {
     "slide_type": "skip"
    }
   },
   "outputs": [
    {
     "data": {
      "text/plain": [
       "School Name\n",
       "Amherst College               1\n",
       "Swarthmore College            1\n",
       "Williams College              3\n",
       "Wellesley College             4\n",
       "Bowdoin College               5\n",
       "Carleton College              5\n",
       "Haverford College             5\n",
       "Pomona College                5\n",
       "Middlebury College            9\n",
       "Davidson College             10\n",
       "Claremont McKenna College    17\n",
       "Name: Final Rank, dtype: int64"
      ]
     },
     "execution_count": 32,
     "metadata": {},
     "output_type": "execute_result"
    }
   ],
   "source": [
    "data2[2002]['Final Rank'].iloc[data2[2002]['Final Rank'].argsort()]"
   ]
  },
  {
   "cell_type": "code",
   "execution_count": 37,
   "metadata": {
    "slideshow": {
     "slide_type": "subslide"
    }
   },
   "outputs": [],
   "source": [
    "perm_final_rank = data2[2002]['Final Rank'].argsort()\n",
    "x_final_rank = pyrankability.common.perm_to_x(perm_final_rank)"
   ]
  },
  {
   "cell_type": "code",
   "execution_count": 57,
   "metadata": {
    "slideshow": {
     "slide_type": "subslide"
    }
   },
   "outputs": [],
   "source": [
    "index = (2002,'Student')\n",
    "D = Ds.loc[index,'D']\n",
    "delta_bin, details_bin = pyrankability.rank.solve(D,method='lop',cont=False)\n",
    "_, details_fixed_binary_x_maximize = pyrankability.search.solve_fixed_binary_x(D,details_bin['obj'],x_final_rank,method='lop',minimize=False)\n",
    "_, details_fixed_binary_x_minimize = pyrankability.search.solve_fixed_binary_x(D,details_bin['obj'],x_final_rank,method='lop',minimize=True)    "
   ]
  },
  {
   "cell_type": "markdown",
   "metadata": {
    "slideshow": {
     "slide_type": "subslide"
    }
   },
   "source": [
    "### Maximize"
   ]
  },
  {
   "cell_type": "code",
   "execution_count": 61,
   "metadata": {
    "slideshow": {
     "slide_type": "fragment"
    }
   },
   "outputs": [
    {
     "data": {
      "image/png": "[encoded data removed]",
      "text/plain": [
       "<Figure size 360x720 with 1 Axes>"
      ]
     },
     "metadata": {},
     "output_type": "display_data"
    }
   ],
   "source": [
    "A = perm_final_rank\n",
    "B = details_fixed_binary_x_maximize['perm']\n",
    "pyrankability.plot.spider(pyrankability.plot.AB_to_P2(A,B),file=\"results/2002_final_rank_student_maximize_spider.png\")"
   ]
  },
  {
   "cell_type": "markdown",
   "metadata": {
    "slideshow": {
     "slide_type": "subslide"
    }
   },
   "source": [
    "### Minimize"
   ]
  },
  {
   "cell_type": "code",
   "execution_count": 62,
   "metadata": {
    "slideshow": {
     "slide_type": "fragment"
    }
   },
   "outputs": [
    {
     "data": {
      "image/png": "[encoded data removed]",
      "text/plain": [
       "<Figure size 360x720 with 1 Axes>"
      ]
     },
     "metadata": {},
     "output_type": "display_data"
    }
   ],
   "source": [
    "A = perm_final_rank\n",
    "B = details_fixed_binary_x_minimize['perm']\n",
    "g = pyrankability.plot.spider(pyrankability.plot.AB_to_P2(A,B),file=\"results/2002_final_rank_student_minimize_spider.png\")\n",
    "g"
   ]
  },
  {
   "cell_type": "code",
   "execution_count": null,
   "metadata": {},
   "outputs": [],
   "source": []
  },
  {
   "cell_type": "code",
   "execution_count": null,
   "metadata": {},
   "outputs": [],
   "source": []
  }
 ],
 "metadata": {
  "celltoolbar": "Slideshow",
  "kernelspec": {
   "display_name": "Python 3",
   "language": "python",
   "name": "python3"
  },
  "language_info": {
   "codemirror_mode": {
    "name": "ipython",
    "version": 3
   },
   "file_extension": ".py",
   "mimetype": "text/x-python",
   "name": "python",
   "nbconvert_exporter": "python",
   "pygments_lexer": "ipython3",
   "version": "3.7.3"
  }
 },
 "nbformat": 4,
 "nbformat_minor": 4
}
