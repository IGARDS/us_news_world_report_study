{
 "cells": [
  {
   "cell_type": "markdown",
   "metadata": {
    "slideshow": {
     "slide_type": "slide"
    }
   },
   "source": [
    "# US News World Report Fairness\n",
    "## Equity of Attention"
   ]
  },
  {
   "cell_type": "code",
   "execution_count": 1,
   "metadata": {
    "slideshow": {
     "slide_type": "skip"
    }
   },
   "outputs": [],
   "source": [
    "%matplotlib inline\n",
    "%load_ext autoreload\n",
    "%autoreload 2"
   ]
  },
  {
   "cell_type": "code",
   "execution_count": 2,
   "metadata": {
    "slideshow": {
     "slide_type": "skip"
    }
   },
   "outputs": [],
   "source": [
    "import pandas as pd\n",
    "import numpy as np"
   ]
  },
  {
   "cell_type": "code",
   "execution_count": 3,
   "metadata": {
    "slideshow": {
     "slide_type": "skip"
    }
   },
   "outputs": [],
   "source": [
    "import networkx as nx\n",
    "from networkx.drawing.nx_agraph import graphviz_layout, to_agraph\n",
    "import pygraphviz as pgv\n",
    "\n",
    "from IPython.display import Image\n",
    "def draw(A):\n",
    "    return Image(A.draw(format='png', prog='dot'))"
   ]
  },
  {
   "cell_type": "code",
   "execution_count": 4,
   "metadata": {
    "slideshow": {
     "slide_type": "skip"
    }
   },
   "outputs": [],
   "source": [
    "import sys\n",
    "from pathlib import Path\n",
    "home = str(Path.home())\n",
    "\n",
    "sys.path.insert(0,\"%s/rankability_toolbox_dev\"%home)\n",
    "sys.path.insert(0,\"%s/RPLib\"%home)\n",
    "sys.path.insert(0,\"%s/fairness_analysis\"%home)"
   ]
  },
  {
   "cell_type": "code",
   "execution_count": 5,
   "metadata": {
    "slideshow": {
     "slide_type": "skip"
    }
   },
   "outputs": [],
   "source": [
    "import pyrankability"
   ]
  },
  {
   "cell_type": "code",
   "execution_count": 6,
   "metadata": {
    "slideshow": {
     "slide_type": "skip"
    }
   },
   "outputs": [],
   "source": [
    "import pyrplib"
   ]
  },
  {
   "cell_type": "code",
   "execution_count": 7,
   "metadata": {
    "slideshow": {
     "slide_type": "skip"
    }
   },
   "outputs": [],
   "source": [
    "import equity_of_attention.common"
   ]
  },
  {
   "cell_type": "markdown",
   "metadata": {
    "slideshow": {
     "slide_type": "subslide"
    }
   },
   "source": [
    "## Problem statement\n",
    "Consider that you have three years of US news and world report rankings. You would like to be achieve individual fairness as laid out in the equity of attention paper. \n",
    "\n",
    "You want to present this improved and more fair approach to students and parents who have their own ranking according to the columns of interest to them.\n",
    "\n",
    "The equity of fairness can take a \"query\" ranking from the student or parent and then return a more fair ranking, but which query ranking should we supply? We've already seen that there are multiple optimal solutions.\n",
    "\n",
    "I am going to show how the equity of attention gives different answers for the nearest and farthest from the centroid."
   ]
  },
  {
   "cell_type": "code",
   "execution_count": 8,
   "metadata": {
    "slideshow": {
     "slide_type": "subslide"
    }
   },
   "outputs": [
    {
     "data": {
      "text/plain": [
       "[2002, 2003, 2004]"
      ]
     },
     "execution_count": 8,
     "metadata": {},
     "output_type": "execute_result"
    }
   ],
   "source": [
    "years = [2002,2003,2004]\n",
    "years"
   ]
  },
  {
   "cell_type": "code",
   "execution_count": 9,
   "metadata": {
    "slideshow": {
     "slide_type": "skip"
    }
   },
   "outputs": [
    {
     "name": "stderr",
     "output_type": "stream",
     "text": [
      "/opt/tljh/user/lib/python3.7/site-packages/ipykernel_launcher.py:7: FutureWarning: The default value of regex will change from True to False in a future version.\n",
      "  import sys\n"
     ]
    }
   ],
   "source": [
    "data = {}\n",
    "index = None\n",
    "for year in years:\n",
    "    data[year] = pd.read_excel('data/USNews liberal arts 2002-2016 (1).xls',sheet_name=str(year))\n",
    "    data[year]['School Name'] = data[year]['School Name'].str.replace('!','')\n",
    "    if 'State' in data[year].columns:\n",
    "        data[year]['State'] = data[year]['State'].str.replace('\\(','').str.replace('\\)','')\n",
    "    df = pd.DataFrame(list(data[year]['SAT/ACT 25th-75th Percentile'].str.split('-')),columns=['SAT/ACT 25th Percentile','SAT/ACT 75th Percentile'])\n",
    "    data[year] = pd.concat([data[year],df],axis=1)\n",
    "    data[year] = data[year].infer_objects()\n",
    "    data[year]['SAT/ACT 25th-75th Percentile Mean'] = (data[year]['SAT/ACT 25th Percentile'].astype(int)+data[year]['SAT/ACT 75th Percentile'].astype(int))/2\n",
    "    data[year] = data[year].set_index('School Name')\n",
    "    if index is None:\n",
    "        index = set(data[year].index)\n",
    "    else:\n",
    "        index = index.intersection(data[year].index)\n",
    "colleges = list(index)\n",
    "for year in years:\n",
    "    data[year] = data[year].loc[colleges]"
   ]
  },
  {
   "cell_type": "markdown",
   "metadata": {
    "slideshow": {
     "slide_type": "subslide"
    }
   },
   "source": [
    "### Fix the order of the years so that we can create a relevance matrix\n",
    "\n",
    "$(|colleges| - rank+1)/|colleges|$"
   ]
  },
  {
   "cell_type": "code",
   "execution_count": 10,
   "metadata": {
    "slideshow": {
     "slide_type": "skip"
    }
   },
   "outputs": [
    {
     "name": "stdout",
     "output_type": "stream",
     "text": [
      "Index(['Amherst College'], dtype='object', name='School Name')\n",
      "Index(['Amherst College'], dtype='object', name='School Name')\n",
      "Index(['Williams College'], dtype='object', name='School Name')\n"
     ]
    },
    {
     "name": "stderr",
     "output_type": "stream",
     "text": [
      "/opt/tljh/user/lib/python3.7/site-packages/pandas/core/indexing.py:1637: SettingWithCopyWarning: \n",
      "A value is trying to be set on a copy of a slice from a DataFrame\n",
      "\n",
      "See the caveats in the documentation: https://pandas.pydata.org/pandas-docs/stable/user_guide/indexing.html#returning-a-view-versus-a-copy\n",
      "  self._setitem_single_block(indexer, value, name)\n"
     ]
    }
   ],
   "source": [
    "series_item_relevances = []\n",
    "for year in years:\n",
    "    order = np.argsort(data[year]['Final Rank'].values)\n",
    "    data[year]['Final Rank Fixed'] = 0\n",
    "    data[year].loc[:,'Final Rank Fixed'].iloc[order] = np.arange(1,len(order)+1)\n",
    "    rank = np.array(list(data[year]['Final Rank Fixed'].values))\n",
    "    ix = np.where(rank == 1)[0]\n",
    "    print(data[year].index[ix])\n",
    "    series_item_relevances.append((len(colleges) - rank+1)/len(colleges))"
   ]
  },
  {
   "cell_type": "code",
   "execution_count": 11,
   "metadata": {
    "slideshow": {
     "slide_type": "subslide"
    }
   },
   "outputs": [
    {
     "data": {
      "text/html": [
       "<div>\n",
       "<style scoped>\n",
       "    .dataframe tbody tr th:only-of-type {\n",
       "        vertical-align: middle;\n",
       "    }\n",
       "\n",
       "    .dataframe tbody tr th {\n",
       "        vertical-align: top;\n",
       "    }\n",
       "\n",
       "    .dataframe thead th {\n",
       "        text-align: right;\n",
       "    }\n",
       "</style>\n",
       "<table border=\"1\" class=\"dataframe\">\n",
       "  <thead>\n",
       "    <tr style=\"text-align: right;\">\n",
       "      <th></th>\n",
       "      <th>2002</th>\n",
       "      <th>2003</th>\n",
       "      <th>2004</th>\n",
       "    </tr>\n",
       "  </thead>\n",
       "  <tbody>\n",
       "    <tr>\n",
       "      <th>Skidmore College</th>\n",
       "      <td>0.18</td>\n",
       "      <td>0.16</td>\n",
       "      <td>0.14</td>\n",
       "    </tr>\n",
       "    <tr>\n",
       "      <th>Wabash College</th>\n",
       "      <td>0.04</td>\n",
       "      <td>0.10</td>\n",
       "      <td>0.04</td>\n",
       "    </tr>\n",
       "    <tr>\n",
       "      <th>Amherst College</th>\n",
       "      <td>1.00</td>\n",
       "      <td>1.00</td>\n",
       "      <td>0.98</td>\n",
       "    </tr>\n",
       "    <tr>\n",
       "      <th>Claremont McKenna College</th>\n",
       "      <td>0.64</td>\n",
       "      <td>0.76</td>\n",
       "      <td>0.76</td>\n",
       "    </tr>\n",
       "    <tr>\n",
       "      <th>Sarah Lawrence College</th>\n",
       "      <td>0.22</td>\n",
       "      <td>0.04</td>\n",
       "      <td>0.06</td>\n",
       "    </tr>\n",
       "    <tr>\n",
       "      <th>Dickinson College</th>\n",
       "      <td>0.14</td>\n",
       "      <td>0.14</td>\n",
       "      <td>0.18</td>\n",
       "    </tr>\n",
       "    <tr>\n",
       "      <th>Occidental College</th>\n",
       "      <td>0.10</td>\n",
       "      <td>0.06</td>\n",
       "      <td>0.20</td>\n",
       "    </tr>\n",
       "    <tr>\n",
       "      <th>Franklin and Marshall College</th>\n",
       "      <td>0.30</td>\n",
       "      <td>0.30</td>\n",
       "      <td>0.26</td>\n",
       "    </tr>\n",
       "    <tr>\n",
       "      <th>Union College</th>\n",
       "      <td>0.28</td>\n",
       "      <td>0.26</td>\n",
       "      <td>0.28</td>\n",
       "    </tr>\n",
       "    <tr>\n",
       "      <th>Lafayette College</th>\n",
       "      <td>0.36</td>\n",
       "      <td>0.36</td>\n",
       "      <td>0.40</td>\n",
       "    </tr>\n",
       "    <tr>\n",
       "      <th>Lawrence University</th>\n",
       "      <td>0.06</td>\n",
       "      <td>0.02</td>\n",
       "      <td>0.02</td>\n",
       "    </tr>\n",
       "    <tr>\n",
       "      <th>Bates College</th>\n",
       "      <td>0.56</td>\n",
       "      <td>0.58</td>\n",
       "      <td>0.56</td>\n",
       "    </tr>\n",
       "    <tr>\n",
       "      <th>Vassar College</th>\n",
       "      <td>0.72</td>\n",
       "      <td>0.72</td>\n",
       "      <td>0.74</td>\n",
       "    </tr>\n",
       "    <tr>\n",
       "      <th>Carleton College</th>\n",
       "      <td>0.88</td>\n",
       "      <td>0.92</td>\n",
       "      <td>0.92</td>\n",
       "    </tr>\n",
       "    <tr>\n",
       "      <th>Smith College</th>\n",
       "      <td>0.74</td>\n",
       "      <td>0.74</td>\n",
       "      <td>0.70</td>\n",
       "    </tr>\n",
       "    <tr>\n",
       "      <th>Colgate University</th>\n",
       "      <td>0.68</td>\n",
       "      <td>0.62</td>\n",
       "      <td>0.68</td>\n",
       "    </tr>\n",
       "    <tr>\n",
       "      <th>Swarthmore College</th>\n",
       "      <td>0.98</td>\n",
       "      <td>0.96</td>\n",
       "      <td>0.96</td>\n",
       "    </tr>\n",
       "    <tr>\n",
       "      <th>Mount Holyoke College</th>\n",
       "      <td>0.54</td>\n",
       "      <td>0.54</td>\n",
       "      <td>0.52</td>\n",
       "    </tr>\n",
       "    <tr>\n",
       "      <th>Bowdoin College</th>\n",
       "      <td>0.86</td>\n",
       "      <td>0.88</td>\n",
       "      <td>0.82</td>\n",
       "    </tr>\n",
       "    <tr>\n",
       "      <th>Harvey Mudd College</th>\n",
       "      <td>0.70</td>\n",
       "      <td>0.70</td>\n",
       "      <td>0.62</td>\n",
       "    </tr>\n",
       "    <tr>\n",
       "      <th>Centre College</th>\n",
       "      <td>0.16</td>\n",
       "      <td>0.08</td>\n",
       "      <td>0.08</td>\n",
       "    </tr>\n",
       "    <tr>\n",
       "      <th>Furman University</th>\n",
       "      <td>0.08</td>\n",
       "      <td>0.18</td>\n",
       "      <td>0.16</td>\n",
       "    </tr>\n",
       "    <tr>\n",
       "      <th>Oberlin College</th>\n",
       "      <td>0.58</td>\n",
       "      <td>0.56</td>\n",
       "      <td>0.54</td>\n",
       "    </tr>\n",
       "    <tr>\n",
       "      <th>Gettysburg College</th>\n",
       "      <td>0.02</td>\n",
       "      <td>0.12</td>\n",
       "      <td>0.10</td>\n",
       "    </tr>\n",
       "    <tr>\n",
       "      <th>Washington and Lee University</th>\n",
       "      <td>0.76</td>\n",
       "      <td>0.68</td>\n",
       "      <td>0.78</td>\n",
       "    </tr>\n",
       "    <tr>\n",
       "      <th>Davidson College</th>\n",
       "      <td>0.82</td>\n",
       "      <td>0.84</td>\n",
       "      <td>0.86</td>\n",
       "    </tr>\n",
       "    <tr>\n",
       "      <th>Whitman College</th>\n",
       "      <td>0.24</td>\n",
       "      <td>0.22</td>\n",
       "      <td>0.32</td>\n",
       "    </tr>\n",
       "    <tr>\n",
       "      <th>Wesleyan University</th>\n",
       "      <td>0.78</td>\n",
       "      <td>0.80</td>\n",
       "      <td>0.80</td>\n",
       "    </tr>\n",
       "    <tr>\n",
       "      <th>Haverford College</th>\n",
       "      <td>0.92</td>\n",
       "      <td>0.82</td>\n",
       "      <td>0.84</td>\n",
       "    </tr>\n",
       "    <tr>\n",
       "      <th>Bucknell University</th>\n",
       "      <td>0.40</td>\n",
       "      <td>0.40</td>\n",
       "      <td>0.48</td>\n",
       "    </tr>\n",
       "    <tr>\n",
       "      <th>Scripps College</th>\n",
       "      <td>0.32</td>\n",
       "      <td>0.34</td>\n",
       "      <td>0.30</td>\n",
       "    </tr>\n",
       "    <tr>\n",
       "      <th>Colby College</th>\n",
       "      <td>0.62</td>\n",
       "      <td>0.66</td>\n",
       "      <td>0.64</td>\n",
       "    </tr>\n",
       "    <tr>\n",
       "      <th>Bard College</th>\n",
       "      <td>0.26</td>\n",
       "      <td>0.28</td>\n",
       "      <td>0.38</td>\n",
       "    </tr>\n",
       "    <tr>\n",
       "      <th>Connecticut College</th>\n",
       "      <td>0.48</td>\n",
       "      <td>0.42</td>\n",
       "      <td>0.34</td>\n",
       "    </tr>\n",
       "    <tr>\n",
       "      <th>Rhodes College</th>\n",
       "      <td>0.12</td>\n",
       "      <td>0.20</td>\n",
       "      <td>0.12</td>\n",
       "    </tr>\n",
       "    <tr>\n",
       "      <th>Barnard College</th>\n",
       "      <td>0.46</td>\n",
       "      <td>0.46</td>\n",
       "      <td>0.24</td>\n",
       "    </tr>\n",
       "    <tr>\n",
       "      <th>Macalester College</th>\n",
       "      <td>0.50</td>\n",
       "      <td>0.48</td>\n",
       "      <td>0.50</td>\n",
       "    </tr>\n",
       "    <tr>\n",
       "      <th>University of the South</th>\n",
       "      <td>0.44</td>\n",
       "      <td>0.44</td>\n",
       "      <td>0.36</td>\n",
       "    </tr>\n",
       "    <tr>\n",
       "      <th>Kenyon College</th>\n",
       "      <td>0.34</td>\n",
       "      <td>0.38</td>\n",
       "      <td>0.42</td>\n",
       "    </tr>\n",
       "    <tr>\n",
       "      <th>Middlebury College</th>\n",
       "      <td>0.84</td>\n",
       "      <td>0.86</td>\n",
       "      <td>0.88</td>\n",
       "    </tr>\n",
       "    <tr>\n",
       "      <th>Colorado College</th>\n",
       "      <td>0.42</td>\n",
       "      <td>0.32</td>\n",
       "      <td>0.44</td>\n",
       "    </tr>\n",
       "    <tr>\n",
       "      <th>Pomona College</th>\n",
       "      <td>0.90</td>\n",
       "      <td>0.90</td>\n",
       "      <td>0.90</td>\n",
       "    </tr>\n",
       "    <tr>\n",
       "      <th>DePauw University</th>\n",
       "      <td>0.20</td>\n",
       "      <td>0.24</td>\n",
       "      <td>0.22</td>\n",
       "    </tr>\n",
       "    <tr>\n",
       "      <th>Grinnell College</th>\n",
       "      <td>0.80</td>\n",
       "      <td>0.78</td>\n",
       "      <td>0.72</td>\n",
       "    </tr>\n",
       "    <tr>\n",
       "      <th>Trinity College</th>\n",
       "      <td>0.52</td>\n",
       "      <td>0.52</td>\n",
       "      <td>0.58</td>\n",
       "    </tr>\n",
       "    <tr>\n",
       "      <th>Bryn Mawr College</th>\n",
       "      <td>0.66</td>\n",
       "      <td>0.60</td>\n",
       "      <td>0.66</td>\n",
       "    </tr>\n",
       "    <tr>\n",
       "      <th>Williams College</th>\n",
       "      <td>0.96</td>\n",
       "      <td>0.98</td>\n",
       "      <td>1.00</td>\n",
       "    </tr>\n",
       "    <tr>\n",
       "      <th>College of the Holy Cross</th>\n",
       "      <td>0.38</td>\n",
       "      <td>0.50</td>\n",
       "      <td>0.46</td>\n",
       "    </tr>\n",
       "    <tr>\n",
       "      <th>Wellesley College</th>\n",
       "      <td>0.94</td>\n",
       "      <td>0.94</td>\n",
       "      <td>0.94</td>\n",
       "    </tr>\n",
       "    <tr>\n",
       "      <th>Hamilton College</th>\n",
       "      <td>0.60</td>\n",
       "      <td>0.64</td>\n",
       "      <td>0.60</td>\n",
       "    </tr>\n",
       "  </tbody>\n",
       "</table>\n",
       "</div>"
      ],
      "text/plain": [
       "                               2002  2003  2004\n",
       "Skidmore College               0.18  0.16  0.14\n",
       "Wabash College                 0.04  0.10  0.04\n",
       "Amherst College                1.00  1.00  0.98\n",
       "Claremont McKenna College      0.64  0.76  0.76\n",
       "Sarah Lawrence College         0.22  0.04  0.06\n",
       "Dickinson College              0.14  0.14  0.18\n",
       "Occidental College             0.10  0.06  0.20\n",
       "Franklin and Marshall College  0.30  0.30  0.26\n",
       "Union College                  0.28  0.26  0.28\n",
       "Lafayette College              0.36  0.36  0.40\n",
       "Lawrence University            0.06  0.02  0.02\n",
       "Bates College                  0.56  0.58  0.56\n",
       "Vassar College                 0.72  0.72  0.74\n",
       "Carleton College               0.88  0.92  0.92\n",
       "Smith College                  0.74  0.74  0.70\n",
       "Colgate University             0.68  0.62  0.68\n",
       "Swarthmore College             0.98  0.96  0.96\n",
       "Mount Holyoke College          0.54  0.54  0.52\n",
       "Bowdoin College                0.86  0.88  0.82\n",
       "Harvey Mudd College            0.70  0.70  0.62\n",
       "Centre College                 0.16  0.08  0.08\n",
       "Furman University              0.08  0.18  0.16\n",
       "Oberlin College                0.58  0.56  0.54\n",
       "Gettysburg College             0.02  0.12  0.10\n",
       "Washington and Lee University  0.76  0.68  0.78\n",
       "Davidson College               0.82  0.84  0.86\n",
       "Whitman College                0.24  0.22  0.32\n",
       "Wesleyan University            0.78  0.80  0.80\n",
       "Haverford College              0.92  0.82  0.84\n",
       "Bucknell University            0.40  0.40  0.48\n",
       "Scripps College                0.32  0.34  0.30\n",
       "Colby College                  0.62  0.66  0.64\n",
       "Bard College                   0.26  0.28  0.38\n",
       "Connecticut College            0.48  0.42  0.34\n",
       "Rhodes College                 0.12  0.20  0.12\n",
       "Barnard College                0.46  0.46  0.24\n",
       "Macalester College             0.50  0.48  0.50\n",
       "University of the South        0.44  0.44  0.36\n",
       "Kenyon College                 0.34  0.38  0.42\n",
       "Middlebury College             0.84  0.86  0.88\n",
       "Colorado College               0.42  0.32  0.44\n",
       "Pomona College                 0.90  0.90  0.90\n",
       "DePauw University              0.20  0.24  0.22\n",
       "Grinnell College               0.80  0.78  0.72\n",
       "Trinity College                0.52  0.52  0.58\n",
       "Bryn Mawr College              0.66  0.60  0.66\n",
       "Williams College               0.96  0.98  1.00\n",
       "College of the Holy Cross      0.38  0.50  0.46\n",
       "Wellesley College              0.94  0.94  0.94\n",
       "Hamilton College               0.60  0.64  0.60"
      ]
     },
     "execution_count": 11,
     "metadata": {},
     "output_type": "execute_result"
    }
   ],
   "source": [
    "series_item_relevances_df = pd.DataFrame(series_item_relevances,columns=colleges,index=years).T.dropna()\n",
    "series_item_relevances_df"
   ]
  },
  {
   "cell_type": "markdown",
   "metadata": {
    "slideshow": {
     "slide_type": "subslide"
    }
   },
   "source": [
    "I want to see if any team moves outside the top 10"
   ]
  },
  {
   "cell_type": "code",
   "execution_count": 12,
   "metadata": {
    "slideshow": {
     "slide_type": "subslide"
    }
   },
   "outputs": [
    {
     "data": {
      "text/plain": [
       "Index(['Amherst College', 'Swarthmore College', 'Williams College',\n",
       "       'Wellesley College', 'Haverford College', 'Pomona College',\n",
       "       'Carleton College', 'Bowdoin College', 'Middlebury College',\n",
       "       'Davidson College'],\n",
       "      dtype='object')"
      ]
     },
     "execution_count": 12,
     "metadata": {},
     "output_type": "execute_result"
    }
   ],
   "source": [
    "n = 10\n",
    "(-1*series_item_relevances_df.iloc[:,0]).sort_values()[:n].index"
   ]
  },
  {
   "cell_type": "code",
   "execution_count": 13,
   "metadata": {
    "slideshow": {
     "slide_type": "subslide"
    }
   },
   "outputs": [
    {
     "data": {
      "text/plain": [
       "Index(['Amherst College', 'Williams College', 'Swarthmore College',\n",
       "       'Wellesley College', 'Carleton College', 'Pomona College',\n",
       "       'Bowdoin College', 'Middlebury College', 'Davidson College',\n",
       "       'Haverford College'],\n",
       "      dtype='object')"
      ]
     },
     "execution_count": 13,
     "metadata": {},
     "output_type": "execute_result"
    }
   ],
   "source": [
    "(-1*series_item_relevances_df.iloc[:,1]).sort_values()[:n].index"
   ]
  },
  {
   "cell_type": "code",
   "execution_count": 14,
   "metadata": {},
   "outputs": [
    {
     "data": {
      "text/plain": [
       "Index(['Williams College', 'Amherst College', 'Swarthmore College',\n",
       "       'Wellesley College', 'Carleton College', 'Pomona College',\n",
       "       'Middlebury College', 'Davidson College', 'Haverford College',\n",
       "       'Bowdoin College'],\n",
       "      dtype='object')"
      ]
     },
     "execution_count": 14,
     "metadata": {},
     "output_type": "execute_result"
    }
   ],
   "source": [
    "(-1*series_item_relevances_df.iloc[:,2]).sort_values()[:n].index"
   ]
  },
  {
   "cell_type": "code",
   "execution_count": 15,
   "metadata": {
    "slideshow": {
     "slide_type": "subslide"
    }
   },
   "outputs": [
    {
     "data": {
      "text/plain": [
       "10"
      ]
     },
     "execution_count": 15,
     "metadata": {},
     "output_type": "execute_result"
    }
   ],
   "source": [
    "s1 = set((-1*series_item_relevances_df.iloc[:,0]).sort_values()[:n].index)\n",
    "s2 = set((-1*series_item_relevances_df.iloc[:,1]).sort_values()[:n].index)\n",
    "s3 = set((-1*series_item_relevances_df.iloc[:,2]).sort_values()[:n].index)\n",
    "len(s1.intersection(s2))#.intersection(s3))"
   ]
  },
  {
   "cell_type": "code",
   "execution_count": 16,
   "metadata": {
    "slideshow": {
     "slide_type": "subslide"
    }
   },
   "outputs": [
    {
     "data": {
      "text/plain": [
       "10"
      ]
     },
     "execution_count": 16,
     "metadata": {},
     "output_type": "execute_result"
    }
   ],
   "source": [
    "len(s1.union(s2).union(s3))"
   ]
  },
  {
   "cell_type": "code",
   "execution_count": 17,
   "metadata": {
    "slideshow": {
     "slide_type": "skip"
    }
   },
   "outputs": [],
   "source": [
    "def solutions2rankings(solutions,colleges):\n",
    "    rankings = []\n",
    "    for i in range(len(solutions)):\n",
    "        rankings.append(pd.DataFrame(solutions[i],index=colleges).apply(lambda x: np.where(x == 1)[0][0],axis=1))\n",
    "    return rankings"
   ]
  },
  {
   "cell_type": "code",
   "execution_count": 18,
   "metadata": {
    "slideshow": {
     "slide_type": "skip"
    }
   },
   "outputs": [
    {
     "data": {
      "text/plain": [
       "array([0.18, 0.04, 1.  , 0.64, 0.22, 0.14, 0.1 , 0.3 , 0.28, 0.36, 0.06,\n",
       "       0.56, 0.72, 0.88, 0.74, 0.68, 0.98, 0.54, 0.86, 0.7 , 0.16, 0.08,\n",
       "       0.58, 0.02, 0.76, 0.82, 0.24, 0.78, 0.92, 0.4 , 0.32, 0.62, 0.26,\n",
       "       0.48, 0.12, 0.46, 0.5 , 0.44, 0.34, 0.84, 0.42, 0.9 , 0.2 , 0.8 ,\n",
       "       0.52, 0.66, 0.96, 0.38, 0.94, 0.6 ])"
      ]
     },
     "execution_count": 18,
     "metadata": {},
     "output_type": "execute_result"
    }
   ],
   "source": [
    "series_item_relevances[0]"
   ]
  },
  {
   "cell_type": "markdown",
   "metadata": {},
   "source": [
    "## Sanity check\n",
    "\n",
    "I rank equity of fairness one iteration on each relevance matrix. For this, we should get back our exact ranking, and we do."
   ]
  },
  {
   "cell_type": "code",
   "execution_count": 19,
   "metadata": {
    "slideshow": {
     "slide_type": "subslide"
    }
   },
   "outputs": [
    {
     "name": "stdout",
     "output_type": "stream",
     "text": [
      "Using license file /home/jupyter-pander14/gurobi.lic\n",
      "Academic license - for non-commercial use only - expires 2021-04-12\n",
      "Gurobi Optimizer version 9.1.0 build v9.1.0rc0 (linux64)\n",
      "Thread count: 4 physical cores, 8 logical processors, using up to 8 threads\n",
      "Optimize a model with 101 rows, 2500 columns and 5500 nonzeros\n",
      "Model fingerprint: 0xee9159d8\n",
      "Variable types: 0 continuous, 2500 integer (2500 binary)\n",
      "Coefficient statistics:\n",
      "  Matrix range     [4e-03, 1e+00]\n",
      "  Objective range  [3e-03, 1e+00]\n",
      "  Bounds range     [1e+00, 1e+00]\n",
      "  RHS range        [1e+00, 4e+00]\n",
      "Presolve removed 0 rows and 64 columns\n",
      "Presolve time: 0.01s\n",
      "Presolved: 101 rows, 2436 columns, 5298 nonzeros\n",
      "Variable types: 0 continuous, 2436 integer (2436 binary)\n",
      "Found heuristic solution: objective 24.5009766\n",
      "\n",
      "Root relaxation: cutoff, 332 iterations, 0.00 seconds\n",
      "\n",
      "    Nodes    |    Current Node    |     Objective Bounds      |     Work\n",
      " Expl Unexpl |  Obj  Depth IntInf | Incumbent    BestBd   Gap | It/Node Time\n",
      "\n",
      "     0     0     cutoff    0        24.50098   24.50098  0.00%     -    0s\n",
      "\n",
      "Explored 0 nodes (332 simplex iterations) in 0.03 seconds\n",
      "Thread count was 8 (of 8 available processors)\n",
      "\n",
      "Solution count 1: 24.501 \n",
      "\n",
      "Optimal solution found (tolerance 1.00e-04)\n",
      "Best objective 2.450097656250e+01, best bound 2.450097656250e+01, gap 0.0000%\n",
      "Gurobi Optimizer version 9.1.0 build v9.1.0rc0 (linux64)\n",
      "Thread count: 4 physical cores, 8 logical processors, using up to 8 threads\n",
      "Optimize a model with 101 rows, 2500 columns and 5500 nonzeros\n",
      "Model fingerprint: 0x54677693\n",
      "Variable types: 0 continuous, 2500 integer (2500 binary)\n",
      "Coefficient statistics:\n",
      "  Matrix range     [4e-03, 1e+00]\n",
      "  Objective range  [3e-03, 1e+00]\n",
      "  Bounds range     [1e+00, 1e+00]\n",
      "  RHS range        [1e+00, 4e+00]\n",
      "Presolve removed 0 rows and 64 columns\n",
      "Presolve time: 0.01s\n",
      "Presolved: 101 rows, 2436 columns, 5298 nonzeros\n",
      "Variable types: 0 continuous, 2436 integer (2436 binary)\n",
      "Found heuristic solution: objective 24.5009766\n",
      "\n",
      "Root relaxation: cutoff, 373 iterations, 0.00 seconds\n",
      "\n",
      "    Nodes    |    Current Node    |     Objective Bounds      |     Work\n",
      " Expl Unexpl |  Obj  Depth IntInf | Incumbent    BestBd   Gap | It/Node Time\n",
      "\n",
      "     0     0     cutoff    0        24.50098   24.50098  0.00%     -    0s\n",
      "\n",
      "Explored 0 nodes (373 simplex iterations) in 0.03 seconds\n",
      "Thread count was 8 (of 8 available processors)\n",
      "\n",
      "Solution count 1: 24.501 \n",
      "\n",
      "Optimal solution found (tolerance 1.00e-04)\n",
      "Best objective 2.450097656250e+01, best bound 2.450097656250e+01, gap 0.0000%\n",
      "Gurobi Optimizer version 9.1.0 build v9.1.0rc0 (linux64)\n",
      "Thread count: 4 physical cores, 8 logical processors, using up to 8 threads\n",
      "Optimize a model with 101 rows, 2500 columns and 5500 nonzeros\n",
      "Model fingerprint: 0x20bb5a08\n",
      "Variable types: 0 continuous, 2500 integer (2500 binary)\n",
      "Coefficient statistics:\n",
      "  Matrix range     [4e-03, 1e+00]\n",
      "  Objective range  [3e-03, 1e+00]\n",
      "  Bounds range     [1e+00, 1e+00]\n",
      "  RHS range        [1e+00, 4e+00]\n",
      "Presolve removed 0 rows and 64 columns\n",
      "Presolve time: 0.01s\n",
      "Presolved: 101 rows, 2436 columns, 5298 nonzeros\n",
      "Variable types: 0 continuous, 2436 integer (2436 binary)\n",
      "Found heuristic solution: objective 24.5009766\n",
      "\n",
      "Root relaxation: cutoff, 437 iterations, 0.00 seconds\n",
      "\n",
      "    Nodes    |    Current Node    |     Objective Bounds      |     Work\n",
      " Expl Unexpl |  Obj  Depth IntInf | Incumbent    BestBd   Gap | It/Node Time\n",
      "\n",
      "     0     0     cutoff    0        24.50098   24.50098  0.00%     -    0s\n",
      "\n",
      "Explored 0 nodes (437 simplex iterations) in 0.03 seconds\n",
      "Thread count was 8 (of 8 available processors)\n",
      "\n",
      "Solution count 1: 24.501 \n",
      "\n",
      "Optimal solution found (tolerance 1.00e-04)\n",
      "Best objective 2.450097656250e+01, best bound 2.450097656250e+01, gap 0.0000%\n"
     ]
    }
   ],
   "source": [
    "single_solutions = []\n",
    "single_baseline_unfairness = []\n",
    "single_unfairness = []\n",
    "single_rankings = []\n",
    "for i in range(len(series_item_relevances)):\n",
    "    solutions, baseline_unfairness, unfairness = equity_of_attention.common.model_3([series_item_relevances[i]],item_names=colleges)\n",
    "    single_solutions.append(solutions)\n",
    "    single_baseline_unfairness.append(baseline_unfairness)\n",
    "    single_unfairness.append(unfairness)\n",
    "    single_rankings.append(solutions2rankings(solutions,colleges))"
   ]
  },
  {
   "cell_type": "code",
   "execution_count": 20,
   "metadata": {
    "slideshow": {
     "slide_type": "subslide"
    }
   },
   "outputs": [
    {
     "data": {
      "text/plain": [
       "Amherst College                   0\n",
       "Swarthmore College                1\n",
       "Williams College                  2\n",
       "Wellesley College                 3\n",
       "Haverford College                 4\n",
       "Pomona College                    5\n",
       "Carleton College                  6\n",
       "Bowdoin College                   7\n",
       "Middlebury College                8\n",
       "Davidson College                  9\n",
       "Occidental College               10\n",
       "Dickinson College                11\n",
       "Sarah Lawrence College           12\n",
       "Claremont McKenna College        13\n",
       "Wabash College                   14\n",
       "Skidmore College                 15\n",
       "Hamilton College                 16\n",
       "College of the Holy Cross        17\n",
       "Bryn Mawr College                18\n",
       "Trinity College                  19\n",
       "Grinnell College                 20\n",
       "DePauw University                21\n",
       "Colorado College                 22\n",
       "Franklin and Marshall College    23\n",
       "Kenyon College                   24\n",
       "University of the South          25\n",
       "Macalester College               26\n",
       "Barnard College                  27\n",
       "Rhodes College                   28\n",
       "Union College                    29\n",
       "Connecticut College              30\n",
       "Bard College                     31\n",
       "Colby College                    32\n",
       "Scripps College                  33\n",
       "Bucknell University              34\n",
       "Wesleyan University              35\n",
       "Whitman College                  36\n",
       "Washington and Lee University    37\n",
       "Gettysburg College               38\n",
       "Oberlin College                  39\n",
       "Furman University                40\n",
       "Centre College                   41\n",
       "Harvey Mudd College              42\n",
       "Mount Holyoke College            43\n",
       "Colgate University               44\n",
       "Smith College                    45\n",
       "Vassar College                   46\n",
       "Bates College                    47\n",
       "Lawrence University              48\n",
       "Lafayette College                49\n",
       "dtype: int64"
      ]
     },
     "metadata": {},
     "output_type": "display_data"
    },
    {
     "data": {
      "text/plain": [
       "Amherst College                   0\n",
       "Williams College                  1\n",
       "Swarthmore College                2\n",
       "Wellesley College                 3\n",
       "Carleton College                  4\n",
       "Pomona College                    5\n",
       "Bowdoin College                   6\n",
       "Middlebury College                7\n",
       "Davidson College                  8\n",
       "Haverford College                 9\n",
       "Occidental College               10\n",
       "Dickinson College                11\n",
       "Sarah Lawrence College           12\n",
       "Claremont McKenna College        13\n",
       "Wabash College                   14\n",
       "Skidmore College                 15\n",
       "Hamilton College                 16\n",
       "College of the Holy Cross        17\n",
       "Bryn Mawr College                18\n",
       "Trinity College                  19\n",
       "Grinnell College                 20\n",
       "DePauw University                21\n",
       "Colorado College                 22\n",
       "Kenyon College                   23\n",
       "University of the South          24\n",
       "Macalester College               25\n",
       "Barnard College                  26\n",
       "Rhodes College                   27\n",
       "Connecticut College              28\n",
       "Bard College                     29\n",
       "Colby College                    30\n",
       "Union College                    31\n",
       "Franklin and Marshall College    32\n",
       "Scripps College                  33\n",
       "Bucknell University              34\n",
       "Wesleyan University              35\n",
       "Whitman College                  36\n",
       "Washington and Lee University    37\n",
       "Gettysburg College               38\n",
       "Oberlin College                  39\n",
       "Furman University                40\n",
       "Centre College                   41\n",
       "Harvey Mudd College              42\n",
       "Mount Holyoke College            43\n",
       "Colgate University               44\n",
       "Smith College                    45\n",
       "Vassar College                   46\n",
       "Bates College                    47\n",
       "Lawrence University              48\n",
       "Lafayette College                49\n",
       "dtype: int64"
      ]
     },
     "metadata": {},
     "output_type": "display_data"
    },
    {
     "data": {
      "text/plain": [
       "Williams College                  0\n",
       "Amherst College                   1\n",
       "Swarthmore College                2\n",
       "Wellesley College                 3\n",
       "Carleton College                  4\n",
       "Pomona College                    5\n",
       "Middlebury College                6\n",
       "Davidson College                  7\n",
       "Haverford College                 8\n",
       "Bowdoin College                   9\n",
       "Occidental College               10\n",
       "Dickinson College                11\n",
       "Sarah Lawrence College           12\n",
       "Claremont McKenna College        13\n",
       "Wabash College                   14\n",
       "Skidmore College                 15\n",
       "Hamilton College                 16\n",
       "College of the Holy Cross        17\n",
       "Bryn Mawr College                18\n",
       "Trinity College                  19\n",
       "Grinnell College                 20\n",
       "DePauw University                21\n",
       "Colorado College                 22\n",
       "Kenyon College                   23\n",
       "University of the South          24\n",
       "Macalester College               25\n",
       "Barnard College                  26\n",
       "Rhodes College                   27\n",
       "Union College                    28\n",
       "Connecticut College              29\n",
       "Bard College                     30\n",
       "Colby College                    31\n",
       "Scripps College                  32\n",
       "Bucknell University              33\n",
       "Wesleyan University              34\n",
       "Whitman College                  35\n",
       "Washington and Lee University    36\n",
       "Gettysburg College               37\n",
       "Oberlin College                  38\n",
       "Furman University                39\n",
       "Franklin and Marshall College    40\n",
       "Centre College                   41\n",
       "Harvey Mudd College              42\n",
       "Mount Holyoke College            43\n",
       "Colgate University               44\n",
       "Smith College                    45\n",
       "Vassar College                   46\n",
       "Bates College                    47\n",
       "Lawrence University              48\n",
       "Lafayette College                49\n",
       "dtype: int64"
      ]
     },
     "metadata": {},
     "output_type": "display_data"
    }
   ],
   "source": [
    "for i in range(len(series_item_relevances)):\n",
    "    rankings = solutions2rankings(single_solutions[i],colleges)\n",
    "    display(rankings[0].sort_values())"
   ]
  },
  {
   "cell_type": "markdown",
   "metadata": {},
   "source": [
    "### Now let's run equity of attention on all three in a series\n",
    "\n",
    "I am not doing any repeats of the same year."
   ]
  },
  {
   "cell_type": "code",
   "execution_count": 21,
   "metadata": {
    "slideshow": {
     "slide_type": "subslide"
    }
   },
   "outputs": [
    {
     "name": "stdout",
     "output_type": "stream",
     "text": [
      "Gurobi Optimizer version 9.1.0 build v9.1.0rc0 (linux64)\n",
      "Thread count: 4 physical cores, 8 logical processors, using up to 8 threads\n",
      "Optimize a model with 101 rows, 2500 columns and 5500 nonzeros\n",
      "Model fingerprint: 0xee9159d8\n",
      "Variable types: 0 continuous, 2500 integer (2500 binary)\n",
      "Coefficient statistics:\n",
      "  Matrix range     [4e-03, 1e+00]\n",
      "  Objective range  [3e-03, 1e+00]\n",
      "  Bounds range     [1e+00, 1e+00]\n",
      "  RHS range        [1e+00, 4e+00]\n",
      "Presolve removed 0 rows and 64 columns\n",
      "Presolve time: 0.02s\n",
      "Presolved: 101 rows, 2436 columns, 5298 nonzeros\n",
      "Variable types: 0 continuous, 2436 integer (2436 binary)\n",
      "Found heuristic solution: objective 24.5009766\n",
      "\n",
      "Root relaxation: cutoff, 332 iterations, 0.00 seconds\n",
      "\n",
      "    Nodes    |    Current Node    |     Objective Bounds      |     Work\n",
      " Expl Unexpl |  Obj  Depth IntInf | Incumbent    BestBd   Gap | It/Node Time\n",
      "\n",
      "     0     0     cutoff    0        24.50098   24.50098  0.00%     -    0s\n",
      "\n",
      "Explored 0 nodes (332 simplex iterations) in 0.04 seconds\n",
      "Thread count was 8 (of 8 available processors)\n",
      "\n",
      "Solution count 1: 24.501 \n",
      "\n",
      "Optimal solution found (tolerance 1.00e-04)\n",
      "Best objective 2.450097656250e+01, best bound 2.450097656250e+01, gap 0.0000%\n",
      "Gurobi Optimizer version 9.1.0 build v9.1.0rc0 (linux64)\n",
      "Thread count: 4 physical cores, 8 logical processors, using up to 8 threads\n",
      "Optimize a model with 101 rows, 2500 columns and 5500 nonzeros\n",
      "Model fingerprint: 0xc2500d17\n",
      "Variable types: 0 continuous, 2500 integer (2500 binary)\n",
      "Coefficient statistics:\n",
      "  Matrix range     [4e-03, 1e+00]\n",
      "  Objective range  [1e-02, 2e+00]\n",
      "  Bounds range     [1e+00, 1e+00]\n",
      "  RHS range        [1e+00, 4e+00]\n",
      "Presolve removed 0 rows and 64 columns\n",
      "Presolve time: 0.01s\n",
      "Presolved: 101 rows, 2436 columns, 5298 nonzeros\n",
      "Variable types: 0 continuous, 2436 integer (2436 binary)\n",
      "Found heuristic solution: objective 49.0019531\n",
      "\n",
      "Root relaxation: cutoff, 374 iterations, 0.00 seconds\n",
      "\n",
      "    Nodes    |    Current Node    |     Objective Bounds      |     Work\n",
      " Expl Unexpl |  Obj  Depth IntInf | Incumbent    BestBd   Gap | It/Node Time\n",
      "\n",
      "     0     0     cutoff    0        49.00195   49.00195  0.00%     -    0s\n",
      "\n",
      "Explored 0 nodes (374 simplex iterations) in 0.03 seconds\n",
      "Thread count was 8 (of 8 available processors)\n",
      "\n",
      "Solution count 1: 49.002 \n",
      "\n",
      "Optimal solution found (tolerance 1.00e-04)\n",
      "Best objective 4.900195312500e+01, best bound 4.900195312500e+01, gap 0.0000%\n",
      "Gurobi Optimizer version 9.1.0 build v9.1.0rc0 (linux64)\n",
      "Thread count: 4 physical cores, 8 logical processors, using up to 8 threads\n",
      "Optimize a model with 101 rows, 2500 columns and 5500 nonzeros\n",
      "Model fingerprint: 0x05e0310d\n",
      "Variable types: 0 continuous, 2500 integer (2500 binary)\n",
      "Coefficient statistics:\n",
      "  Matrix range     [4e-03, 1e+00]\n",
      "  Objective range  [1e-02, 3e+00]\n",
      "  Bounds range     [1e+00, 1e+00]\n",
      "  RHS range        [1e+00, 4e+00]\n",
      "Presolve removed 0 rows and 64 columns\n",
      "Presolve time: 0.01s\n",
      "Presolved: 101 rows, 2436 columns, 5298 nonzeros\n",
      "Variable types: 0 continuous, 2436 integer (2436 binary)\n",
      "Found heuristic solution: objective 73.5029297\n",
      "\n",
      "Root relaxation: cutoff, 412 iterations, 0.00 seconds\n",
      "\n",
      "    Nodes    |    Current Node    |     Objective Bounds      |     Work\n",
      " Expl Unexpl |  Obj  Depth IntInf | Incumbent    BestBd   Gap | It/Node Time\n",
      "\n",
      "     0     0     cutoff    0        73.50293   73.50293  0.00%     -    0s\n",
      "\n",
      "Explored 0 nodes (412 simplex iterations) in 0.03 seconds\n",
      "Thread count was 8 (of 8 available processors)\n",
      "\n",
      "Solution count 1: 73.5029 \n",
      "\n",
      "Optimal solution found (tolerance 1.00e-04)\n",
      "Best objective 7.350292968750e+01, best bound 7.350292968750e+01, gap 0.0000%\n"
     ]
    }
   ],
   "source": [
    "solutions, baseline_unfairness, unfairness = equity_of_attention.common.model_3(series_item_relevances)"
   ]
  },
  {
   "cell_type": "code",
   "execution_count": 22,
   "metadata": {
    "slideshow": {
     "slide_type": "subslide"
    }
   },
   "outputs": [],
   "source": [
    "rankings = solutions2rankings(solutions,colleges)"
   ]
  },
  {
   "cell_type": "code",
   "execution_count": 23,
   "metadata": {
    "slideshow": {
     "slide_type": "subslide"
    }
   },
   "outputs": [
    {
     "data": {
      "text/html": [
       "<div>\n",
       "<style scoped>\n",
       "    .dataframe tbody tr th:only-of-type {\n",
       "        vertical-align: middle;\n",
       "    }\n",
       "\n",
       "    .dataframe tbody tr th {\n",
       "        vertical-align: top;\n",
       "    }\n",
       "\n",
       "    .dataframe thead th {\n",
       "        text-align: right;\n",
       "    }\n",
       "</style>\n",
       "<table border=\"1\" class=\"dataframe\">\n",
       "  <thead>\n",
       "    <tr style=\"text-align: right;\">\n",
       "      <th></th>\n",
       "      <th>2002</th>\n",
       "      <th>2003</th>\n",
       "      <th>2004</th>\n",
       "    </tr>\n",
       "  </thead>\n",
       "  <tbody>\n",
       "    <tr>\n",
       "      <th>0</th>\n",
       "      <td>Amherst College</td>\n",
       "      <td>Amherst College</td>\n",
       "      <td>Williams College</td>\n",
       "    </tr>\n",
       "    <tr>\n",
       "      <th>1</th>\n",
       "      <td>Swarthmore College</td>\n",
       "      <td>Williams College</td>\n",
       "      <td>Amherst College</td>\n",
       "    </tr>\n",
       "    <tr>\n",
       "      <th>2</th>\n",
       "      <td>Williams College</td>\n",
       "      <td>Swarthmore College</td>\n",
       "      <td>Swarthmore College</td>\n",
       "    </tr>\n",
       "    <tr>\n",
       "      <th>3</th>\n",
       "      <td>Wellesley College</td>\n",
       "      <td>Wellesley College</td>\n",
       "      <td>Wellesley College</td>\n",
       "    </tr>\n",
       "    <tr>\n",
       "      <th>4</th>\n",
       "      <td>Haverford College</td>\n",
       "      <td>Carleton College</td>\n",
       "      <td>Carleton College</td>\n",
       "    </tr>\n",
       "    <tr>\n",
       "      <th>5</th>\n",
       "      <td>Pomona College</td>\n",
       "      <td>Pomona College</td>\n",
       "      <td>Pomona College</td>\n",
       "    </tr>\n",
       "    <tr>\n",
       "      <th>6</th>\n",
       "      <td>Carleton College</td>\n",
       "      <td>Bowdoin College</td>\n",
       "      <td>Middlebury College</td>\n",
       "    </tr>\n",
       "    <tr>\n",
       "      <th>7</th>\n",
       "      <td>Bowdoin College</td>\n",
       "      <td>Middlebury College</td>\n",
       "      <td>Davidson College</td>\n",
       "    </tr>\n",
       "    <tr>\n",
       "      <th>8</th>\n",
       "      <td>Middlebury College</td>\n",
       "      <td>Davidson College</td>\n",
       "      <td>Haverford College</td>\n",
       "    </tr>\n",
       "    <tr>\n",
       "      <th>9</th>\n",
       "      <td>Davidson College</td>\n",
       "      <td>Haverford College</td>\n",
       "      <td>Bowdoin College</td>\n",
       "    </tr>\n",
       "    <tr>\n",
       "      <th>10</th>\n",
       "      <td>Occidental College</td>\n",
       "      <td>Occidental College</td>\n",
       "      <td>Occidental College</td>\n",
       "    </tr>\n",
       "    <tr>\n",
       "      <th>11</th>\n",
       "      <td>Dickinson College</td>\n",
       "      <td>Dickinson College</td>\n",
       "      <td>Dickinson College</td>\n",
       "    </tr>\n",
       "    <tr>\n",
       "      <th>12</th>\n",
       "      <td>Sarah Lawrence College</td>\n",
       "      <td>Sarah Lawrence College</td>\n",
       "      <td>Sarah Lawrence College</td>\n",
       "    </tr>\n",
       "    <tr>\n",
       "      <th>13</th>\n",
       "      <td>Claremont McKenna College</td>\n",
       "      <td>Claremont McKenna College</td>\n",
       "      <td>Claremont McKenna College</td>\n",
       "    </tr>\n",
       "    <tr>\n",
       "      <th>14</th>\n",
       "      <td>Wabash College</td>\n",
       "      <td>Wabash College</td>\n",
       "      <td>Wabash College</td>\n",
       "    </tr>\n",
       "    <tr>\n",
       "      <th>15</th>\n",
       "      <td>Skidmore College</td>\n",
       "      <td>Skidmore College</td>\n",
       "      <td>Skidmore College</td>\n",
       "    </tr>\n",
       "    <tr>\n",
       "      <th>16</th>\n",
       "      <td>Hamilton College</td>\n",
       "      <td>Hamilton College</td>\n",
       "      <td>Hamilton College</td>\n",
       "    </tr>\n",
       "    <tr>\n",
       "      <th>17</th>\n",
       "      <td>College of the Holy Cross</td>\n",
       "      <td>College of the Holy Cross</td>\n",
       "      <td>College of the Holy Cross</td>\n",
       "    </tr>\n",
       "    <tr>\n",
       "      <th>18</th>\n",
       "      <td>Bryn Mawr College</td>\n",
       "      <td>Bryn Mawr College</td>\n",
       "      <td>Bryn Mawr College</td>\n",
       "    </tr>\n",
       "    <tr>\n",
       "      <th>19</th>\n",
       "      <td>Trinity College</td>\n",
       "      <td>Trinity College</td>\n",
       "      <td>Trinity College</td>\n",
       "    </tr>\n",
       "  </tbody>\n",
       "</table>\n",
       "</div>"
      ],
      "text/plain": [
       "                         2002                       2003  \\\n",
       "0             Amherst College            Amherst College   \n",
       "1          Swarthmore College           Williams College   \n",
       "2            Williams College         Swarthmore College   \n",
       "3           Wellesley College          Wellesley College   \n",
       "4           Haverford College           Carleton College   \n",
       "5              Pomona College             Pomona College   \n",
       "6            Carleton College            Bowdoin College   \n",
       "7             Bowdoin College         Middlebury College   \n",
       "8          Middlebury College           Davidson College   \n",
       "9            Davidson College          Haverford College   \n",
       "10         Occidental College         Occidental College   \n",
       "11          Dickinson College          Dickinson College   \n",
       "12     Sarah Lawrence College     Sarah Lawrence College   \n",
       "13  Claremont McKenna College  Claremont McKenna College   \n",
       "14             Wabash College             Wabash College   \n",
       "15           Skidmore College           Skidmore College   \n",
       "16           Hamilton College           Hamilton College   \n",
       "17  College of the Holy Cross  College of the Holy Cross   \n",
       "18          Bryn Mawr College          Bryn Mawr College   \n",
       "19            Trinity College            Trinity College   \n",
       "\n",
       "                         2004  \n",
       "0            Williams College  \n",
       "1             Amherst College  \n",
       "2          Swarthmore College  \n",
       "3           Wellesley College  \n",
       "4            Carleton College  \n",
       "5              Pomona College  \n",
       "6          Middlebury College  \n",
       "7            Davidson College  \n",
       "8           Haverford College  \n",
       "9             Bowdoin College  \n",
       "10         Occidental College  \n",
       "11          Dickinson College  \n",
       "12     Sarah Lawrence College  \n",
       "13  Claremont McKenna College  \n",
       "14             Wabash College  \n",
       "15           Skidmore College  \n",
       "16           Hamilton College  \n",
       "17  College of the Holy Cross  \n",
       "18          Bryn Mawr College  \n",
       "19            Trinity College  "
      ]
     },
     "execution_count": 23,
     "metadata": {},
     "output_type": "execute_result"
    }
   ],
   "source": [
    "k = 20\n",
    "top_k = []\n",
    "for i in range(len(rankings)):\n",
    "    top_k.append(list(rankings[i].sort_values()[:k].index))\n",
    "top_k_df = pd.DataFrame(top_k,index=years).T\n",
    "top_k_df"
   ]
  },
  {
   "cell_type": "code",
   "execution_count": 24,
   "metadata": {},
   "outputs": [
    {
     "data": {
      "text/plain": [
       "Index(['Williams College', 'Amherst College', 'Swarthmore College',\n",
       "       'Wellesley College', 'Carleton College', 'Pomona College',\n",
       "       'Middlebury College', 'Davidson College', 'Haverford College',\n",
       "       'Bowdoin College', 'Wesleyan University',\n",
       "       'Washington and Lee University', 'Claremont McKenna College',\n",
       "       'Vassar College', 'Grinnell College', 'Smith College',\n",
       "       'Colgate University', 'Bryn Mawr College', 'Colby College',\n",
       "       'Harvey Mudd College', 'Hamilton College', 'Trinity College',\n",
       "       'Bates College', 'Oberlin College', 'Mount Holyoke College',\n",
       "       'Macalester College', 'Bucknell University',\n",
       "       'College of the Holy Cross', 'Colorado College', 'Kenyon College',\n",
       "       'Lafayette College', 'Bard College', 'University of the South',\n",
       "       'Connecticut College', 'Whitman College', 'Scripps College',\n",
       "       'Union College', 'Franklin and Marshall College', 'Barnard College',\n",
       "       'DePauw University', 'Occidental College', 'Dickinson College',\n",
       "       'Furman University', 'Skidmore College', 'Rhodes College',\n",
       "       'Gettysburg College', 'Centre College', 'Sarah Lawrence College',\n",
       "       'Wabash College', 'Lawrence University'],\n",
       "      dtype='object')"
      ]
     },
     "execution_count": 24,
     "metadata": {},
     "output_type": "execute_result"
    }
   ],
   "source": [
    "(-1*series_item_relevances_df.iloc[:,2]).sort_values().index"
   ]
  },
  {
   "cell_type": "markdown",
   "metadata": {
    "slideshow": {
     "slide_type": "subslide"
    }
   },
   "source": [
    "## Now enter the student\n",
    "Select the colleges of interest to them"
   ]
  },
  {
   "cell_type": "code",
   "execution_count": 25,
   "metadata": {
    "slideshow": {
     "slide_type": "subslide"
    }
   },
   "outputs": [],
   "source": [
    "#colleges_of_interest = np.unique(top_k_df)"
   ]
  },
  {
   "cell_type": "markdown",
   "metadata": {},
   "source": [
    "## Now grag the D matrix for the final year"
   ]
  },
  {
   "cell_type": "code",
   "execution_count": 26,
   "metadata": {
    "slideshow": {
     "slide_type": "subslide"
    }
   },
   "outputs": [
    {
     "data": {
      "text/html": [
       "<div>\n",
       "<style scoped>\n",
       "    .dataframe tbody tr th:only-of-type {\n",
       "        vertical-align: middle;\n",
       "    }\n",
       "\n",
       "    .dataframe tbody tr th {\n",
       "        vertical-align: top;\n",
       "    }\n",
       "\n",
       "    .dataframe thead th {\n",
       "        text-align: right;\n",
       "    }\n",
       "</style>\n",
       "<table border=\"1\" class=\"dataframe\">\n",
       "  <thead>\n",
       "    <tr style=\"text-align: right;\">\n",
       "      <th></th>\n",
       "      <th>Amherst College</th>\n",
       "      <th>Bowdoin College</th>\n",
       "      <th>Carleton College</th>\n",
       "      <th>Claremont McKenna College</th>\n",
       "      <th>Davidson College</th>\n",
       "      <th>Haverford College</th>\n",
       "      <th>Middlebury College</th>\n",
       "      <th>Pomona College</th>\n",
       "      <th>Swarthmore College</th>\n",
       "      <th>Wellesley College</th>\n",
       "      <th>Williams College</th>\n",
       "    </tr>\n",
       "    <tr>\n",
       "      <th>School Name1</th>\n",
       "      <th></th>\n",
       "      <th></th>\n",
       "      <th></th>\n",
       "      <th></th>\n",
       "      <th></th>\n",
       "      <th></th>\n",
       "      <th></th>\n",
       "      <th></th>\n",
       "      <th></th>\n",
       "      <th></th>\n",
       "      <th></th>\n",
       "    </tr>\n",
       "  </thead>\n",
       "  <tbody>\n",
       "    <tr>\n",
       "      <th>Amherst College</th>\n",
       "      <td>0.0</td>\n",
       "      <td>5.0</td>\n",
       "      <td>4.0</td>\n",
       "      <td>6.0</td>\n",
       "      <td>5.0</td>\n",
       "      <td>5.0</td>\n",
       "      <td>3.0</td>\n",
       "      <td>4.0</td>\n",
       "      <td>3.0</td>\n",
       "      <td>6.0</td>\n",
       "      <td>4.0</td>\n",
       "    </tr>\n",
       "    <tr>\n",
       "      <th>Bowdoin College</th>\n",
       "      <td>1.0</td>\n",
       "      <td>0.0</td>\n",
       "      <td>4.0</td>\n",
       "      <td>4.0</td>\n",
       "      <td>5.0</td>\n",
       "      <td>3.0</td>\n",
       "      <td>2.0</td>\n",
       "      <td>3.0</td>\n",
       "      <td>1.0</td>\n",
       "      <td>5.0</td>\n",
       "      <td>1.0</td>\n",
       "    </tr>\n",
       "    <tr>\n",
       "      <th>Carleton College</th>\n",
       "      <td>2.0</td>\n",
       "      <td>2.0</td>\n",
       "      <td>0.0</td>\n",
       "      <td>3.0</td>\n",
       "      <td>3.0</td>\n",
       "      <td>2.0</td>\n",
       "      <td>2.0</td>\n",
       "      <td>2.0</td>\n",
       "      <td>1.0</td>\n",
       "      <td>3.0</td>\n",
       "      <td>2.0</td>\n",
       "    </tr>\n",
       "    <tr>\n",
       "      <th>Claremont McKenna College</th>\n",
       "      <td>0.0</td>\n",
       "      <td>2.0</td>\n",
       "      <td>3.0</td>\n",
       "      <td>0.0</td>\n",
       "      <td>4.0</td>\n",
       "      <td>4.0</td>\n",
       "      <td>1.0</td>\n",
       "      <td>3.0</td>\n",
       "      <td>0.0</td>\n",
       "      <td>4.0</td>\n",
       "      <td>1.0</td>\n",
       "    </tr>\n",
       "    <tr>\n",
       "      <th>Davidson College</th>\n",
       "      <td>1.0</td>\n",
       "      <td>1.0</td>\n",
       "      <td>3.0</td>\n",
       "      <td>2.0</td>\n",
       "      <td>0.0</td>\n",
       "      <td>1.0</td>\n",
       "      <td>2.0</td>\n",
       "      <td>2.0</td>\n",
       "      <td>1.0</td>\n",
       "      <td>4.0</td>\n",
       "      <td>1.0</td>\n",
       "    </tr>\n",
       "    <tr>\n",
       "      <th>Haverford College</th>\n",
       "      <td>1.0</td>\n",
       "      <td>3.0</td>\n",
       "      <td>4.0</td>\n",
       "      <td>2.0</td>\n",
       "      <td>5.0</td>\n",
       "      <td>0.0</td>\n",
       "      <td>3.0</td>\n",
       "      <td>2.0</td>\n",
       "      <td>2.0</td>\n",
       "      <td>6.0</td>\n",
       "      <td>2.0</td>\n",
       "    </tr>\n",
       "    <tr>\n",
       "      <th>Middlebury College</th>\n",
       "      <td>3.0</td>\n",
       "      <td>4.0</td>\n",
       "      <td>4.0</td>\n",
       "      <td>5.0</td>\n",
       "      <td>4.0</td>\n",
       "      <td>3.0</td>\n",
       "      <td>0.0</td>\n",
       "      <td>3.0</td>\n",
       "      <td>2.0</td>\n",
       "      <td>5.0</td>\n",
       "      <td>3.0</td>\n",
       "    </tr>\n",
       "    <tr>\n",
       "      <th>Pomona College</th>\n",
       "      <td>2.0</td>\n",
       "      <td>3.0</td>\n",
       "      <td>4.0</td>\n",
       "      <td>3.0</td>\n",
       "      <td>4.0</td>\n",
       "      <td>4.0</td>\n",
       "      <td>3.0</td>\n",
       "      <td>0.0</td>\n",
       "      <td>2.0</td>\n",
       "      <td>5.0</td>\n",
       "      <td>3.0</td>\n",
       "    </tr>\n",
       "    <tr>\n",
       "      <th>Swarthmore College</th>\n",
       "      <td>3.0</td>\n",
       "      <td>5.0</td>\n",
       "      <td>5.0</td>\n",
       "      <td>6.0</td>\n",
       "      <td>5.0</td>\n",
       "      <td>4.0</td>\n",
       "      <td>4.0</td>\n",
       "      <td>4.0</td>\n",
       "      <td>0.0</td>\n",
       "      <td>6.0</td>\n",
       "      <td>4.0</td>\n",
       "    </tr>\n",
       "    <tr>\n",
       "      <th>Wellesley College</th>\n",
       "      <td>0.0</td>\n",
       "      <td>1.0</td>\n",
       "      <td>3.0</td>\n",
       "      <td>2.0</td>\n",
       "      <td>2.0</td>\n",
       "      <td>0.0</td>\n",
       "      <td>1.0</td>\n",
       "      <td>1.0</td>\n",
       "      <td>0.0</td>\n",
       "      <td>0.0</td>\n",
       "      <td>2.0</td>\n",
       "    </tr>\n",
       "    <tr>\n",
       "      <th>Williams College</th>\n",
       "      <td>2.0</td>\n",
       "      <td>5.0</td>\n",
       "      <td>4.0</td>\n",
       "      <td>5.0</td>\n",
       "      <td>5.0</td>\n",
       "      <td>4.0</td>\n",
       "      <td>3.0</td>\n",
       "      <td>3.0</td>\n",
       "      <td>2.0</td>\n",
       "      <td>4.0</td>\n",
       "      <td>0.0</td>\n",
       "    </tr>\n",
       "  </tbody>\n",
       "</table>\n",
       "</div>"
      ],
      "text/plain": [
       "                           Amherst College  Bowdoin College  Carleton College  \\\n",
       "School Name1                                                                    \n",
       "Amherst College                        0.0              5.0               4.0   \n",
       "Bowdoin College                        1.0              0.0               4.0   \n",
       "Carleton College                       2.0              2.0               0.0   \n",
       "Claremont McKenna College              0.0              2.0               3.0   \n",
       "Davidson College                       1.0              1.0               3.0   \n",
       "Haverford College                      1.0              3.0               4.0   \n",
       "Middlebury College                     3.0              4.0               4.0   \n",
       "Pomona College                         2.0              3.0               4.0   \n",
       "Swarthmore College                     3.0              5.0               5.0   \n",
       "Wellesley College                      0.0              1.0               3.0   \n",
       "Williams College                       2.0              5.0               4.0   \n",
       "\n",
       "                           Claremont McKenna College  Davidson College  \\\n",
       "School Name1                                                             \n",
       "Amherst College                                  6.0               5.0   \n",
       "Bowdoin College                                  4.0               5.0   \n",
       "Carleton College                                 3.0               3.0   \n",
       "Claremont McKenna College                        0.0               4.0   \n",
       "Davidson College                                 2.0               0.0   \n",
       "Haverford College                                2.0               5.0   \n",
       "Middlebury College                               5.0               4.0   \n",
       "Pomona College                                   3.0               4.0   \n",
       "Swarthmore College                               6.0               5.0   \n",
       "Wellesley College                                2.0               2.0   \n",
       "Williams College                                 5.0               5.0   \n",
       "\n",
       "                           Haverford College  Middlebury College  \\\n",
       "School Name1                                                       \n",
       "Amherst College                          5.0                 3.0   \n",
       "Bowdoin College                          3.0                 2.0   \n",
       "Carleton College                         2.0                 2.0   \n",
       "Claremont McKenna College                4.0                 1.0   \n",
       "Davidson College                         1.0                 2.0   \n",
       "Haverford College                        0.0                 3.0   \n",
       "Middlebury College                       3.0                 0.0   \n",
       "Pomona College                           4.0                 3.0   \n",
       "Swarthmore College                       4.0                 4.0   \n",
       "Wellesley College                        0.0                 1.0   \n",
       "Williams College                         4.0                 3.0   \n",
       "\n",
       "                           Pomona College  Swarthmore College  \\\n",
       "School Name1                                                    \n",
       "Amherst College                       4.0                 3.0   \n",
       "Bowdoin College                       3.0                 1.0   \n",
       "Carleton College                      2.0                 1.0   \n",
       "Claremont McKenna College             3.0                 0.0   \n",
       "Davidson College                      2.0                 1.0   \n",
       "Haverford College                     2.0                 2.0   \n",
       "Middlebury College                    3.0                 2.0   \n",
       "Pomona College                        0.0                 2.0   \n",
       "Swarthmore College                    4.0                 0.0   \n",
       "Wellesley College                     1.0                 0.0   \n",
       "Williams College                      3.0                 2.0   \n",
       "\n",
       "                           Wellesley College  Williams College  \n",
       "School Name1                                                    \n",
       "Amherst College                          6.0               4.0  \n",
       "Bowdoin College                          5.0               1.0  \n",
       "Carleton College                         3.0               2.0  \n",
       "Claremont McKenna College                4.0               1.0  \n",
       "Davidson College                         4.0               1.0  \n",
       "Haverford College                        6.0               2.0  \n",
       "Middlebury College                       5.0               3.0  \n",
       "Pomona College                           5.0               3.0  \n",
       "Swarthmore College                       6.0               4.0  \n",
       "Wellesley College                        0.0               2.0  \n",
       "Williams College                         4.0               0.0  "
      ]
     },
     "execution_count": 26,
     "metadata": {},
     "output_type": "execute_result"
    }
   ],
   "source": [
    "class Details:\n",
    "    def __init__(self, **entries):\n",
    "        self.__dict__.update(entries)\n",
    "        \n",
    "import joblib\n",
    "Ds = joblib.load('results/Ds.joblib.z')\n",
    "D = Ds.loc[(2002,'Both'),'D']\n",
    "D"
   ]
  },
  {
   "cell_type": "code",
   "execution_count": 27,
   "metadata": {
    "slideshow": {
     "slide_type": "subslide"
    }
   },
   "outputs": [],
   "source": [
    "colleges_of_interest = list(D.columns)"
   ]
  },
  {
   "cell_type": "code",
   "execution_count": 28,
   "metadata": {
    "slideshow": {
     "slide_type": "skip"
    }
   },
   "outputs": [],
   "source": [
    "#data_for_D = []\n",
    "#data_for_D.append(list(data[year]['Final Rank Fixed'].values))\n",
    "#data_for_D = pd.DataFrame(data_for_D,columns=colleges,index=years).T\n",
    "#data_for_D = data_for_D.loc[colleges_of_interest]\n",
    "#data_for_D"
   ]
  },
  {
   "cell_type": "code",
   "execution_count": 29,
   "metadata": {
    "slideshow": {
     "slide_type": "skip"
    }
   },
   "outputs": [],
   "source": [
    "#trans = pyrplib.transformers.ColumnCountTransformer(data_for_D.columns[:2])\n",
    "#trans.fit(data_for_D)\n",
    "#D = trans.transform(data_for_D)\n",
    "#D"
   ]
  },
  {
   "cell_type": "code",
   "execution_count": 30,
   "metadata": {},
   "outputs": [
    {
     "data": {
      "text/plain": [
       "Index(['D', 'delta_cont', 'delta_bin', 'details_cont', 'details_bin',\n",
       "       'details_fixed_cont_x_maximize', 'details_fixed_cont_x_minimize',\n",
       "       'details_pair_maximize', 'details_pair_minimize'],\n",
       "      dtype='object')"
      ]
     },
     "execution_count": 30,
     "metadata": {},
     "output_type": "execute_result"
    }
   ],
   "source": [
    "Ds.columns"
   ]
  },
  {
   "cell_type": "code",
   "execution_count": 31,
   "metadata": {
    "slideshow": {
     "slide_type": "subslide"
    }
   },
   "outputs": [
    {
     "ename": "KeyError",
     "evalue": "(2004, 'Both')",
     "output_type": "error",
     "traceback": [
      "\u001b[0;31m---------------------------------------------------------------------------\u001b[0m",
      "\u001b[0;31mKeyError\u001b[0m                                  Traceback (most recent call last)",
      "\u001b[0;32m/opt/tljh/user/lib/python3.7/site-packages/pandas/core/indexes/base.py\u001b[0m in \u001b[0;36mget_loc\u001b[0;34m(self, key, method, tolerance)\u001b[0m\n\u001b[1;32m   3079\u001b[0m             \u001b[0;32mtry\u001b[0m\u001b[0;34m:\u001b[0m\u001b[0;34m\u001b[0m\u001b[0;34m\u001b[0m\u001b[0m\n\u001b[0;32m-> 3080\u001b[0;31m                 \u001b[0;32mreturn\u001b[0m \u001b[0mself\u001b[0m\u001b[0;34m.\u001b[0m\u001b[0m_engine\u001b[0m\u001b[0;34m.\u001b[0m\u001b[0mget_loc\u001b[0m\u001b[0;34m(\u001b[0m\u001b[0mcasted_key\u001b[0m\u001b[0;34m)\u001b[0m\u001b[0;34m\u001b[0m\u001b[0;34m\u001b[0m\u001b[0m\n\u001b[0m\u001b[1;32m   3081\u001b[0m             \u001b[0;32mexcept\u001b[0m \u001b[0mKeyError\u001b[0m \u001b[0;32mas\u001b[0m \u001b[0merr\u001b[0m\u001b[0;34m:\u001b[0m\u001b[0;34m\u001b[0m\u001b[0;34m\u001b[0m\u001b[0m\n",
      "\u001b[0;32mpandas/_libs/index.pyx\u001b[0m in \u001b[0;36mpandas._libs.index.IndexEngine.get_loc\u001b[0;34m()\u001b[0m\n",
      "\u001b[0;32mpandas/_libs/index.pyx\u001b[0m in \u001b[0;36mpandas._libs.index.IndexEngine.get_loc\u001b[0;34m()\u001b[0m\n",
      "\u001b[0;32mpandas/_libs/hashtable_class_helper.pxi\u001b[0m in \u001b[0;36mpandas._libs.hashtable.Int64HashTable.get_item\u001b[0;34m()\u001b[0m\n",
      "\u001b[0;32mpandas/_libs/hashtable_class_helper.pxi\u001b[0m in \u001b[0;36mpandas._libs.hashtable.Int64HashTable.get_item\u001b[0;34m()\u001b[0m\n",
      "\u001b[0;31mKeyError\u001b[0m: 2004",
      "\nThe above exception was the direct cause of the following exception:\n",
      "\u001b[0;31mKeyError\u001b[0m                                  Traceback (most recent call last)",
      "\u001b[0;32mpandas/_libs/index.pyx\u001b[0m in \u001b[0;36mpandas._libs.index.BaseMultiIndexCodesEngine.get_loc\u001b[0;34m()\u001b[0m\n",
      "\u001b[0;32m/opt/tljh/user/lib/python3.7/site-packages/pandas/core/indexes/base.py\u001b[0m in \u001b[0;36mget_loc\u001b[0;34m(self, key, method, tolerance)\u001b[0m\n\u001b[1;32m   3081\u001b[0m             \u001b[0;32mexcept\u001b[0m \u001b[0mKeyError\u001b[0m \u001b[0;32mas\u001b[0m \u001b[0merr\u001b[0m\u001b[0;34m:\u001b[0m\u001b[0;34m\u001b[0m\u001b[0;34m\u001b[0m\u001b[0m\n\u001b[0;32m-> 3082\u001b[0;31m                 \u001b[0;32mraise\u001b[0m \u001b[0mKeyError\u001b[0m\u001b[0;34m(\u001b[0m\u001b[0mkey\u001b[0m\u001b[0;34m)\u001b[0m \u001b[0;32mfrom\u001b[0m \u001b[0merr\u001b[0m\u001b[0;34m\u001b[0m\u001b[0;34m\u001b[0m\u001b[0m\n\u001b[0m\u001b[1;32m   3083\u001b[0m \u001b[0;34m\u001b[0m\u001b[0m\n",
      "\u001b[0;31mKeyError\u001b[0m: 2004",
      "\nDuring handling of the above exception, another exception occurred:\n",
      "\u001b[0;31mKeyError\u001b[0m                                  Traceback (most recent call last)",
      "\u001b[0;32m/opt/tljh/user/lib/python3.7/site-packages/pandas/core/indexes/multi.py\u001b[0m in \u001b[0;36m_get_loc_level\u001b[0;34m(self, key, level, drop_level)\u001b[0m\n\u001b[1;32m   3033\u001b[0m                     \u001b[0;32mtry\u001b[0m\u001b[0;34m:\u001b[0m\u001b[0;34m\u001b[0m\u001b[0;34m\u001b[0m\u001b[0m\n\u001b[0;32m-> 3034\u001b[0;31m                         \u001b[0;32mreturn\u001b[0m \u001b[0;34m(\u001b[0m\u001b[0mself\u001b[0m\u001b[0;34m.\u001b[0m\u001b[0m_engine\u001b[0m\u001b[0;34m.\u001b[0m\u001b[0mget_loc\u001b[0m\u001b[0;34m(\u001b[0m\u001b[0mkey\u001b[0m\u001b[0;34m)\u001b[0m\u001b[0;34m,\u001b[0m \u001b[0;32mNone\u001b[0m\u001b[0;34m)\u001b[0m\u001b[0;34m\u001b[0m\u001b[0;34m\u001b[0m\u001b[0m\n\u001b[0m\u001b[1;32m   3035\u001b[0m                     \u001b[0;32mexcept\u001b[0m \u001b[0mKeyError\u001b[0m \u001b[0;32mas\u001b[0m \u001b[0me\u001b[0m\u001b[0;34m:\u001b[0m\u001b[0;34m\u001b[0m\u001b[0;34m\u001b[0m\u001b[0m\n",
      "\u001b[0;32mpandas/_libs/index.pyx\u001b[0m in \u001b[0;36mpandas._libs.index.BaseMultiIndexCodesEngine.get_loc\u001b[0;34m()\u001b[0m\n",
      "\u001b[0;31mKeyError\u001b[0m: (2004, 'Both')",
      "\nThe above exception was the direct cause of the following exception:\n",
      "\u001b[0;31mKeyError\u001b[0m                                  Traceback (most recent call last)",
      "\u001b[0;32m<ipython-input-31-6d53542a9999>\u001b[0m in \u001b[0;36m<module>\u001b[0;34m\u001b[0m\n\u001b[1;32m      2\u001b[0m     \u001b[0;32mreturn\u001b[0m \u001b[0mpd\u001b[0m\u001b[0;34m.\u001b[0m\u001b[0mSeries\u001b[0m\u001b[0;34m(\u001b[0m\u001b[0mlist\u001b[0m\u001b[0;34m(\u001b[0m\u001b[0mD\u001b[0m\u001b[0;34m.\u001b[0m\u001b[0mindex\u001b[0m\u001b[0;34m[\u001b[0m\u001b[0mlist\u001b[0m\u001b[0;34m(\u001b[0m\u001b[0mperm\u001b[0m\u001b[0;34m)\u001b[0m\u001b[0;34m]\u001b[0m\u001b[0;34m)\u001b[0m\u001b[0;34m,\u001b[0m\u001b[0mname\u001b[0m\u001b[0;34m=\u001b[0m\u001b[0mname\u001b[0m\u001b[0;34m)\u001b[0m\u001b[0;34m\u001b[0m\u001b[0;34m\u001b[0m\u001b[0m\n\u001b[1;32m      3\u001b[0m \u001b[0;34m\u001b[0m\u001b[0m\n\u001b[0;32m----> 4\u001b[0;31m \u001b[0mclosest\u001b[0m \u001b[0;34m=\u001b[0m \u001b[0mperm_to_series\u001b[0m\u001b[0;34m(\u001b[0m\u001b[0mD\u001b[0m\u001b[0;34m,\u001b[0m\u001b[0mDs\u001b[0m\u001b[0;34m.\u001b[0m\u001b[0mloc\u001b[0m\u001b[0;34m[\u001b[0m\u001b[0;34m(\u001b[0m\u001b[0myear\u001b[0m\u001b[0;34m,\u001b[0m\u001b[0;34m'Both'\u001b[0m\u001b[0;34m)\u001b[0m\u001b[0;34m,\u001b[0m\u001b[0;34m'details_fixed_cont_x_minimize'\u001b[0m\u001b[0;34m]\u001b[0m\u001b[0;34m.\u001b[0m\u001b[0mperm\u001b[0m\u001b[0;34m,\u001b[0m\u001b[0;34m'Closest'\u001b[0m\u001b[0;34m)\u001b[0m\u001b[0;34m\u001b[0m\u001b[0;34m\u001b[0m\u001b[0m\n\u001b[0m\u001b[1;32m      5\u001b[0m \u001b[0mfarthest\u001b[0m \u001b[0;34m=\u001b[0m \u001b[0mperm_to_series\u001b[0m\u001b[0;34m(\u001b[0m\u001b[0mD\u001b[0m\u001b[0;34m,\u001b[0m\u001b[0mDs\u001b[0m\u001b[0;34m.\u001b[0m\u001b[0mloc\u001b[0m\u001b[0;34m[\u001b[0m\u001b[0;34m(\u001b[0m\u001b[0myear\u001b[0m\u001b[0;34m,\u001b[0m\u001b[0;34m'Both'\u001b[0m\u001b[0;34m)\u001b[0m\u001b[0;34m,\u001b[0m\u001b[0;34m'details_fixed_cont_x_maximize'\u001b[0m\u001b[0;34m]\u001b[0m\u001b[0;34m.\u001b[0m\u001b[0mperm\u001b[0m\u001b[0;34m,\u001b[0m\u001b[0;34m'Farthest'\u001b[0m\u001b[0;34m)\u001b[0m\u001b[0;34m\u001b[0m\u001b[0;34m\u001b[0m\u001b[0m\n",
      "\u001b[0;32m/opt/tljh/user/lib/python3.7/site-packages/pandas/core/indexing.py\u001b[0m in \u001b[0;36m__getitem__\u001b[0;34m(self, key)\u001b[0m\n\u001b[1;32m    887\u001b[0m                     \u001b[0;31m# AttributeError for IntervalTree get_value\u001b[0m\u001b[0;34m\u001b[0m\u001b[0;34m\u001b[0m\u001b[0;34m\u001b[0m\u001b[0m\n\u001b[1;32m    888\u001b[0m                     \u001b[0;32mreturn\u001b[0m \u001b[0mself\u001b[0m\u001b[0;34m.\u001b[0m\u001b[0mobj\u001b[0m\u001b[0;34m.\u001b[0m\u001b[0m_get_value\u001b[0m\u001b[0;34m(\u001b[0m\u001b[0;34m*\u001b[0m\u001b[0mkey\u001b[0m\u001b[0;34m,\u001b[0m \u001b[0mtakeable\u001b[0m\u001b[0;34m=\u001b[0m\u001b[0mself\u001b[0m\u001b[0;34m.\u001b[0m\u001b[0m_takeable\u001b[0m\u001b[0;34m)\u001b[0m\u001b[0;34m\u001b[0m\u001b[0;34m\u001b[0m\u001b[0m\n\u001b[0;32m--> 889\u001b[0;31m             \u001b[0;32mreturn\u001b[0m \u001b[0mself\u001b[0m\u001b[0;34m.\u001b[0m\u001b[0m_getitem_tuple\u001b[0m\u001b[0;34m(\u001b[0m\u001b[0mkey\u001b[0m\u001b[0;34m)\u001b[0m\u001b[0;34m\u001b[0m\u001b[0;34m\u001b[0m\u001b[0m\n\u001b[0m\u001b[1;32m    890\u001b[0m         \u001b[0;32melse\u001b[0m\u001b[0;34m:\u001b[0m\u001b[0;34m\u001b[0m\u001b[0;34m\u001b[0m\u001b[0m\n\u001b[1;32m    891\u001b[0m             \u001b[0;31m# we by definition only have the 0th axis\u001b[0m\u001b[0;34m\u001b[0m\u001b[0;34m\u001b[0m\u001b[0;34m\u001b[0m\u001b[0m\n",
      "\u001b[0;32m/opt/tljh/user/lib/python3.7/site-packages/pandas/core/indexing.py\u001b[0m in \u001b[0;36m_getitem_tuple\u001b[0;34m(self, tup)\u001b[0m\n\u001b[1;32m   1058\u001b[0m     \u001b[0;32mdef\u001b[0m \u001b[0m_getitem_tuple\u001b[0m\u001b[0;34m(\u001b[0m\u001b[0mself\u001b[0m\u001b[0;34m,\u001b[0m \u001b[0mtup\u001b[0m\u001b[0;34m:\u001b[0m \u001b[0mTuple\u001b[0m\u001b[0;34m)\u001b[0m\u001b[0;34m:\u001b[0m\u001b[0;34m\u001b[0m\u001b[0;34m\u001b[0m\u001b[0m\n\u001b[1;32m   1059\u001b[0m         \u001b[0;32mwith\u001b[0m \u001b[0msuppress\u001b[0m\u001b[0;34m(\u001b[0m\u001b[0mIndexingError\u001b[0m\u001b[0;34m)\u001b[0m\u001b[0;34m:\u001b[0m\u001b[0;34m\u001b[0m\u001b[0;34m\u001b[0m\u001b[0m\n\u001b[0;32m-> 1060\u001b[0;31m             \u001b[0;32mreturn\u001b[0m \u001b[0mself\u001b[0m\u001b[0;34m.\u001b[0m\u001b[0m_getitem_lowerdim\u001b[0m\u001b[0;34m(\u001b[0m\u001b[0mtup\u001b[0m\u001b[0;34m)\u001b[0m\u001b[0;34m\u001b[0m\u001b[0;34m\u001b[0m\u001b[0m\n\u001b[0m\u001b[1;32m   1061\u001b[0m \u001b[0;34m\u001b[0m\u001b[0m\n\u001b[1;32m   1062\u001b[0m         \u001b[0;31m# no multi-index, so validate all of the indexers\u001b[0m\u001b[0;34m\u001b[0m\u001b[0;34m\u001b[0m\u001b[0;34m\u001b[0m\u001b[0m\n",
      "\u001b[0;32m/opt/tljh/user/lib/python3.7/site-packages/pandas/core/indexing.py\u001b[0m in \u001b[0;36m_getitem_lowerdim\u001b[0;34m(self, tup)\u001b[0m\n\u001b[1;32m    789\u001b[0m         \u001b[0;31m# we may have a nested tuples indexer here\u001b[0m\u001b[0;34m\u001b[0m\u001b[0;34m\u001b[0m\u001b[0;34m\u001b[0m\u001b[0m\n\u001b[1;32m    790\u001b[0m         \u001b[0;32mif\u001b[0m \u001b[0mself\u001b[0m\u001b[0;34m.\u001b[0m\u001b[0m_is_nested_tuple_indexer\u001b[0m\u001b[0;34m(\u001b[0m\u001b[0mtup\u001b[0m\u001b[0;34m)\u001b[0m\u001b[0;34m:\u001b[0m\u001b[0;34m\u001b[0m\u001b[0;34m\u001b[0m\u001b[0m\n\u001b[0;32m--> 791\u001b[0;31m             \u001b[0;32mreturn\u001b[0m \u001b[0mself\u001b[0m\u001b[0;34m.\u001b[0m\u001b[0m_getitem_nested_tuple\u001b[0m\u001b[0;34m(\u001b[0m\u001b[0mtup\u001b[0m\u001b[0;34m)\u001b[0m\u001b[0;34m\u001b[0m\u001b[0;34m\u001b[0m\u001b[0m\n\u001b[0m\u001b[1;32m    792\u001b[0m \u001b[0;34m\u001b[0m\u001b[0m\n\u001b[1;32m    793\u001b[0m         \u001b[0;31m# we maybe be using a tuple to represent multiple dimensions here\u001b[0m\u001b[0;34m\u001b[0m\u001b[0;34m\u001b[0m\u001b[0;34m\u001b[0m\u001b[0m\n",
      "\u001b[0;32m/opt/tljh/user/lib/python3.7/site-packages/pandas/core/indexing.py\u001b[0m in \u001b[0;36m_getitem_nested_tuple\u001b[0;34m(self, tup)\u001b[0m\n\u001b[1;32m    863\u001b[0m \u001b[0;34m\u001b[0m\u001b[0m\n\u001b[1;32m    864\u001b[0m             \u001b[0mcurrent_ndim\u001b[0m \u001b[0;34m=\u001b[0m \u001b[0mobj\u001b[0m\u001b[0;34m.\u001b[0m\u001b[0mndim\u001b[0m\u001b[0;34m\u001b[0m\u001b[0;34m\u001b[0m\u001b[0m\n\u001b[0;32m--> 865\u001b[0;31m             \u001b[0mobj\u001b[0m \u001b[0;34m=\u001b[0m \u001b[0mgetattr\u001b[0m\u001b[0;34m(\u001b[0m\u001b[0mobj\u001b[0m\u001b[0;34m,\u001b[0m \u001b[0mself\u001b[0m\u001b[0;34m.\u001b[0m\u001b[0mname\u001b[0m\u001b[0;34m)\u001b[0m\u001b[0;34m.\u001b[0m\u001b[0m_getitem_axis\u001b[0m\u001b[0;34m(\u001b[0m\u001b[0mkey\u001b[0m\u001b[0;34m,\u001b[0m \u001b[0maxis\u001b[0m\u001b[0;34m=\u001b[0m\u001b[0maxis\u001b[0m\u001b[0;34m)\u001b[0m\u001b[0;34m\u001b[0m\u001b[0;34m\u001b[0m\u001b[0m\n\u001b[0m\u001b[1;32m    866\u001b[0m             \u001b[0maxis\u001b[0m \u001b[0;34m+=\u001b[0m \u001b[0;36m1\u001b[0m\u001b[0;34m\u001b[0m\u001b[0;34m\u001b[0m\u001b[0m\n\u001b[1;32m    867\u001b[0m \u001b[0;34m\u001b[0m\u001b[0m\n",
      "\u001b[0;32m/opt/tljh/user/lib/python3.7/site-packages/pandas/core/indexing.py\u001b[0m in \u001b[0;36m_getitem_axis\u001b[0;34m(self, key, axis)\u001b[0m\n\u001b[1;32m   1122\u001b[0m         \u001b[0;31m# fall thru to straight lookup\u001b[0m\u001b[0;34m\u001b[0m\u001b[0;34m\u001b[0m\u001b[0;34m\u001b[0m\u001b[0m\n\u001b[1;32m   1123\u001b[0m         \u001b[0mself\u001b[0m\u001b[0;34m.\u001b[0m\u001b[0m_validate_key\u001b[0m\u001b[0;34m(\u001b[0m\u001b[0mkey\u001b[0m\u001b[0;34m,\u001b[0m \u001b[0maxis\u001b[0m\u001b[0;34m)\u001b[0m\u001b[0;34m\u001b[0m\u001b[0;34m\u001b[0m\u001b[0m\n\u001b[0;32m-> 1124\u001b[0;31m         \u001b[0;32mreturn\u001b[0m \u001b[0mself\u001b[0m\u001b[0;34m.\u001b[0m\u001b[0m_get_label\u001b[0m\u001b[0;34m(\u001b[0m\u001b[0mkey\u001b[0m\u001b[0;34m,\u001b[0m \u001b[0maxis\u001b[0m\u001b[0;34m=\u001b[0m\u001b[0maxis\u001b[0m\u001b[0;34m)\u001b[0m\u001b[0;34m\u001b[0m\u001b[0;34m\u001b[0m\u001b[0m\n\u001b[0m\u001b[1;32m   1125\u001b[0m \u001b[0;34m\u001b[0m\u001b[0m\n\u001b[1;32m   1126\u001b[0m     \u001b[0;32mdef\u001b[0m \u001b[0m_get_slice_axis\u001b[0m\u001b[0;34m(\u001b[0m\u001b[0mself\u001b[0m\u001b[0;34m,\u001b[0m \u001b[0mslice_obj\u001b[0m\u001b[0;34m:\u001b[0m \u001b[0mslice\u001b[0m\u001b[0;34m,\u001b[0m \u001b[0maxis\u001b[0m\u001b[0;34m:\u001b[0m \u001b[0mint\u001b[0m\u001b[0;34m)\u001b[0m\u001b[0;34m:\u001b[0m\u001b[0;34m\u001b[0m\u001b[0;34m\u001b[0m\u001b[0m\n",
      "\u001b[0;32m/opt/tljh/user/lib/python3.7/site-packages/pandas/core/indexing.py\u001b[0m in \u001b[0;36m_get_label\u001b[0;34m(self, label, axis)\u001b[0m\n\u001b[1;32m   1071\u001b[0m     \u001b[0;32mdef\u001b[0m \u001b[0m_get_label\u001b[0m\u001b[0;34m(\u001b[0m\u001b[0mself\u001b[0m\u001b[0;34m,\u001b[0m \u001b[0mlabel\u001b[0m\u001b[0;34m,\u001b[0m \u001b[0maxis\u001b[0m\u001b[0;34m:\u001b[0m \u001b[0mint\u001b[0m\u001b[0;34m)\u001b[0m\u001b[0;34m:\u001b[0m\u001b[0;34m\u001b[0m\u001b[0;34m\u001b[0m\u001b[0m\n\u001b[1;32m   1072\u001b[0m         \u001b[0;31m# GH#5667 this will fail if the label is not present in the axis.\u001b[0m\u001b[0;34m\u001b[0m\u001b[0;34m\u001b[0m\u001b[0;34m\u001b[0m\u001b[0m\n\u001b[0;32m-> 1073\u001b[0;31m         \u001b[0;32mreturn\u001b[0m \u001b[0mself\u001b[0m\u001b[0;34m.\u001b[0m\u001b[0mobj\u001b[0m\u001b[0;34m.\u001b[0m\u001b[0mxs\u001b[0m\u001b[0;34m(\u001b[0m\u001b[0mlabel\u001b[0m\u001b[0;34m,\u001b[0m \u001b[0maxis\u001b[0m\u001b[0;34m=\u001b[0m\u001b[0maxis\u001b[0m\u001b[0;34m)\u001b[0m\u001b[0;34m\u001b[0m\u001b[0;34m\u001b[0m\u001b[0m\n\u001b[0m\u001b[1;32m   1074\u001b[0m \u001b[0;34m\u001b[0m\u001b[0m\n\u001b[1;32m   1075\u001b[0m     \u001b[0;32mdef\u001b[0m \u001b[0m_handle_lowerdim_multi_index_axis0\u001b[0m\u001b[0;34m(\u001b[0m\u001b[0mself\u001b[0m\u001b[0;34m,\u001b[0m \u001b[0mtup\u001b[0m\u001b[0;34m:\u001b[0m \u001b[0mTuple\u001b[0m\u001b[0;34m)\u001b[0m\u001b[0;34m:\u001b[0m\u001b[0;34m\u001b[0m\u001b[0;34m\u001b[0m\u001b[0m\n",
      "\u001b[0;32m/opt/tljh/user/lib/python3.7/site-packages/pandas/core/generic.py\u001b[0m in \u001b[0;36mxs\u001b[0;34m(self, key, axis, level, drop_level)\u001b[0m\n\u001b[1;32m   3731\u001b[0m             \u001b[0;32mtry\u001b[0m\u001b[0;34m:\u001b[0m\u001b[0;34m\u001b[0m\u001b[0;34m\u001b[0m\u001b[0m\n\u001b[1;32m   3732\u001b[0m                 loc, new_index = index._get_loc_level(\n\u001b[0;32m-> 3733\u001b[0;31m                     \u001b[0mkey\u001b[0m\u001b[0;34m,\u001b[0m \u001b[0mlevel\u001b[0m\u001b[0;34m=\u001b[0m\u001b[0;36m0\u001b[0m\u001b[0;34m,\u001b[0m \u001b[0mdrop_level\u001b[0m\u001b[0;34m=\u001b[0m\u001b[0mdrop_level\u001b[0m\u001b[0;34m\u001b[0m\u001b[0;34m\u001b[0m\u001b[0m\n\u001b[0m\u001b[1;32m   3734\u001b[0m                 )\n\u001b[1;32m   3735\u001b[0m             \u001b[0;32mexcept\u001b[0m \u001b[0mTypeError\u001b[0m \u001b[0;32mas\u001b[0m \u001b[0me\u001b[0m\u001b[0;34m:\u001b[0m\u001b[0;34m\u001b[0m\u001b[0;34m\u001b[0m\u001b[0m\n",
      "\u001b[0;32m/opt/tljh/user/lib/python3.7/site-packages/pandas/core/indexes/multi.py\u001b[0m in \u001b[0;36m_get_loc_level\u001b[0;34m(self, key, level, drop_level)\u001b[0m\n\u001b[1;32m   3034\u001b[0m                         \u001b[0;32mreturn\u001b[0m \u001b[0;34m(\u001b[0m\u001b[0mself\u001b[0m\u001b[0;34m.\u001b[0m\u001b[0m_engine\u001b[0m\u001b[0;34m.\u001b[0m\u001b[0mget_loc\u001b[0m\u001b[0;34m(\u001b[0m\u001b[0mkey\u001b[0m\u001b[0;34m)\u001b[0m\u001b[0;34m,\u001b[0m \u001b[0;32mNone\u001b[0m\u001b[0;34m)\u001b[0m\u001b[0;34m\u001b[0m\u001b[0;34m\u001b[0m\u001b[0m\n\u001b[1;32m   3035\u001b[0m                     \u001b[0;32mexcept\u001b[0m \u001b[0mKeyError\u001b[0m \u001b[0;32mas\u001b[0m \u001b[0me\u001b[0m\u001b[0;34m:\u001b[0m\u001b[0;34m\u001b[0m\u001b[0;34m\u001b[0m\u001b[0m\n\u001b[0;32m-> 3036\u001b[0;31m                         \u001b[0;32mraise\u001b[0m \u001b[0mKeyError\u001b[0m\u001b[0;34m(\u001b[0m\u001b[0mkey\u001b[0m\u001b[0;34m)\u001b[0m \u001b[0;32mfrom\u001b[0m \u001b[0me\u001b[0m\u001b[0;34m\u001b[0m\u001b[0;34m\u001b[0m\u001b[0m\n\u001b[0m\u001b[1;32m   3037\u001b[0m                 \u001b[0;32melse\u001b[0m\u001b[0;34m:\u001b[0m\u001b[0;34m\u001b[0m\u001b[0;34m\u001b[0m\u001b[0m\n\u001b[1;32m   3038\u001b[0m                     \u001b[0;32mreturn\u001b[0m \u001b[0mpartial_selection\u001b[0m\u001b[0;34m(\u001b[0m\u001b[0mkey\u001b[0m\u001b[0;34m)\u001b[0m\u001b[0;34m\u001b[0m\u001b[0;34m\u001b[0m\u001b[0m\n",
      "\u001b[0;31mKeyError\u001b[0m: (2004, 'Both')"
     ]
    }
   ],
   "source": [
    "def perm_to_series(D,perm,name):\n",
    "    return pd.Series(list(D.index[list(perm)]),name=name)\n",
    "\n",
    "closest = perm_to_series(D,Ds.loc[(year,'Both'),'details_fixed_cont_x_minimize'].perm,'Closest')\n",
    "farthest = perm_to_series(D,Ds.loc[(year,'Both'),'details_fixed_cont_x_maximize'].perm,'Farthest')"
   ]
  },
  {
   "cell_type": "code",
   "execution_count": null,
   "metadata": {},
   "outputs": [],
   "source": [
    "series_item_relevances = []\n",
    "for year in years:\n",
    "    order = np.argsort(data[year]['Final Rank'].values)\n",
    "    data[year]['Final Rank Fixed'] = 0\n",
    "    data[year].loc[:,'Final Rank Fixed'].iloc[order] = np.arange(1,len(order)+1)\n",
    "    rank = np.array(list(data[year]['Final Rank Fixed'].values))\n",
    "    ix = np.where(rank == 1)[0]\n",
    "    print(data[year].index[ix])\n",
    "    series_item_relevances.append((len(colleges) - rank+1)/len(colleges))\n",
    "\n",
    "closest_rank = pd.Series(closest.index+1,index=closest).reindex(colleges)\n",
    "closest_rank = closest_rank.fillna(len(colleges)+1) # put at end\n",
    "series_item_relevances.append((len(colleges) - closest_rank.values+1)/len(colleges))\n",
    "series_item_relevances_df = pd.DataFrame(series_item_relevances,columns=colleges,index=years+[\"Closest\"]).T\n",
    "series_item_relevances_df"
   ]
  },
  {
   "cell_type": "code",
   "execution_count": null,
   "metadata": {
    "slideshow": {
     "slide_type": "subslide"
    }
   },
   "outputs": [],
   "source": [
    "solutions, baseline_unfairness, unfairness = equity_of_attention.common.model_3(series_item_relevances)"
   ]
  },
  {
   "cell_type": "code",
   "execution_count": null,
   "metadata": {
    "slideshow": {
     "slide_type": "subslide"
    }
   },
   "outputs": [],
   "source": [
    "closest"
   ]
  },
  {
   "cell_type": "code",
   "execution_count": null,
   "metadata": {},
   "outputs": [],
   "source": [
    "rankings = solutions2rankings(solutions,colleges)\n",
    "k = 20\n",
    "top_k = []\n",
    "for i in range(len(rankings)):\n",
    "    top_k.append(list(rankings[i].sort_values()[:k].index))\n",
    "top_k_df = pd.DataFrame(top_k,index=series_item_relevances_df.columns).T\n",
    "closest_result = top_k_df[['Closest']]\n",
    "top_k_df"
   ]
  },
  {
   "cell_type": "markdown",
   "metadata": {
    "slideshow": {
     "slide_type": "subslide"
    }
   },
   "source": [
    "## Now do the farthest"
   ]
  },
  {
   "cell_type": "code",
   "execution_count": null,
   "metadata": {},
   "outputs": [],
   "source": [
    "series_item_relevances = []\n",
    "for year in years:\n",
    "    order = np.argsort(data[year]['Final Rank'].values)\n",
    "    data[year]['Final Rank Fixed'] = 0\n",
    "    data[year].loc[:,'Final Rank Fixed'].iloc[order] = np.arange(1,len(order)+1)\n",
    "    rank = np.array(list(data[year]['Final Rank Fixed'].values))\n",
    "    ix = np.where(rank == 1)[0]\n",
    "    print(data[year].index[ix])\n",
    "    series_item_relevances.append((len(colleges) - rank+1)/len(colleges))\n",
    "\n",
    "farthest_rank = pd.Series(farthest.index+1,index=farthest).reindex(colleges)\n",
    "farthest_rank = farthest_rank.fillna(len(colleges)+1) # put at end\n",
    "series_item_relevances.append((len(colleges) - farthest_rank.values+1)/len(colleges))\n",
    "series_item_relevances_df = pd.DataFrame(series_item_relevances,columns=colleges,index=years+[\"Farthest\"]).T\n",
    "series_item_relevances_df"
   ]
  },
  {
   "cell_type": "code",
   "execution_count": null,
   "metadata": {},
   "outputs": [],
   "source": [
    "solutions, baseline_unfairness, unfairness = equity_of_attention.common.model_3(series_item_relevances)"
   ]
  },
  {
   "cell_type": "code",
   "execution_count": null,
   "metadata": {},
   "outputs": [],
   "source": [
    "rankings = solutions2rankings(solutions,colleges)\n",
    "k = 20\n",
    "top_k = []\n",
    "for i in range(len(rankings)):\n",
    "    top_k.append(list(rankings[i].sort_values()[:k].index))\n",
    "top_k_df = pd.DataFrame(top_k,index=series_item_relevances_df.columns).T\n",
    "farthest_result = top_k_df[['Farthest']]\n",
    "top_k_df"
   ]
  },
  {
   "cell_type": "code",
   "execution_count": null,
   "metadata": {
    "slideshow": {
     "slide_type": "subslide"
    }
   },
   "outputs": [],
   "source": [
    "joined = closest_result.join(farthest_result)\n",
    "joined"
   ]
  },
  {
   "cell_type": "code",
   "execution_count": null,
   "metadata": {},
   "outputs": [],
   "source": [
    "closest_perm = pd.Series(joined.index,index=joined['Closest'],name='Closest')\n",
    "closest_perm"
   ]
  },
  {
   "cell_type": "code",
   "execution_count": null,
   "metadata": {},
   "outputs": [],
   "source": [
    "farthest_perm = pd.Series(joined.index,index=joined['Farthest'],name='Farthest')\n",
    "farthest_perm = farthest_perm.loc[closest_perm.index] #np.argsort(farthest_perm.loc[closest_perm.index]).loc\n",
    "farthest_perm"
   ]
  },
  {
   "cell_type": "code",
   "execution_count": null,
   "metadata": {
    "slideshow": {
     "slide_type": "subslide"
    }
   },
   "outputs": [],
   "source": [
    "def perm_to_series2(names,perm,name):\n",
    "    return pd.Series(list(names[list(perm)]),name=name)\n",
    "\n",
    "A = perm_to_series2(farthest_perm.index,list(closest_perm),'closest_perm')\n",
    "B = perm_to_series2(farthest_perm.index,list(farthest_perm),'farthest_perm')\n",
    "pyrankability.plot.spider2(A,B,file=f'results/fairness_spider.png')"
   ]
  },
  {
   "cell_type": "code",
   "execution_count": null,
   "metadata": {},
   "outputs": [],
   "source": [
    "def unfairness_comparison(series_item_relevances):\n",
    "    num_items = len(series_item_relevances[0])\n",
    "    position_attentions = equity_of_attention.common.calc_position_attentions(num_items, click_probability=0.5, position_cutoff=num_items//2)\n",
    "    accumulated_attention = np.zeros(num_items) # A\n",
    "    accumulated_relevance = np.zeros(num_items) # R\n",
    "    unfairness = []\n",
    "    for ranking_num in range(len(series_item_relevances)):\n",
    "        item_relevances = series_item_relevances[ranking_num] #np.array([1.0 for i in range(num_items)]) # all of them are relevant?\n",
    "        order = np.argsort(-1*item_relevances)\n",
    "        accumulated_attention[order] += position_attentions\n",
    "        accumulated_relevance += item_relevances\n",
    "        unfairness.append(np.abs(accumulated_attention - accumulated_relevance))\n",
    "        \n",
    "    unfairness0 = []\n",
    "    accumulated_attention = np.zeros(num_items) # A\n",
    "    accumulated_relevance = np.zeros(num_items) # R\n",
    "    for ranking_num in range(len(series_item_relevances)):\n",
    "        item_relevances = series_item_relevances[0] #np.array([1.0 for i in range(num_items)]) # all of them are relevant?\n",
    "        order = np.argsort(-1*item_relevances)\n",
    "        accumulated_attention[order] += position_attentions\n",
    "        accumulated_relevance += item_relevances\n",
    "        unfairness0.append(np.abs(accumulated_attention - accumulated_relevance))\n",
    "    \n",
    "    return unfairness,unfairness0"
   ]
  },
  {
   "cell_type": "code",
   "execution_count": null,
   "metadata": {},
   "outputs": [],
   "source": [
    "perm_closest = Ds.loc[(2002,'Both'),'details_fixed_cont_x_minimize'].perm\n",
    "perm_farthest = Ds.loc[(2002,'Both'),'details_fixed_cont_x_maximize'].perm\n",
    "perm_pair_minimize_x = Ds.loc[(2002,'Both'),'details_pair_minimize'].perm_x\n",
    "perm_pair_minimize_y = Ds.loc[(2002,'Both'),'details_pair_minimize'].perm_y\n",
    "perm_pair_maximize_x = Ds.loc[(2002,'Both'),'details_pair_maximize'].perm_x\n",
    "perm_pair_maximize_y = Ds.loc[(2002,'Both'),'details_pair_maximize'].perm_y"
   ]
  },
  {
   "cell_type": "code",
   "execution_count": null,
   "metadata": {},
   "outputs": [],
   "source": []
  },
  {
   "cell_type": "code",
   "execution_count": null,
   "metadata": {},
   "outputs": [],
   "source": [
    "rank_pair_minimize_x,rank_pair_minimize_y = np.argsort(perm_pair_minimize_x),np.argsort(perm_pair_minimize_y)"
   ]
  },
  {
   "cell_type": "code",
   "execution_count": null,
   "metadata": {},
   "outputs": [],
   "source": [
    "rank_pair_maximize_x,rank_pair_maximize_y = np.argsort(perm_pair_maximize_x),np.argsort(perm_pair_maximize_y)"
   ]
  },
  {
   "cell_type": "code",
   "execution_count": null,
   "metadata": {},
   "outputs": [],
   "source": [
    "rank_closest,rank_farthest = np.argsort(perm_closest),np.argsort(perm_farthest)"
   ]
  },
  {
   "cell_type": "code",
   "execution_count": null,
   "metadata": {},
   "outputs": [],
   "source": [
    "rank_pair_minimize_x"
   ]
  },
  {
   "cell_type": "code",
   "execution_count": null,
   "metadata": {},
   "outputs": [],
   "source": [
    "rank_pair_minimize_y"
   ]
  },
  {
   "cell_type": "code",
   "execution_count": null,
   "metadata": {},
   "outputs": [],
   "source": [
    "rank_closest"
   ]
  },
  {
   "cell_type": "code",
   "execution_count": null,
   "metadata": {},
   "outputs": [],
   "source": [
    "rank_farthest"
   ]
  },
  {
   "cell_type": "code",
   "execution_count": null,
   "metadata": {},
   "outputs": [],
   "source": [
    "rank_pair_maximize_y,rank_pair_maximize_x"
   ]
  },
  {
   "cell_type": "code",
   "execution_count": null,
   "metadata": {},
   "outputs": [],
   "source": [
    "lop_series_item_relevances['rank_pair_maximize']"
   ]
  },
  {
   "cell_type": "code",
   "execution_count": null,
   "metadata": {},
   "outputs": [],
   "source": []
  },
  {
   "cell_type": "code",
   "execution_count": null,
   "metadata": {},
   "outputs": [],
   "source": [
    "true_relevance"
   ]
  },
  {
   "cell_type": "code",
   "execution_count": null,
   "metadata": {},
   "outputs": [],
   "source": [
    "true_relevance = np.mean(np.array(lop_series_item_relevances['rank_pair_maximize']),axis=0)\n",
    "method = 'closest'\n",
    "series_item_relevances = lop_series_item_relevances[method]\n",
    "num_items = len(true_relevance)\n",
    "position_attentions = equity_of_attention.common.calc_position_attentions(num_items, click_probability=0.5, position_cutoff=num_items//2)\n",
    "accumulated_attention = np.zeros(num_items) # A\n",
    "accumulated_relevance = np.zeros(num_items) # R\n",
    "unfairness = []\n",
    "A = np.zeros((len(series_item_relevances),num_items))\n",
    "R = np.zeros((len(series_item_relevances),num_items))\n",
    "for ranking_num in range(len(series_item_relevances)):\n",
    "    item_relevances = series_item_relevances[ranking_num] #np.array([1.0 for i in range(num_items)]) # all of them are relevant?\n",
    "    order = np.argsort(-1*item_relevances)\n",
    "    accumulated_attention[order] += position_attentions\n",
    "    accumulated_relevance += true_relevance\n",
    "    A[ranking_num,:] = position_attentions\n",
    "    R[ranking_num,:] = true_relevance\n",
    "A,R"
   ]
  },
  {
   "cell_type": "code",
   "execution_count": null,
   "metadata": {},
   "outputs": [],
   "source": [
    "np.sum(np.abs(np.sum(A,axis=0) - np.sum(R,axis=0)))"
   ]
  },
  {
   "cell_type": "code",
   "execution_count": null,
   "metadata": {},
   "outputs": [],
   "source": [
    "true_relevance = np.mean(np.array(lop_series_item_relevances['rank_pair_maximize']),axis=0)\n",
    "method = 'rank_pair_maximize'\n",
    "series_item_relevances = lop_series_item_relevances[method]\n",
    "num_items = len(true_relevance)\n",
    "position_attentions = equity_of_attention.common.calc_position_attentions(num_items, click_probability=0.5, position_cutoff=num_items//2)\n",
    "accumulated_attention = np.zeros(num_items) # A\n",
    "accumulated_relevance = np.zeros(num_items) # R\n",
    "unfairness = []\n",
    "A = np.zeros((len(series_item_relevances),num_items))\n",
    "R = np.zeros((len(series_item_relevances),num_items))\n",
    "for ranking_num in range(len(series_item_relevances)):\n",
    "    item_relevances = series_item_relevances[ranking_num] #np.array([1.0 for i in range(num_items)]) # all of them are relevant?\n",
    "    order = np.argsort(-1*item_relevances)\n",
    "    accumulated_attention[order] += position_attentions\n",
    "    accumulated_relevance += true_relevance\n",
    "    A[ranking_num,:] = position_attentions\n",
    "    R[ranking_num,:] = true_relevance\n",
    "A,R"
   ]
  },
  {
   "cell_type": "code",
   "execution_count": null,
   "metadata": {},
   "outputs": [],
   "source": [
    "np.sum(np.abs(np.sum(A,axis=0) - np.sum(R,axis=0)))"
   ]
  },
  {
   "cell_type": "code",
   "execution_count": null,
   "metadata": {},
   "outputs": [],
   "source": [
    "total = 2\n",
    "lop_series_item_relevances = {}\n",
    "lop_series_item_relevances['closest'] = []\n",
    "lop_series_item_relevances['farthest'] = []\n",
    "lop_series_item_relevances['rank_pair_maximize'] = []\n",
    "lop_series_item_relevances['rank_pair_minimize'] = []\n",
    "for i in range(total):\n",
    "    lop_series_item_relevances['closest'].append((len(rank_closest) - rank_closest)/len(rank_closest))\n",
    "    lop_series_item_relevances['farthest'].append((len(rank_farthest) - rank_farthest)/len(rank_farthest))\n",
    "\n",
    "for i in range(total//2):\n",
    "    lop_series_item_relevances['rank_pair_maximize'].append((len(rank_pair_maximize_x) - rank_pair_maximize_x)/len(rank_pair_maximize_x))\n",
    "    lop_series_item_relevances['rank_pair_maximize'].append((len(rank_pair_maximize_y) - rank_pair_maximize_y)/len(rank_pair_maximize_y))\n",
    "\n",
    "for i in range(total//2):\n",
    "    lop_series_item_relevances['rank_pair_minimize'].append((len(rank_pair_minimize_x) - rank_pair_minimize_x)/len(rank_pair_minimize_x))\n",
    "    lop_series_item_relevances['rank_pair_minimize'].append((len(rank_pair_minimize_y) - rank_pair_minimize_y)/len(rank_pair_minimize_y))\n"
   ]
  },
  {
   "cell_type": "code",
   "execution_count": null,
   "metadata": {},
   "outputs": [],
   "source": [
    "ix_cols = ['Iteration','Item','Category']\n",
    "unfairness = pd.DataFrame(columns=['Unfairness','Iteration','Item','Category']).set_index(ix_cols)\n",
    "for method in ['closest','rank_pair_maximize']:#lop_series_item_relevances.keys():\n",
    "    u, bu = unfairness_comparison(lop_series_item_relevances[method])\n",
    "    t = pd.DataFrame(u)\n",
    "    t.index.name = 'Iteration'\n",
    "    t = t.reset_index()\n",
    "    t = t.melt(id_vars='Iteration')\n",
    "    t.columns = ['Iteration','Item','Unfairness']\n",
    "    t['Category'] = method\n",
    "    r = pd.DataFrame({\"Relevance\":np.array(lop_series_item_relevances[method]).mean(axis=0)})\n",
    "    r.index.name='Item'\n",
    "    t = t.set_index('Item').join(r)\n",
    "    unfairness = unfairness.append(t.reset_index().set_index(ix_cols))\n",
    "                 \n",
    "unfairness = unfairness.reset_index()"
   ]
  },
  {
   "cell_type": "code",
   "execution_count": null,
   "metadata": {},
   "outputs": [],
   "source": [
    "import altair as alt\n",
    "alt.Chart(unfairness).mark_line().encode(\n",
    "    x='Iteration',\n",
    "    y='sum(Unfairness)',\n",
    "    color='Category',\n",
    "    #row='Item'\n",
    ")"
   ]
  },
  {
   "cell_type": "code",
   "execution_count": null,
   "metadata": {},
   "outputs": [],
   "source": [
    "import altair as alt\n",
    "alt.Chart(unfairness).mark_line().encode(\n",
    "    x='Iteration',\n",
    "    y='Unfairness',\n",
    "    color='Category',\n",
    "    row='Relevance',\n",
    "    column='Item'\n",
    ")"
   ]
  },
  {
   "cell_type": "markdown",
   "metadata": {},
   "source": [
    "## Don't go below"
   ]
  },
  {
   "cell_type": "code",
   "execution_count": null,
   "metadata": {},
   "outputs": [],
   "source": [
    "position_attentions = equity_of_attention.common.calc_position_attentions(len(lop_ranking_x))\n",
    "position_attentions"
   ]
  },
  {
   "cell_type": "code",
   "execution_count": null,
   "metadata": {},
   "outputs": [],
   "source": [
    "np.array(farthest_pair_details['perm_x'])"
   ]
  },
  {
   "cell_type": "markdown",
   "metadata": {},
   "source": [
    "### Unfairness of LOP"
   ]
  },
  {
   "cell_type": "code",
   "execution_count": null,
   "metadata": {},
   "outputs": [],
   "source": [
    "acc_attentions = position_attentions[np.array(farthest_pair_details['perm_x'])] + position_attentions[np.array(farthest_pair_details['perm_y'])]\n",
    "acc_attentions"
   ]
  },
  {
   "cell_type": "code",
   "execution_count": null,
   "metadata": {},
   "outputs": [],
   "source": [
    "pd.Series(acc_attentions)"
   ]
  },
  {
   "cell_type": "code",
   "execution_count": null,
   "metadata": {},
   "outputs": [],
   "source": [
    "acc_relevances = pd.Series(series_item_relevances[0],index=colleges).loc[colleges_of_interest] + pd.Series(series_item_relevances[1],index=colleges).loc[colleges_of_interest]\n",
    "acc_relevances"
   ]
  },
  {
   "cell_type": "code",
   "execution_count": null,
   "metadata": {},
   "outputs": [],
   "source": [
    "unfairness_lop = np.sum(np.abs(acc_attentions - acc_relevances))\n",
    "unfairness_lop"
   ]
  },
  {
   "cell_type": "code",
   "execution_count": null,
   "metadata": {},
   "outputs": [],
   "source": [
    "A = perm_to_series(D,farthest_pair_details['perm_x'],'perm_x')\n",
    "B = perm_to_series(D,farthest_pair_details['perm_y'],'perm_y')\n",
    "pyrankability.plot.spider2(A,B,file=f'results/farthest_pair_fairness.png')"
   ]
  },
  {
   "cell_type": "code",
   "execution_count": null,
   "metadata": {},
   "outputs": [],
   "source": [
    "new_rankings = []\n",
    "new_perms = []\n",
    "for i in range(len(rankings)):\n",
    "    new_rankings.append(rankings[i].loc[colleges_of_interest].copy())\n",
    "    order = np.argsort(rankings[i].loc[colleges_of_interest].values)\n",
    "    new_rankings[i][order] = np.arange(0,len(order))\n",
    "    new_perms.append(np.argsort(new_rankings[i]))"
   ]
  },
  {
   "cell_type": "code",
   "execution_count": null,
   "metadata": {},
   "outputs": [],
   "source": [
    "new_rankings[i]"
   ]
  },
  {
   "cell_type": "code",
   "execution_count": null,
   "metadata": {},
   "outputs": [],
   "source": [
    "acc_attentions = position_attentions[np.array(new_perms[0])] + position_attentions[np.array(new_perms[1])]\n",
    "acc_attentions"
   ]
  },
  {
   "cell_type": "code",
   "execution_count": null,
   "metadata": {},
   "outputs": [],
   "source": [
    "pd.Series(acc_attentions)"
   ]
  },
  {
   "cell_type": "code",
   "execution_count": null,
   "metadata": {},
   "outputs": [],
   "source": [
    "acc_relevances = pd.Series(series_item_relevances[0],index=colleges).loc[colleges_of_interest] + pd.Series(series_item_relevances[1],index=colleges).loc[colleges_of_interest]\n",
    "acc_relevances"
   ]
  },
  {
   "cell_type": "code",
   "execution_count": null,
   "metadata": {},
   "outputs": [],
   "source": [
    "unfairness_equity = np.sum(np.abs(acc_attentions - acc_relevances))\n",
    "unfairness_equity"
   ]
  },
  {
   "cell_type": "code",
   "execution_count": null,
   "metadata": {},
   "outputs": [],
   "source": [
    "A = perm_to_series(D,new_perms[0],'ranking_perm0')\n",
    "B = perm_to_series(D,new_perms[1],'ranking_perm1')\n",
    "pyrankability.plot.spider2(A,B,file=f'results/equity_pair_fairness.png')"
   ]
  }
 ],
 "metadata": {
  "celltoolbar": "Slideshow",
  "kernelspec": {
   "display_name": "Python 3",
   "language": "python",
   "name": "python3"
  },
  "language_info": {
   "codemirror_mode": {
    "name": "ipython",
    "version": 3
   },
   "file_extension": ".py",
   "mimetype": "text/x-python",
   "name": "python",
   "nbconvert_exporter": "python",
   "pygments_lexer": "ipython3",
   "version": "3.7.3"
  }
 },
 "nbformat": 4,
 "nbformat_minor": 4
}
